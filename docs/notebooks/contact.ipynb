{
  "nbformat": 4,
  "nbformat_minor": 0,
  "metadata": {
    "colab": {
      "name": "pipeline.ipynb",
      "provenance": []
    }
  },
  "cells": [
    {
      "cell_type": "markdown",
      "metadata": {
        "id": "xPWd_p96arvV"
      },
      "source": [
        "# Contact\n",
        "\n",
        "If after reading CASA Docs you have any questions or feedback, please [contact](https://casa.nrao.edu/index_contact.shtml) the CASA team.\n",
        "\n",
        "\n",
        "\n",
        "\n"
      ]
    }
  ]
}