{
 "cells": [
  {
   "cell_type": "markdown",
   "id": "e0321edc",
   "metadata": {},
   "source": [
    "# UV-Taper Imaging Weights\n",
    "\n",
    "UV-taper imaging weights are applied by calculating a 2D Gaussian in the UV-domain and multiplying it with the weightdensity grid (from previous stages of weighting schemes).\n",
    "\n",
    "#### General formulae\n",
    " - The relation between $\\sigma$ and the full-width-half-maximum $\\theta$ of a Gaussian is given by $\\theta = \\sigma\\sqrt{8\\ln2}$ or $\\sigma = \\frac{\\theta}{\\sqrt{8\\ln2}}$.\n",
    "(Ref : https://brainder.org/2011/08/20/gaussian-kernels-convert-fwhm-to-sigma/ )\n",
    " - For a Gaussian, the Fourier dual relationship (generalized to any number of dimensions) is given by $\\sigma_{uv} = \\frac{1}{2 \\pi \\sigma_{lm}}$  (Ref : Bracewell)\n",
    "\n",
    "These two expressions may be used to convert uvtaper inputs in either the image or uv-domain, to a $\\sigma_{uv}$ that may be used to evaluate the uv-domain Gaussian. \n",
    "\n",
    "\n",
    "## Evaluating the UV-Taper Gaussian\n",
    "\n",
    "### (1) Calculate the $\\sigma_{uv}$ of the UV-domain Gaussian\n",
    "Convert the uvtaper input information into $\\sigma$ for the uv-domain Gaussian, separately for the major and minor axes. The input uvtaper information can be given either in the image domain or uv domain.  \n",
    "\n",
    "#### Input : FWHM in the image domain : beam_radian\n",
    "The interpretation is that of convolving the existing beam with a 'uvtaper beam'. The FWHM is specified in units of angle (deg,arcmin,arcsec), converted to radians.\n",
    " - $\\theta_{lm} = $ beam_radian\n",
    " - $\\sigma_{lm} = \\frac{\\theta_{lm}}{ 2 \\sqrt{2 \\ln2}}$\n",
    " - $\\sigma_{uv} = \\frac{1}{2 \\pi \\sigma_{lm}}$\n",
    "\n",
    "#### Input : HWHM in the uv domain : beam_lambda\n",
    "The interpretation is 'uv distance' or 'baseline length' and is the half width of a Gaussian. The HWHM is specified in units of wavelength (lambda)\n",
    " - $\\theta_{uv} = 2 $ beam_lambda\n",
    " - $\\sigma_{uv}= \\frac{\\theta_{uv}}{ 2 \\sqrt{2 \\ln2}}$\n",
    "\n",
    "\n",
    "### (2) Calculate distances along the major and minor axes\n",
    "For each uv cell in the weightdensity grid, rotate the u and v vectors by -PA to get the effective distances along the major and minor axis of the uvtaper elliptical Gaussian. In this calculation, $u,v$ are in units of meters, and $u_{rot}, v_{rot}$ are in units of wavelength.  This is a rotation by -PA. \n",
    "   - $u_{rot} = \\frac{1}{\\lambda_{obs}} \\left( u~cos(pa) + v~sin(pa) \\right)$\n",
    "   - $v_{rot} = \\frac{1}{\\lambda_{obs}} \\left( - u~sin(pa) + v~cos(pa) \\right)$\n",
    " \n",
    "With this calculation, if the uvtaper Gaussian has PA=0, then $u_{rot}=u, v_{rot}=v$.\n",
    "If the uvtaper Gaussian has PA=90, then $u_{rot}=v, v_{rot}= -u$ . \n",
    "\n",
    "### (3) Evaluate the Gaussian in the UV-domain\n",
    "Evaluate the Gaussian as $e^{-\\frac{1}{2} \\left( \\frac{u_{rot}^2}{\\sigma_{uv,maj}^2} + \\frac{v_{rot}^2}{\\sigma_{uv,min}^2} \\right)}$\n",
    " \n",
    "Each uv cell in the weightdensity grid is multiplied with this evaluated Gaussian. \n",
    "\n",
    "#### Implementation in CASA : VisImagingWeight.cc\n",
    "A quantity representing $\\frac{1}{ 2 \\sigma_{uv}^2} $ is computed for both ways of specifying uvtaper. This is stored in the variable 'fact'. Following through the above math, the two input options result in the following. \n",
    " - For input as $\\theta_{lm}$, $xx = \\left( \\frac{\\pi^2}{4 \\ln2} \\right) beam_{radian}^2$\n",
    " - For input as $\\theta_{uv}/2$, $xx = \\frac{\\ln 2}{beam_{lambda}^2}$\n",
    " \n",
    "The Gaussian is then evaluated as  $e^{\\left(- u_{rot}^2 xx_{maj} - r_{rot}^2 xx_{min} \\right)}$"
   ]
  },
  {
   "cell_type": "markdown",
   "id": "0d092ef6",
   "metadata": {},
   "source": [
    "# Testing the calculations\n",
    "Let us consider a dataset with a naturally roundish PSF of beam width approximately 45 arcsec (e.g. VLA D-config at L-Band). A uniformly weighted PSF has a beam width of about 28 arcsec. The imaging cell size is therefore chosen to be 5.0arcsec. \n",
    "\n",
    "UV-taper values to test should be comparable to or larger than this natural PSF and so we choose 100 arcsec and 200 arcsec. We also test round and elliptical tapers, and start with naturally-weighted as well as uniformly-weighted PSFs.   In all cases, inputs are supplied both as the FWHM in the image domain, as well as the HWHM in the UV-domain, and the output restoring beams must be equivalent with both these input methods (to well-within the pixel size of 5.0arcsec).\n",
    "\n"
   ]
  },
  {
   "cell_type": "code",
   "execution_count": 1,
   "id": "ac29092b",
   "metadata": {},
   "outputs": [],
   "source": [
    "from casatasks import tclean,imhead\n",
    "import os, numpy"
   ]
  },
  {
   "cell_type": "code",
   "execution_count": 2,
   "id": "383887f3",
   "metadata": {},
   "outputs": [],
   "source": [
    "def convert_lm_to_uv(theta_lm):\n",
    "    \"\"\"\n",
    "    theta_lm : Full width at half maximum, in the image domain, in units of arcsec\n",
    "    \"\"\"\n",
    "    theta_uv = ( 4*numpy.log(2)/numpy.pi ) / ( (theta_lm / 3600) * numpy.pi/180.0)\n",
    "    print(\"FWHM of %3.3f arcsec maps to a FWHM of %3.3f lambda\"%(theta_lm,theta_uv))\n",
    "    return theta_uv"
   ]
  },
  {
   "cell_type": "code",
   "execution_count": 3,
   "id": "dc0a5ac1",
   "metadata": {},
   "outputs": [],
   "source": [
    "def convert_uv_to_lm(theta_uv):\n",
    "    \"\"\"\n",
    "    theta_uv : Full width at half maximum, in the uv domain, in units of lambda\n",
    "    \"\"\"\n",
    "    theta_lm  = 3600 * ( 4*numpy.log(2)/numpy.pi ) / (theta_uv * numpy.pi/180.0) \n",
    "       \n",
    "    \n",
    "    print(\"FWHM of %3.3f arcsec maps to a FWHM of %3.3f lambda\"%(theta_lm,theta_uv))\n",
    "    \n",
    "    return theta_lm"
   ]
  },
  {
   "cell_type": "code",
   "execution_count": 4,
   "id": "c3bad062",
   "metadata": {},
   "outputs": [
    {
     "name": "stdout",
     "output_type": "stream",
     "text": [
      "FWHM of 100.000 arcsec maps to a FWHM of 1820.374 lambda\n",
      "FWHM of 100.000 arcsec maps to a FWHM of 1820.374 lambda\n"
     ]
    }
   ],
   "source": [
    "convert_uv_to_lm(convert_lm_to_uv(100.0));"
   ]
  },
  {
   "cell_type": "code",
   "execution_count": 5,
   "id": "025b2fdd",
   "metadata": {},
   "outputs": [],
   "source": [
    "def dispbeam(beam):\n",
    "    \"\"\"\n",
    "    Print restoring beam info...\n",
    "    \"\"\"\n",
    "    print(\"Restoring Beam : %3.4f %s  X  %3.4f %s ,  %3.4f %s\"%(beam['major']['value'],\n",
    "                                               beam['major']['unit'],\n",
    "                                               beam['minor']['value'],\n",
    "                                               beam['minor']['unit'],\n",
    "                                               beam['positionangle']['value'],\n",
    "                                               beam['positionangle']['unit'] ))"
   ]
  },
  {
   "cell_type": "code",
   "execution_count": 6,
   "id": "092c0155",
   "metadata": {},
   "outputs": [],
   "source": [
    "def run_im(imnames,uvtapers,weighting='natural'):\n",
    "    os.system('rm -rf uvt*')\n",
    "    vis = '/export/home/riya/rurvashi/CASADATA/casatestdata/unittest/tclean/refim_point.ms'\n",
    "\n",
    "    for (imname,uvtaper) in zip(imnames,uvtapers):\n",
    "        print(\"\\n%s : uvtaper = %s\"%(imname,uvtaper))\n",
    "        tclean(vis=vis, spw='0:10', imagename=imname, \n",
    "               uvtaper=uvtaper, \n",
    "               weighting=weighting,\n",
    "               imsize=200,\n",
    "               cell='5.0arcsec',niter=0,\n",
    "               calcpsf=True,calcres=False,\n",
    "               restoration=False)\n",
    "        beam =imhead(imname+'.psf')['restoringbeam']\n",
    "        dispbeam(beam)\n",
    "\n",
    "    "
   ]
  },
  {
   "cell_type": "markdown",
   "id": "120f53d1",
   "metadata": {},
   "source": [
    "Theoretical Calculation : \n",
    "\n",
    "When a UV-taper equivalent to $\\sigma_{taper,lm}$ in the image domain is applied to pre-existing beam of width $\\sigma_{orig}$, the two beams effectively convolve with each other, resulting in a new beam whose sigma is given by $ \\sigma_{new} = \\sqrt{\\sigma_{orig}^2 + \\sigma_{taper,lm}^2} $, where $\\sigma = \\frac{\\theta}{\\sqrt{8\\ln2}}$.  This theoretical calculation is only an approximation (and usually a bad one) because the original beam is almost never an exact Gaussian. Therefore, it should be used with care. \n"
   ]
  },
  {
   "cell_type": "code",
   "execution_count": 7,
   "id": "9c1a5e45",
   "metadata": {},
   "outputs": [],
   "source": [
    "def calc_convolve(theta_orig, theta_taper):\n",
    "    \"\"\"\n",
    "    Calculate the width of a Gaussian resulting from the convolution of two Gaussians.\n",
    "    This calculation is only for a circular Gaussian.\n",
    "    Units of inputs : arcsec.\n",
    "    \"\"\"\n",
    "    arcsec_to_radians = (1/3600.0)*numpy.pi/180.0\n",
    "    sigma_orig = arcsec_to_radians * theta_orig/numpy.sqrt(8*numpy.log(2.0))\n",
    "    sigma_taper = arcsec_to_radians * theta_taper/numpy.sqrt(8*numpy.log(2.0))\n",
    "    \n",
    "    sigma_new = numpy.sqrt(sigma_orig**2 + sigma_taper**2)\n",
    "    theta_new = sigma_new * numpy.sqrt(8*numpy.log(2.0)) / arcsec_to_radians\n",
    "    \n",
    "    print(\"Convolution of FWHMs of %3.4f arcsec and %3.4f arcsec \\\n",
    "          yields %3.4f arcsec\"%(theta_orig, theta_taper, theta_new))"
   ]
  },
  {
   "cell_type": "markdown",
   "id": "9eaa6f13",
   "metadata": {},
   "source": [
    "## Tests with a round taper beam\n",
    "\n",
    "Specify the uvtaper as a single quantity, either in the image domain or in the uv domain. Run tclean with no taper, taper specified in the image domain, and taper specified in the uv-domain.  Extract and print out the restoring beam results."
   ]
  },
  {
   "cell_type": "code",
   "execution_count": 8,
   "id": "fe82de31",
   "metadata": {},
   "outputs": [
    {
     "name": "stdout",
     "output_type": "stream",
     "text": [
      "FWHM of 100.000 arcsec maps to a FWHM of 1820.374 lambda\n",
      "\n",
      "Settings for uvtaper in tclean : \n",
      "[ None,  FWHM in the image domain, HWHM in the uv-domain] \n",
      "['', '100.00arcsec', '910.19lambda']\n"
     ]
    }
   ],
   "source": [
    "imnames = ['uvt_orig' , 'uvt_taper_im' , 'uvt_taper_uv']\n",
    "\n",
    "## Round tapers\n",
    "imtaper = 100 #arcsec\n",
    "uvtapers=['' , '%3.2farcsec'%(imtaper) , '%3.2flambda'%(convert_lm_to_uv(imtaper)/2.0)]\n",
    "\n",
    "print(\"\\nSettings for uvtaper in tclean : \\n\\\n",
    "[ None,  FWHM in the image domain, HWHM in the uv-domain] \")\n",
    "print(uvtapers)"
   ]
  },
  {
   "cell_type": "markdown",
   "id": "f695d643",
   "metadata": {},
   "source": [
    "### UV Taper applied to a Natural beam"
   ]
  },
  {
   "cell_type": "code",
   "execution_count": 9,
   "id": "bf5ff2ac",
   "metadata": {
    "scrolled": true
   },
   "outputs": [
    {
     "name": "stdout",
     "output_type": "stream",
     "text": [
      "\n",
      "uvt_orig : uvtaper = \n",
      "Restoring Beam : 49.8538 arcsec  X  46.8010 arcsec ,  -87.6734 deg\n",
      "\n",
      "uvt_taper_im : uvtaper = 100.00arcsec\n",
      "Restoring Beam : 143.2574 arcsec  X  136.1750 arcsec ,  88.5291 deg\n",
      "\n",
      "uvt_taper_uv : uvtaper = 910.19lambda\n",
      "Restoring Beam : 143.2571 arcsec  X  136.1747 arcsec ,  88.5291 deg\n"
     ]
    }
   ],
   "source": [
    "run_im(imnames,uvtapers,weighting='natural')"
   ]
  },
  {
   "cell_type": "code",
   "execution_count": 10,
   "id": "0f336a28",
   "metadata": {},
   "outputs": [
    {
     "name": "stdout",
     "output_type": "stream",
     "text": [
      "Convolution of FWHMs of 50.0000 arcsec and 100.0000 arcsec           yields 111.8034 arcsec\n"
     ]
    }
   ],
   "source": [
    "calc_convolve(theta_orig=50.0, theta_taper=100.0)"
   ]
  },
  {
   "cell_type": "markdown",
   "id": "d533de78",
   "metadata": {},
   "source": [
    "### UV Taper applied to a Uniform beam"
   ]
  },
  {
   "cell_type": "code",
   "execution_count": 11,
   "id": "8e70c91f",
   "metadata": {},
   "outputs": [
    {
     "name": "stdout",
     "output_type": "stream",
     "text": [
      "\n",
      "uvt_orig : uvtaper = \n",
      "Restoring Beam : 28.2215 arcsec  X  27.3716 arcsec ,  -11.8527 deg\n",
      "\n",
      "uvt_taper_im : uvtaper = 100.00arcsec\n",
      "Restoring Beam : 100.5366 arcsec  X  100.1634 arcsec ,  55.6722 deg\n",
      "\n",
      "uvt_taper_uv : uvtaper = 910.19lambda\n",
      "Restoring Beam : 100.5363 arcsec  X  100.1631 arcsec ,  55.6722 deg\n"
     ]
    }
   ],
   "source": [
    "run_im(imnames,uvtapers,weighting='uniform')"
   ]
  },
  {
   "cell_type": "code",
   "execution_count": 12,
   "id": "438ccbd3",
   "metadata": {},
   "outputs": [
    {
     "name": "stdout",
     "output_type": "stream",
     "text": [
      "Convolution of FWHMs of 28.0000 arcsec and 100.0000 arcsec           yields 103.8460 arcsec\n"
     ]
    }
   ],
   "source": [
    "calc_convolve(theta_orig=28.0, theta_taper=100.0)"
   ]
  },
  {
   "cell_type": "markdown",
   "id": "779ebd6e",
   "metadata": {},
   "source": [
    "## Tests with an elliptical taper beam\n",
    "Specify the uvtaper as vector of quantities [bmaj.bmin,positionangle], either in the image domain or in the uv domain. Run tclean with no taper, taper specified in the image domain, and taper specified in the uv-domain.  Extract and print out the restoring beam results.\n",
    "\n",
    "For an elliptical Gaussian taper, we need to flip the inputs for the major and minor axis after conversion to the uv-domain, and rotate by 90deg."
   ]
  },
  {
   "cell_type": "code",
   "execution_count": 13,
   "id": "a22d4db0",
   "metadata": {},
   "outputs": [
    {
     "name": "stdout",
     "output_type": "stream",
     "text": [
      "FWHM of 100.000 arcsec maps to a FWHM of 1820.374 lambda\n",
      "FWHM of 200.000 arcsec maps to a FWHM of 910.187 lambda\n",
      "\n",
      "Settings for uvtaper in tclean : \n",
      "[ None,  FWHM in the image domain, HWHM in the uv-domain] \n",
      "['', ['200.00arcsec', '100.00arcsec', '30.00deg'], ['910.19lambda', '455.09lambda', '120.00deg']]\n"
     ]
    }
   ],
   "source": [
    "imnames = ['uvt_orig' , 'uvt_taper_im' , 'uvt_taper_uv']\n",
    "\n",
    "## Elliptical tapers\n",
    "imtaper_maj=200 #arcsec\n",
    "imtaper_min=100 #arcsec\n",
    "#imtaper_pa=0 #deg  (A horizontally stretched taper in the image domain)\n",
    "imtaper_pa=30 #deg  (A rotated Gaussian with PA=30deg)\n",
    "uvtapers=['' , ['%3.2farcsec'%(imtaper_maj),\n",
    "                '%3.2farcsec'%(imtaper_min) ,\n",
    "                '%3.2fdeg'%(imtaper_pa) ] , \n",
    "              ['%3.2flambda'%(convert_lm_to_uv(imtaper_min)/2.0),\n",
    "                '%3.2flambda'%(convert_lm_to_uv(imtaper_maj)/2.0) ,\n",
    "                '%3.2fdeg'%(imtaper_pa+90.0) ] ]  \n",
    "## To get the uv-domain parameters, need to flip the major and minor axis, \n",
    "## and rotate by 90deg.\n",
    "          \n",
    "    \n",
    "print(\"\\nSettings for uvtaper in tclean : \\n\\\n",
    "[ None,  FWHM in the image domain, HWHM in the uv-domain] \")\n",
    "print(uvtapers)"
   ]
  },
  {
   "cell_type": "markdown",
   "id": "f4e6f7c5",
   "metadata": {},
   "source": [
    "### UV Taper applied to a Natural beam"
   ]
  },
  {
   "cell_type": "code",
   "execution_count": 14,
   "id": "17ac7219",
   "metadata": {
    "scrolled": true
   },
   "outputs": [
    {
     "name": "stdout",
     "output_type": "stream",
     "text": [
      "\n",
      "uvt_orig : uvtaper = \n",
      "Restoring Beam : 49.8538 arcsec  X  46.8010 arcsec ,  -87.6734 deg\n",
      "\n",
      "uvt_taper_im : uvtaper = ['200.00arcsec', '100.00arcsec', '30.00deg']\n",
      "Restoring Beam : 226.6692 arcsec  X  152.2435 arcsec ,  31.6937 deg\n",
      "\n",
      "uvt_taper_uv : uvtaper = ['910.19lambda', '455.09lambda', '120.00deg']\n",
      "Restoring Beam : 226.6705 arcsec  X  152.2433 arcsec ,  31.6936 deg\n"
     ]
    }
   ],
   "source": [
    "run_im(imnames,uvtapers,weighting='natural')"
   ]
  },
  {
   "cell_type": "code",
   "execution_count": 15,
   "id": "83e9656c",
   "metadata": {},
   "outputs": [
    {
     "name": "stdout",
     "output_type": "stream",
     "text": [
      "Convolution of FWHMs of 50.0000 arcsec and 100.0000 arcsec           yields 111.8034 arcsec\n",
      "Convolution of FWHMs of 50.0000 arcsec and 200.0000 arcsec           yields 206.1553 arcsec\n"
     ]
    }
   ],
   "source": [
    "calc_convolve(theta_orig=50.0, theta_taper=100.0)\n",
    "calc_convolve(theta_orig=50.0, theta_taper=200.0)\n"
   ]
  },
  {
   "cell_type": "markdown",
   "id": "fd02e0a1",
   "metadata": {},
   "source": [
    "### UV Taper applied to a Uniform beam"
   ]
  },
  {
   "cell_type": "code",
   "execution_count": 16,
   "id": "8cd8d2ae",
   "metadata": {
    "scrolled": true
   },
   "outputs": [
    {
     "name": "stdout",
     "output_type": "stream",
     "text": [
      "\n",
      "uvt_orig : uvtaper = \n",
      "Restoring Beam : 28.2215 arcsec  X  27.3716 arcsec ,  -11.8527 deg\n",
      "\n",
      "uvt_taper_im : uvtaper = ['200.00arcsec', '100.00arcsec', '30.00deg']\n",
      "Restoring Beam : 201.1375 arcsec  X  100.6616 arcsec ,  29.9237 deg\n",
      "\n",
      "uvt_taper_uv : uvtaper = ['910.19lambda', '455.09lambda', '120.00deg']\n",
      "Restoring Beam : 201.1391 arcsec  X  100.6613 arcsec ,  29.9237 deg\n"
     ]
    }
   ],
   "source": [
    "run_im(imnames,uvtapers,weighting='uniform')"
   ]
  },
  {
   "cell_type": "code",
   "execution_count": 17,
   "id": "55928930",
   "metadata": {},
   "outputs": [
    {
     "name": "stdout",
     "output_type": "stream",
     "text": [
      "Convolution of FWHMs of 28.0000 arcsec and 100.0000 arcsec           yields 103.8460 arcsec\n",
      "Convolution of FWHMs of 28.0000 arcsec and 200.0000 arcsec           yields 201.9505 arcsec\n"
     ]
    }
   ],
   "source": [
    "calc_convolve(theta_orig=28.0, theta_taper=100.0)\n",
    "calc_convolve(theta_orig=28.0, theta_taper=200.0)\n"
   ]
  },
  {
   "cell_type": "markdown",
   "id": "6b96e6a2",
   "metadata": {},
   "source": [
    "# Conclusions\n",
    "\n",
    "- In all cases, the resulting restoring beam is the same when specified either via the FWHM in the image domain, or as the HWHM in the uv-domain. \n",
    "  - The difference in fitted restoring beam is $< 0.01~arcsec$ for a pixel size of $5.0~arcsec$ and beamwidths from 20 to 200 arcsec. \n",
    "\n",
    "- Expected results are obtained for round versus elliptical beams, showing that the rotations are implemented accurately.\n",
    "\n",
    "- Expected results are obtained when starting with a naturally weighted versus uniformly weighted PSF. This shows that the uvtaper is indeed being applied at the correct stage of weighting calculations.\n",
    "\n",
    "- Note that the value of the resulting beam size is close to the theoretical calculation (with the understanding that the theoretical calculation is always only an approximation because the pre-existing uv-coverage can never be a true Gaussian).\n"
   ]
  },
  {
   "cell_type": "code",
   "execution_count": null,
   "id": "3e8f1d7c",
   "metadata": {},
   "outputs": [],
   "source": []
  }
 ],
 "metadata": {
  "kernelspec": {
   "display_name": "Python 3 (ipykernel)",
   "language": "python",
   "name": "python3"
  },
  "language_info": {
   "codemirror_mode": {
    "name": "ipython",
    "version": 3
   },
   "file_extension": ".py",
   "mimetype": "text/x-python",
   "name": "python",
   "nbconvert_exporter": "python",
   "pygments_lexer": "ipython3",
   "version": "3.8.10"
  }
 },
 "nbformat": 4,
 "nbformat_minor": 5
}
