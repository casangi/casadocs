{
  "nbformat": 4,
  "nbformat_minor": 0,
  "metadata": {
    "colab": {
      "provenance": [],
      "include_colab_link": true
    },
    "kernelspec": {
      "name": "python3",
      "display_name": "Python 3"
    },
    "language_info": {
      "name": "python"
    }
  },
  "cells": [
    {
      "cell_type": "markdown",
      "metadata": {
        "id": "view-in-github",
        "colab_type": "text"
      },
      "source": [
        "<a href=\"https://colab.research.google.com/github/casangi/casadocs/blob/v6.5.2/docs/notebooks/citing-casa.ipynb\" target=\"_parent\"><img src=\"https://colab.research.google.com/assets/colab-badge.svg\" alt=\"Open In Colab\"/></a>"
      ]
    },
    {
      "cell_type": "markdown",
      "source": [
        "# Citing CASA\n",
        "\n",
        "Please cite the following paper if you use the CASA software:\n",
        "\n",
        "- **The CASA Team, et al., *“CASA, the Common Astronomy Software Applications for Radio Astronomy”*, PASP in press.** [arXiv:2210.02276](https://arxiv.org/abs/2210.02276). DOI: 10.1088/1538-3873/ac9642\n"
      ],
      "metadata": {
        "id": "M1otWLXbNMf0"
      }
    },
    {
      "cell_type": "markdown",
      "source": [
        "## Other relevant CASA publications\n",
        "\n",
        "- van Bemmel, I., Kettenis, M., Small, D., et al. 2022, \"*CASA on the fringe -- Development of VLBI processing capabilities for CASA*\", PASP in press. [arXiv:2210.02275](https://arxiv.org/abs/2210.02275). DOI: 10.1088/1538-3873/ac81ed\n",
        "\n",
        "- Emonts, B., Raba, R., Rau, U., et al. 2022, \"*The CASA software for radio astronomy: status update from ADASS 2020*\", Astronomical Data Analysis Software and Systems XXX, [ASP Conf. Ser., 532, 389](https://ui.adsabs.harvard.edu/abs/2022ASPC..532..389E/abstract)\n",
        "\n",
        "- Raba, R. 2020, \"*CASA Next Generation Infrastructure*\", Astronomical Data Analysis Software and Systems XXX, [ASP Conf. Ser., 532, 67](https://ui.adsabs.harvard.edu/abs/2022ASPC..532...67R/abstract)\n",
        "\n",
        "- Emonts, B., Raba, R., Moellenbrock, G., et al. 2020, \"*The CASA software for radio astronomy: status update from ADASS 2019*\", Astronomical Data Analysis Software and Systems XXIX, [ASP Conf. Ser., 527, 267](https://ui.adsabs.harvard.edu/abs/2020ASPC..527..267E/abstract)\n",
        "\n",
        "- Raba, R., Schiebel, D., Emonts, B., et al. 2020, \"*CASA 6: Modular Integration in Python*\", Astronomical Data Analysis Software and Systems XXIX, [ASP Conf. Ser., 527, 271](https://ui.adsabs.harvard.edu/abs/2020ASPC..527..271R/abstract)\n",
        "\n",
        "- Kepley, A., Tsutsumi. T., Brogan, C., et al. 2020,\"*Auto-multithresh: A General Purpose Automasking Algorithm*\", [PASP, 132, 02505](https://ui.adsabs.harvard.edu/abs/2020PASP..132b4505K/abstract)\n",
        "\n",
        "- Rau, U., Naik, N., Braun, T., 2019, \"*A Joint Deconvolution Algorithm to Combine Single-dish and Interferometer Data for Wideband Multiterm and Mosaic Imaging*\" [AJ, 158, 3](https://ui.adsabs.harvard.edu/abs/2019AJ....158....3R/abstract)\n",
        "\n",
        "- Rau, U., Bhatnagar, S., Owen, F. N., 2016, \"*Deep Wideband Single Pointings and Mosaics in Radio Interferometry*\", [AJ, 152, 124](https://ui.adsabs.harvard.edu/abs/2016AJ....152..124R/abstract)\n",
        "\n",
        "- Petry, D., CASA Development Team, 2012, \"*Analysing ALMA Data with CASA*\", Astronomical Data Analysis Software and Systems XXI, [ASP Conf. Ser., 461, 849](https://ui.adsabs.harvard.edu/abs/2012ASPC..461..849P/abstract)\n",
        "\n",
        "- McMullin, J. P., Waters, B., Schiebel, D., Young, W., & Golap, K. 2007, \"*CASA Architecture and Applications*\", Astronomical Data Analysis Software and Systems XVI, [ASP Conf. Ser. 376](https://ui.adsabs.harvard.edu/abs/2007ASPC..376..127M/abstract), ed. R. A. Shaw, F. Hill, & D. J. Bell (San Francisco, CA: ASP), 127"
      ],
      "metadata": {
        "id": "2HyuCJMSmWgX"
      }
    }
  ]
}