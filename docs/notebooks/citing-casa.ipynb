{
  "nbformat": 4,
  "nbformat_minor": 0,
  "metadata": {
    "colab": {
      "provenance": [],
      "authorship_tag": "ABX9TyNSjeU3qNlPYayK+D19ftIK",
      "include_colab_link": true
    },
    "kernelspec": {
      "name": "python3",
      "display_name": "Python 3"
    },
    "language_info": {
      "name": "python"
    }
  },
  "cells": [
    {
      "cell_type": "markdown",
      "metadata": {
        "id": "view-in-github",
        "colab_type": "text"
      },
      "source": [
        "<a href=\"https://colab.research.google.com/github/casangi/casadocs/blob/master/docs/notebooks/citing-casa.ipynb\" target=\"_parent\"><img src=\"https://colab.research.google.com/assets/colab-badge.svg\" alt=\"Open In Colab\"/></a>"
      ]
    },
    {
      "cell_type": "markdown",
      "source": [
        "# Citing CASA\n",
        "\n",
        "Please cite the following paper if you the CASA software:\n",
        "\n",
        "The CASA Team, et al., *“CASA, the Common Astronomy Software Applications for Radio Astronomy”*, PASP in press. [arXiv:2210.02276](https://arxiv.org/abs/2210.02276). DOI: 10.1088/1538-3873/ac9642\n"
      ],
      "metadata": {
        "id": "M1otWLXbNMf0"
      }
    }
  ]
}