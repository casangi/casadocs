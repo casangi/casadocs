{
  "nbformat": 4,
  "nbformat_minor": 0,
  "metadata": {
    "colab": {
      "name": "pipeline.ipynb",
      "provenance": []
    }
  },
  "cells": [
    {
      "cell_type": "markdown",
      "metadata": {
        "id": "xPWd_p96arvV"
      },
      "source": [
        "# FAQ\n",
        "\n",
        "This Section contains Frequently Asked Questions from our user community. The information in this Section contains feedback from the CASA development team, but its content is not officially validated and is at the user's discretion. We welcome [feedback](https://casa.nrao.edu/index_contact.shtml).\n",
        "\n",
        "\n",
        "\n",
        "\n"
      ]
    },
    {
      "cell_type": "markdown",
      "source": [
        "## Astropy in monolithic CASA\n",
        "\n",
        "While the CASA team recommends to install the pip-wheel version of CASA into a customized Python environment (see [modular installation instructions](introduction.ipynb#Modular-Packages)), some use cases require packages like astropy to be installed into the monolithic CASA version.\n",
        "\n",
        "To add astropy to monolithic CASA, one can use the pip3 that comes with casa. One would need to give the absolute path to pip3 inside the CASA distribution, e.g. /[full path]/casa-6.6.3-22-py3.8..el7/bin/pip3 install astropy. If not, then the OS will use the first pip3 it finds in PATH, which would install astropy in the wrong place and potentially for the wrong python version, etc. Astropy can then be run using the python syntax (see [CASA examples](../examples/community/casa6_demo.ipynb)).\n",
        "\n",
        "Keep in mind that in this case one has installed astropy into the CASA installation, so it is now available for everyone using that installation. For a shared installation with multiple users, one could install astropy twice into different paths and then modifying one of them.\n",
        "\n",
        "If the user running pip3 does not have permission to write inside the casa folder, pip will likely fall back to a --user installation and put the packages in \\$HOME/.local. This will be apparent from the messages pip prints out. If this happens, then starting casa with --user-site should find the packages installed in $HOME/.local. However, this does not allow a good separation between the environments, so is not recommended and is at the user's discretion.\n",
        "\n"
      ],
      "metadata": {
        "id": "JRyB76zB-8Ad"
      }
    }
  ]
}