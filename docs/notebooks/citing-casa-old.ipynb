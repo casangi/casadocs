{
  "nbformat": 2,
  "nbformat_minor": 0,
  "metadata": {
    "colab": {
      "name": "citing-casa.ipynb",
      "provenance": []
    }
  },
  "cells": [
    {
      "cell_type": "markdown",
      "metadata": {
      },
      "source": [
        "# CASA Citation \n",
        "\n",
        "Please cite the following paper if you the CASA software:\n",
        "\n",
        "The CASA Team, et al., “CASA, the Common Astronomy Software Applications for Radio Astronomy”, PASP in press. [arXiv:2210.02276](https://arxiv.org/abs/2210.02276).
"\n",
      ]
    }
  ]
}
