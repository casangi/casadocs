{
  "nbformat": 4,
  "nbformat_minor": 0,
  "metadata": {
    "colab": {
      "provenance": [],
      "include_colab_link": true
    },
    "kernelspec": {
      "name": "python3",
      "display_name": "Python 3"
    },
    "language_info": {
      "name": "python"
    }
  },
  "cells": [
    {
      "cell_type": "markdown",
      "metadata": {
        "id": "view-in-github",
        "colab_type": "text"
      },
      "source": [
        "<a href=\"https://colab.research.google.com/github/casangi/casadocs/blob/CAS-14318/docs/notebooks/XML612.ipynb\" target=\"_parent\"><img src=\"https://colab.research.google.com/assets/colab-badge.svg\" alt=\"Open In Colab\"/></a>"
      ]
    },
    {
      "cell_type": "markdown",
      "source": [
        "# XML information CASA 5.7.2/6.1.2\n",
        "\n",
        "[tclean parameters](../tasks61/tclean_61.rst) / [parameter explanation](../tasks61/tclean_61_par.rst)"
      ],
      "metadata": {
        "id": "9659se6X3dcn"
      }
    }
  ]
}