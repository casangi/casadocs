{
  "nbformat": 4,
  "nbformat_minor": 0,
  "metadata": {
    "colab": {
      "provenance": [],
      "include_colab_link": true
    },
    "kernelspec": {
      "name": "python3",
      "display_name": "Python 3"
    },
    "language_info": {
      "name": "python"
    }
  },
  "cells": [
    {
      "cell_type": "markdown",
      "metadata": {
        "id": "view-in-github",
        "colab_type": "text"
      },
      "source": [
        "<a href=\"https://colab.research.google.com/github/casangi/casadocs/blob/CAS-14318/docs/notebooks/XML612.ipynb\" target=\"_parent\"><img src=\"https://colab.research.google.com/assets/colab-badge.svg\" alt=\"Open In Colab\"/></a>"
      ]
    },
    {
      "cell_type": "markdown",
      "source": [
        "# XML information CASA 5.7.2/6.1.2\n",
        "\n",
        "[tclean](../tasks61/tclean_61.rst) / [parameter explanation](../tasks61/tclean_61_par.rst)\n",
        "\n",
        "[apparentsens](../tasks61/apparentsens_61_total.rst)\n",
        "\n",
        "[deconvolve](../tasks61/deconvolve_61_total.rst)\n",
        "\n",
        "[impbcor](../tasks61/impbcor_61_total.rst)\n",
        "\n",
        "[tclean new](../tasks61/tclean_61_revised_9.rst)\n",
        "\n",
        "[tclean final](../tasks61/tclean_61_revised_19.rst)\n",
        "\n",
        "[bandpass](../tasks61/bandpass_61_test2.rst)\n"
      ],
      "metadata": {
        "id": "9659se6X3dcn"
      }
    }
  ]
}