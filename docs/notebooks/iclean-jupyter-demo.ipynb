{
 "cells": [
  {
   "cell_type": "markdown",
   "id": "85a5182d",
   "metadata": {},
   "source": [
    "# First Look at Imaging\n",
    "*Modular CASA and Interactive Clean*"
   ]
  },
  {
   "cell_type": "markdown",
   "id": "4cfe4312",
   "metadata": {},
   "source": [
    "This guide is written for CASA x.x.x.x and uses Python 3.\n",
    "\n",
    "The purpose of this tutorial is to provide a first look at imaging ALMA data for those new to CASA.\n",
    "\n",
    "Data delivered by ALMA is pre-calibrated either by ARC staff or by the ALMA calibration pipeline. The delivered data is ready for imaging. This tutorial demonstrates the basic procedures that will help you complete the imaging steps.\n",
    "\n",
    "This guide covers the same material used in hands-on training sessions at [NRAO Community Days events](https://science.nrao.edu/facilities/alma/naasc-workshops/facilities/alma/community) and ALMA Data Reduction tutorials presented by NAASC staff.\n",
    "\n",
    "Previous versions of \"Imaging Tutorials for CASA Beginners\" guides can be found [here](https://casaguides.nrao.edu/index.php?title=Archived_ALMA_CASAguides). The task tclean is only available in CASA 4.7 and later, and interactive clean is only available in CASA X.X and later."
   ]
  },
  {
   "cell_type": "markdown",
   "id": "1add9da2",
   "metadata": {},
   "source": [
    "## Getting CASA\n",
    "\n",
    "If you do not already have the needed CASA Python packages installed on your machine, you will have to download and install it. We recommend using a Python `venv` for this tutorial and have supplied a `requirements.txt` for easier setup.\n",
    "\n",
    "Download and installation instructions are available [here](http://casa.nrao.edu/casa_obtaining.shtml).\n",
    "\n",
    "For this tutorial, with modular CASA, installation is as easy as a few pip installs. We've provided a 'requirements.txt' to work from that should install every necessary dependency."
   ]
  },
  {
   "cell_type": "markdown",
   "id": "66082e8b",
   "metadata": {},
   "source": [
    "### Create a virtual environment with Python3.8\n",
    "```python3.8 -m venv first_look_venv```\n",
    "\n",
    "### Activate the virtual environment\n",
    "```source first_look_venv/bin/activate```\n",
    "\n",
    "### Download necessary packages\n",
    "```pip3 install -r requirements.txt```\n"
   ]
  },
  {
   "cell_type": "markdown",
   "id": "b000d2d7",
   "metadata": {},
   "source": [
    "## Import the Needed Packages"
   ]
  },
  {
   "cell_type": "code",
   "execution_count": null,
   "id": "b1afecdf",
   "metadata": {},
   "outputs": [],
   "source": [
    "import os\n",
    "import sys\n",
    "\n",
    "from bokeh.plotting import output_notebook\n",
    "from bokeh.io import show\n",
    "from bokeh.models import Title\n",
    "from bokeh.layouts import row, column\n",
    "\n",
    "# TODO: Remove when casagui#mh/jupyter branch is merged\n",
    "# Locate custom casagui directory with Jupyter capability\n",
    "custom_casagui_path = ''\n",
    "sys.path.insert(0, os.path.abspath(custom_casagui_path))\n",
    "\n",
    "import casatasks\n",
    "from casagui.apps import InteractiveClean, MakeMask\n",
    "output_notebook()"
   ]
  },
  {
   "cell_type": "markdown",
   "id": "201e3697",
   "metadata": {},
   "source": [
    "### Display Helper function"
   ]
  },
  {
   "cell_type": "code",
   "execution_count": null,
   "id": "8f5a8b50",
   "metadata": {},
   "outputs": [],
   "source": [
    "def disp(image_path, title):\n",
    "    im = MakeMask(image_path)\n",
    "    im._cube.image().add_layout(Title(text=title, align=\"center\"), \"above\")\n",
    "    return im._cube.image()"
   ]
  },
  {
   "cell_type": "markdown",
   "id": "3e8fc3f8",
   "metadata": {},
   "source": [
    "## About the Sample Data: Continuum and N2H+ in TW Hydra\n",
    "\n",
    "The data for this example comes from ALMA Project 2011.0.00340.S, \"Searching for H2D+ in the disk of TW Hya v1.5\", for which the PI is Chunhua Qi. Part of the data for this project has been published in [Qi et al. 2013](http://adsabs.harvard.edu/abs/2013Sci...341..630Q).\n",
    "\n",
    "The original observation had three scientific objectives:\n",
    "\n",
    "1. Image the submm continuum structure in TW Hydra\n",
    "2. Image the H2D+ line structure (rest frequency 372.42138 GHz)\n",
    "3. Image the N2H+ line structure (rest frequency 372.67249 GHz)\n",
    "\n",
    "The data used in our tutorial has already been calibrated. Furthermore, to make the data set more manageable, we have reduced it in size by averaging in time and frequency. Our goal will be to image the continuum emission and the N2H+ spectral line, which is bright and well suited for demonstrating the imaging techniques.\n",
    "\n",
    "The spectral window we will image covers 234.375 MHz in bandwidth, and contains 384 channels spaced by 610 kHz. The data includes observations from 21 of the ALMA 12-m main array antennas, observed during Early Science Cycle 0.\n",
    "\n"
   ]
  },
  {
   "cell_type": "markdown",
   "id": "b919338b",
   "metadata": {},
   "source": [
    "## Getting the Data\n",
    "\n",
    "The data used in this tutorial is part of a larger data package used for NRAO calibration and imaging tutorials. If you plan on working through all of the \"First Look\" tutorials for CASA beginners, it is worth downloading the entire package now. If you plan on working through just this imaging tutorial then you can download a smaller data package (see below).\n",
    "\n",
    "The complete package (4.1G) is available here:\n",
    "\n",
    "https://bulk.cv.nrao.edu/almadata/public/working/sis14_twhya.tgz\n",
    "\n",
    "You can then unpack the data as follows:"
   ]
  },
  {
   "cell_type": "code",
   "execution_count": null,
   "id": "78e8d111",
   "metadata": {},
   "outputs": [],
   "source": [
    "!rm -rf MyTutorial\n",
    "!mkdir MyTutorial\n",
    "%cd MyTutorial"
   ]
  },
  {
   "cell_type": "code",
   "execution_count": null,
   "id": "d2e99eb1",
   "metadata": {},
   "outputs": [],
   "source": [
    "!tar -xvzf sis14_twhya.tar.gz"
   ]
  },
  {
   "cell_type": "markdown",
   "id": "6d3b7cd1",
   "metadata": {},
   "source": [
    "Alternatively, if you do not want to download the full 4.1G data package, you can download just the smaller data file (600M) needed specifically for this tutorial as follows:"
   ]
  },
  {
   "cell_type": "code",
   "execution_count": null,
   "id": "871a837f",
   "metadata": {},
   "outputs": [],
   "source": [
    "!wget -r -np -nH --cut-dirs=4 --reject \"index.html*\" https://bulk.cv.nrao.edu/almadata/public/working/sis14_twhya_calibrated_flagged.ms.tar\n",
    "!tar -xf sis14_twhya_calibrated_flagged.ms.tar"
   ]
  },
  {
   "cell_type": "markdown",
   "id": "975155da",
   "metadata": {},
   "source": [
    "Or you can download the file via your browser at the following links: https://bulk.cv.nrao.edu/almadata/public/working/sis14_twhya_calibrated_flagged.ms.tar"
   ]
  },
  {
   "cell_type": "markdown",
   "id": "9f5bf535",
   "metadata": {},
   "source": [
    "## Starting CASA\n",
    "\n",
    "At this point you should be working in a unix shell from the directory that contains the data. An \"ls\" command should show you the data file \"sis14_twhya_calibrated_flagged.ms\" in the current working directory."
   ]
  },
  {
   "cell_type": "code",
   "execution_count": null,
   "id": "eb982654",
   "metadata": {},
   "outputs": [],
   "source": [
    "pwd"
   ]
  },
  {
   "cell_type": "code",
   "execution_count": null,
   "id": "8a26e6a9",
   "metadata": {},
   "outputs": [],
   "source": [
    "!ls"
   ]
  },
  {
   "cell_type": "markdown",
   "id": "dd7c6fc0",
   "metadata": {},
   "source": [
    "Rather than using monolithic CASA like the previous tutorials, we will use a selection of its components and tools. "
   ]
  },
  {
   "cell_type": "markdown",
   "id": "fb8d960a",
   "metadata": {},
   "source": [
    "## Getting Oriented with the Data\n",
    "\n",
    "Let's examine the header information and data structure of our downloaded data set using [listobs](https://casa.nrao.edu/casadocs/latest/global-task-list/task_listobs/about). In the modular version of CASA, this is found under the `casatasks` package."
   ]
  },
  {
   "cell_type": "code",
   "execution_count": null,
   "id": "f322e3ec",
   "metadata": {},
   "outputs": [],
   "source": [
    "casatasks.listobs(vis='sis14_twhya_calibrated_flagged.ms')"
   ]
  },
  {
   "cell_type": "markdown",
   "id": "cc327177",
   "metadata": {},
   "source": [
    "## Inspecting the Data\n",
    "\n",
    "There are various ways we can inspect the data before cleaning it."
   ]
  },
  {
   "cell_type": "markdown",
   "id": "643cc13c",
   "metadata": {},
   "source": [
    "We can plot the antenna array layout for this observation with the `plotants` CASA task."
   ]
  },
  {
   "cell_type": "code",
   "execution_count": null,
   "id": "02096b97",
   "metadata": {},
   "outputs": [],
   "source": [
    "casatasks.plotants(vis='sis14_twhya_calibrated_flagged.ms/')"
   ]
  },
  {
   "cell_type": "markdown",
   "id": "9ec7fe09",
   "metadata": {},
   "source": [
    "We can also view some of the statistics of the measurement set directly with `visstat`."
   ]
  },
  {
   "cell_type": "code",
   "execution_count": null,
   "id": "9eb463b2",
   "metadata": {},
   "outputs": [],
   "source": [
    "casatasks.visstat(vis='sis14_twhya_calibrated_flagged.ms/')"
   ]
  },
  {
   "cell_type": "markdown",
   "id": "866dd197",
   "metadata": {},
   "source": [
    "## First Look at TCLEAN\n",
    "\n",
    "Before we use interactive clean, let's first look tclean (which interactive clean provides an interactive user interface to).\n",
    "\n",
    "Starting with CASA 4.7, the imaging capabilities of [clean](https://casa.nrao.edu/casadocs/latest/global-task-list/task_clean/about) have been refactored and improved in a task called [tclean](https://casa.nrao.edu/casadocs/latest/global-task-list/task_tclean/about), which is called by the user in largely the same way as clean. In the guide [TCLEAN and ALMA](https://casaguides.nrao.edu/index.php?title=TCLEAN_and_ALMA), the differences in syntax between clean and tclean are made more explicit. For reference, legacy first look guides for older versions of CASA that use clean rather than tclean or interactive clean for imaging are kept in [Archived ALMA CASAguides](https://casaguides.nrao.edu/index.php?title=Archived_ALMA_CASAguides).\n",
    "\n",
    "In this dataset, the phase calibrator is identified by field 3. Let's image this calibrator into an image file called \"phase_cal\". First, in case you've run this task before, let's remove old versions of the image that use this name. (The \".*\" is needed because imaging produces several files with the same root name)."
   ]
  },
  {
   "cell_type": "code",
   "execution_count": null,
   "id": "016f5402",
   "metadata": {},
   "outputs": [],
   "source": [
    "!rm -rf phase_cal.*"
   ]
  },
  {
   "cell_type": "markdown",
   "id": "53e484e0",
   "metadata": {},
   "source": [
    "Now we will use the task tclean to do the imaging. Here is an explanation of how we set some of the parameters; see the documentation for a complete list of tclean options.\n",
    "\n",
    "- We will first image the phase calibrator, and set the image name to \"phase_cal\". To identify the phase calibrator in a measurement set, look at the 'ScanIntent' column in the output of listobs. The phase calibrator should have the intent \"CALIBRATE_PHASE#ON_SOURCE\". In this MS, the phase calibrator is J1037-295, identified by field = \"3\".\n",
    "\n",
    "- We will use multifrequency synthesis (specmode = mfs) to make a single continuum image. Multifrequency synthesis combines data from all selected spectral channels into a single continuum image. If your observations cover a large frequency range, it is possible that the amplitude or structure of the source can change substantially with frequency. This is only a concern if the fractional bandwidth (delta_nu/nu_center) is greater than 10%. For this dataset it is not an issue. Therefore, we set deconvolver=hogbom, which uses nterms=1, telling tclean that each deconvolved component has a single amplitude at all frequencies.\n",
    "\n",
    "- We will image a single pointing, so we set gridder='standard'. If we had multiple, contiguous pointings-- or if we were simultaneously imaging 7m and 12m array data (even if only a single pointing of each)--- we would need to set gridder='mosaic'.\n",
    "\n",
    "- We set the cell size to 0.1 arcseconds, which places ~5 pixels across a beam. As a rule of thumb, we'd like ~5 pixels across the smallest direction of our elliptical beam. For a small dataset, you may be able to determine a good cell size with a quick imaging call, and note the beam calculated by tclean. For many ALMA projects, however, this could take a substantial amount of time! You can estimate what the cell size should be by looking again at the uv-coverage. Change the x-axis to uvwave, and the cell size is roughly 206265/(longest baseline in wavelengths)/(number of cells across the beam). For this MS, this works out to 0.09\", which we round up to 0.1\". As you will see, tclean reports a synthesized beam size of 0.58\" x 0.51\", making this choice just right.\n",
    "\n",
    "\n",
    "- We set the image size to 128x128 (but note that factors of 2 are not magic for CASA). This is enough to cover most of the primary beam at the observing frequency, but we might want to image a wider field for a non-point source. Image sizes can be arbitrary but should be symmetrical. Good practice is probably to round up to the nearest 10 or 100 pixels and if tclean does not like your choice, it will recommend in the logger window a better choice.\n",
    "\n",
    "Here, the tclean task will *NOT* run in interactive mode. For users familiar with clean, note that in contrast with the clean task, leaving niter (the maximum number of iterations) unset defaults to niter=0, and tclean is being told not to do any cleaning. If there are no clean components in the model -- for instance if this is the first invocation of tclean on this field and spectral window for the given set of visibilities (MS) -- then what will be created is the dirty cube or image. Here, we first run tclean with niter unset.\n",
    "\n",
    "`tclean` is again found under the `casatasks` package."
   ]
  },
  {
   "cell_type": "code",
   "execution_count": null,
   "id": "e926b855",
   "metadata": {},
   "outputs": [],
   "source": [
    "casatasks.tclean(vis='sis14_twhya_calibrated_flagged.ms',\n",
    "       imagename='phase_cal',\n",
    "       field='3',\n",
    "       spw='',\n",
    "       specmode='mfs',\n",
    "       deconvolver='hogbom',\n",
    "       gridder='standard',\n",
    "       imsize=[128,128],\n",
    "       cell=['0.1arcsec'],\n",
    "       weighting='briggs',\n",
    "       threshold='0.0mJy')"
   ]
  },
  {
   "cell_type": "markdown",
   "id": "e68ca770",
   "metadata": {},
   "source": [
    "Let's look at the generated dirty image:"
   ]
  },
  {
   "cell_type": "code",
   "execution_count": null,
   "id": "0c55a423",
   "metadata": {},
   "outputs": [],
   "source": [
    "im_dirty = disp('phase_cal.image', \"Dirty Image\")\n",
    "show(im_dirty)"
   ]
  },
  {
   "cell_type": "markdown",
   "id": "8ae1536c",
   "metadata": {},
   "source": [
    "## Actual TCLEAN Run\n",
    "\n",
    "Next, we'll actually run tclean on the image in non-interactive mode. This non-interactive mode can save you a lot of time and has the advantage of being very reproducible. Note, however, that best practice for an image with uncertain calibration and especially one with a bright source, is to clean interactively at least the first time. In the case where an image may be \"dynamic range limited\" (i.e., the quality is set by the accuracy of calibration and deconvolution) it can be hard to predict the correct threshold.\n",
    "\n",
    "For non-interactive tclean, the three main parameters to specify are the threshold at which to stop (when the maximum residual in the tclean region is lower than this threshold, tclean stops), the mask (the region in which tclean is willing to identify signal), and the maximum number of iterations. The max iterations is not strictly required and it is generally recommended that it be used as more of a failsafe. That is, set it to a number so high that if tclean gets there something has gone wrong.\n",
    "\n",
    "First let's take a stab at determining a clean mask. Look at the image you just made. All of the obvious emission is contained in a box that is bounded by pixel numbers in a range of something like (60,60) to (70,70). We'll set that box to be a mask using the \"mask\" parameter in the call to tclean. You could also set it by supplying a file (for example, one created from an earlier interactive version of tclean).\n",
    "\n",
    "Now let's determine a stopping threshold for tclean. A clean threshold several times the rms noise is usually recommended to avoid adding false sources to the deconvolved image. For this tutorial, let's set the threshold to 7mJy (a number determined by doubling the RMS noise of an off-source region of the image). That is, you do not want tclean to treat a random noise spike as a source and deconvolve it from the image. This can be particularly problematic if you are doing self-calibration (a later lesson). Finally set niter=10000, which is a lot of iterations. We expect tclean to terminate before reaching this. For our purposes this is just a big number that's designed to keep tclean from running forever."
   ]
  },
  {
   "cell_type": "markdown",
   "id": "75818264",
   "metadata": {},
   "source": [
    "Run the command again, this time with niter set to some (large) number:"
   ]
  },
  {
   "cell_type": "code",
   "execution_count": null,
   "id": "ee4e484c",
   "metadata": {},
   "outputs": [],
   "source": [
    "!rm -rf phase_cal.*"
   ]
  },
  {
   "cell_type": "code",
   "execution_count": null,
   "id": "82b5890d",
   "metadata": {},
   "outputs": [],
   "source": [
    "casatasks.tclean(vis='sis14_twhya_calibrated_flagged.ms',\n",
    "       imagename='phase_cal',\n",
    "       field='3',\n",
    "       spw='',\n",
    "       specmode='mfs',\n",
    "       gridder='standard',\n",
    "       deconvolver='hogbom',\n",
    "       imsize=[128,128],\n",
    "       cell=['0.1arcsec'],\n",
    "       mask='box [ [ 60pix , 60pix] , [70pix, 70pix ] ]',\n",
    "       weighting='briggs',\n",
    "       threshold='0mJy',\n",
    "       niter=10000)"
   ]
  },
  {
   "cell_type": "code",
   "execution_count": null,
   "id": "eda1badb",
   "metadata": {},
   "outputs": [],
   "source": [
    "im_simple_clean = disp('phase_cal.image', \"Simple Clean Image\")\n",
    "im_simple_clean_mask = disp('phase_cal.mask', \"Simple Clean Mask\")\n",
    "show(row(im_simple_clean, im_simple_clean_mask))"
   ]
  },
  {
   "cell_type": "markdown",
   "id": "89e7d2ed",
   "metadata": {},
   "source": [
    "Compared to the dirty image, we're already seeing some good improvement!"
   ]
  },
  {
   "cell_type": "code",
   "execution_count": null,
   "id": "9b28be19",
   "metadata": {},
   "outputs": [],
   "source": [
    "show(row(im_dirty, im_simple_clean))"
   ]
  },
  {
   "cell_type": "code",
   "execution_count": null,
   "id": "f618d67e",
   "metadata": {},
   "outputs": [],
   "source": [
    "!ls"
   ]
  },
  {
   "cell_type": "markdown",
   "id": "e073a22a",
   "metadata": {},
   "source": [
    "All the resulting files have the \"phase_cal\" prefix, with different extensions:\n",
    "\n",
    ".image is the final cleaned image\n",
    ".mask shows the clean mask, or the area that tclean cleaned\n",
    ".model is the set of modeled clean components used by tclean (in Jy/pixel)\n",
    ".pb shows the primary beam response\n",
    ".residual shows what was left after you stopped tclean (the \"dirty\" part of the final image)\n",
    ".psf shows the synthesized beam\n",
    ".sumwt is a single pixel image containing sum of weights per plane\n",
    "\n",
    "So much good stuff. You can look at all of these using the CASA viewer. From within CASA, the viewer can be started with \"viewer()\", or \"imview()\". You can also start the viewer as a stand-alone unix utility using the unix command \"casaviewer\". Here, let's examine the tcleaned image:"
   ]
  },
  {
   "cell_type": "markdown",
   "id": "99efffa2",
   "metadata": {},
   "source": [
    "## Experiment with TCLEAN\n",
    "\n",
    "tclean includes a lot of options. Now is a good time to get a feel for what these options can do. One option that is very commonly tweaked by the user is the weighting scheme used to grid the UV data into a fourier-plane image. This weighting was \"natural\" in the first example (by default). Try changing it to \"briggs\" here and try a few different values of the robust parameter. \n",
    "\n",
    "Remove old versions of the image in case you have run this before:"
   ]
  },
  {
   "cell_type": "code",
   "execution_count": null,
   "id": "4d554be0",
   "metadata": {},
   "outputs": [],
   "source": [
    "!rm -rf phase_cal_robust.*"
   ]
  },
  {
   "cell_type": "markdown",
   "id": "0d6f93aa",
   "metadata": {},
   "source": [
    "Call tclean with briggs weighting and robust = -1. Make a clean mask and run a few cycles of tclean, until you are happy with the level of the residuals:"
   ]
  },
  {
   "cell_type": "code",
   "execution_count": null,
   "id": "23121983",
   "metadata": {},
   "outputs": [],
   "source": [
    "casatasks.tclean(vis='sis14_twhya_calibrated_flagged.ms',\n",
    "       imagename='phase_cal_robust',\n",
    "       field='3',\n",
    "       spw='',\n",
    "       specmode='mfs',\n",
    "       gridder='standard',\n",
    "       deconvolver='hogbom',\n",
    "       imsize=[128,128],\n",
    "       cell=['0.1arcsec'],\n",
    "       weighting='briggs',\n",
    "       robust=-1.0,\n",
    "       mask='box [ [ 60pix , 60pix] , [70pix, 70pix ] ]',\n",
    "       threshold='0mJy',\n",
    "       niter=5000)"
   ]
  },
  {
   "cell_type": "code",
   "execution_count": null,
   "id": "5f1bda50",
   "metadata": {},
   "outputs": [],
   "source": [
    "im_robust = disp('phase_cal_robust.image', \"Robust Image\")\n",
    "show(im_robust)"
   ]
  },
  {
   "cell_type": "markdown",
   "id": "b7dae0c9",
   "metadata": {},
   "source": [
    "Now is a good time to experiment a bit with tclean - try imaging the other calibrators (fields 0 and 2; check the 'ScanIntent' again in the listobs output) and making the image size and cell size larger and smaller.\n",
    "\n",
    "For example, let's look at the marginally-resolved primary (flux) calibrator, Ceres (field 2; 'ScanIntent' = 'CALIBRATE_AMPLI#ON_SOURCE'):"
   ]
  },
  {
   "cell_type": "code",
   "execution_count": null,
   "id": "4bb9cced",
   "metadata": {},
   "outputs": [],
   "source": [
    "!rm -rf amp_cal_robust.*"
   ]
  },
  {
   "cell_type": "code",
   "execution_count": null,
   "id": "6daedd04",
   "metadata": {},
   "outputs": [],
   "source": [
    "casatasks.tclean(vis='sis14_twhya_calibrated_flagged.ms',\n",
    "       imagename='amp_cal_robust',\n",
    "       field='2',\n",
    "       spw='',\n",
    "       specmode='mfs',\n",
    "       gridder='standard',\n",
    "       deconvolver='hogbom',\n",
    "       imsize=[128,128],\n",
    "       cell=['0.1arcsec'],\n",
    "       weighting='briggs',\n",
    "       mask='box [ [ 60pix , 60pix] , [70pix, 70pix ] ]',\n",
    "       threshold='0mJy',\n",
    "       niter=5000)"
   ]
  },
  {
   "cell_type": "code",
   "execution_count": null,
   "id": "3ddab1d4",
   "metadata": {},
   "outputs": [],
   "source": [
    "im_robust_cal = disp('amp_cal_robust.image/', 'Robust Calibrator Image')\n",
    "show(im_robust_cal)"
   ]
  },
  {
   "cell_type": "markdown",
   "id": "16b5c84e",
   "metadata": {},
   "source": [
    "Notice that Ceres is somewhat resolved.\n",
    "\n",
    "If you try a really big pixel size you will see things break. It is recommended to have the pixel size small compared to the synthesized beam for tclean purposes (tclean quantizes the deconvolution in units of pixels). When the pixel size is big compared to the synthesized beam the imaging in general will degrade, even independent of how you tclean.\n",
    "\n",
    "Note that we have to adjust our pixel mask for the new pixel size."
   ]
  },
  {
   "cell_type": "code",
   "execution_count": null,
   "id": "eda42b86",
   "metadata": {},
   "outputs": [],
   "source": [
    "!rm -rf amp_cal_bigpix.*"
   ]
  },
  {
   "cell_type": "code",
   "execution_count": null,
   "id": "b213ffb7",
   "metadata": {},
   "outputs": [],
   "source": [
    "casatasks.tclean(vis='sis14_twhya_calibrated_flagged.ms',\n",
    "       imagename='amp_cal_bigpix',\n",
    "       field='2',\n",
    "       spw='',\n",
    "       specmode='mfs', \n",
    "       gridder='standard',\n",
    "       deconvolver='hogbom',\n",
    "       imsize=[32,32],\n",
    "       cell=['0.5arcsec'],\n",
    "       weighting='briggs',\n",
    "       mask='box [ [ 15pix , 15pix] , [18pix, 18pix ] ]',\n",
    "       threshold='0mJy',\n",
    "       niter=5000)"
   ]
  },
  {
   "cell_type": "code",
   "execution_count": null,
   "id": "92518cab",
   "metadata": {},
   "outputs": [],
   "source": [
    "im_big_pixel = disp('amp_cal_bigpix.image/', 'Big Pixel Image')\n",
    "show(im_big_pixel)"
   ]
  },
  {
   "cell_type": "markdown",
   "id": "5565cde9",
   "metadata": {},
   "source": [
    "To see the issues clearly here, compare the beam in this image to the one in the first image we made (with 5x smaller pixels)."
   ]
  },
  {
   "cell_type": "code",
   "execution_count": null,
   "id": "d6e3f397",
   "metadata": {},
   "outputs": [],
   "source": [
    "show(row(im_big_pixel, im_robust_cal))"
   ]
  },
  {
   "cell_type": "markdown",
   "id": "692d10f9",
   "metadata": {},
   "source": [
    "## ASIDE: See the effects of calibration and flagging\n",
    "\n",
    "This section gives an aside intended to demonstrate the effect of calibration. If you are focused on learning only imaging, feel free to skip this section.\n",
    "\n",
    "The data that we are imaging went through a careful and detailed calibration process. What effect did this actually have? Let's image the secondary calibrator with and without calibration and with and without flagging just to get an idea of how our processing changed the final image.\n",
    "\n",
    "First you need to copy the uncalibrated data from the working directory. This step will differ depending on where you are storing the data. The net result we want is to have a copy of the uncalibrated data in the current working directory.\n",
    "\n",
    "If you downloaded the full data package, copy the uncalibrated data to your current working directory."
   ]
  },
  {
   "cell_type": "code",
   "execution_count": null,
   "id": "c989f8fa",
   "metadata": {},
   "outputs": [],
   "source": [
    "!tar -xvf ../working/sis14_twhya_uncalibrated.ms.tar\n",
    "!rm -rf sis14_twhya_uncalibrated.ms\n",
    "!cp -r ../working/sis14_twhya_uncalibrated.ms ."
   ]
  },
  {
   "cell_type": "markdown",
   "id": "dedf01ed",
   "metadata": {},
   "source": [
    "If you downloaded only the calibrated data set, you can use \"wget\" again to download the uncalibrated data at this time:"
   ]
  },
  {
   "cell_type": "code",
   "execution_count": null,
   "id": "e1ecdad1",
   "metadata": {},
   "outputs": [],
   "source": [
    "!wget -r -np -nH --cut-dirs=4 --reject \"index.html*\" https://bulk.cv.nrao.edu/almadata/public/working/sis14_twhya_uncalibrated.ms.tar        \n",
    "!tar -xvf sis14_twhya_uncalibrated.ms.tar"
   ]
  },
  {
   "cell_type": "markdown",
   "id": "5807c395",
   "metadata": {},
   "source": [
    "Or you can download the file via your browser at the following links: https://bulk.cv.nrao.edu/almadata/public/working/sis14_twhya_uncalibrated.ms.tar\n",
    "\n",
    "Now let's TCLEAN the uncalibrated data, again focusing on the secondary calibrator (field 3) and using the same calls as before."
   ]
  },
  {
   "cell_type": "code",
   "execution_count": null,
   "id": "f1ff8c92",
   "metadata": {},
   "outputs": [],
   "source": [
    "!rm -rf phase_cal_uncalibrated.*"
   ]
  },
  {
   "cell_type": "code",
   "execution_count": null,
   "id": "63422ebc",
   "metadata": {},
   "outputs": [],
   "source": [
    "casatasks.tclean(vis='sis14_twhya_uncalibrated.ms',\n",
    "       imagename='phase_cal_uncalibrated',\n",
    "       field='3',\n",
    "       spw='',\n",
    "       specmode='mfs',\n",
    "       gridder='standard',\n",
    "       deconvolver='hogbom',\n",
    "       imsize=[128,128],\n",
    "       cell=['0.1arcsec'],\n",
    "       weighting='natural',\n",
    "       mask='box [ [ 60pix , 60pix] , [70pix, 70pix ] ]',\n",
    "       threshold='0mJy',\n",
    "       niter=5000)"
   ]
  },
  {
   "cell_type": "markdown",
   "id": "9d87d57d",
   "metadata": {},
   "source": [
    "If you can find a source to tclean then more power to you, but this is a mess. It's a good thing that we calibrated... In the raw (but still Tsys and WVR corrected) data you can see echos of the calibrator throughout the field, but the calibration is required to make the image coherent. Inspect the imaged uncalibrated data using the CASA viewer:"
   ]
  },
  {
   "cell_type": "code",
   "execution_count": null,
   "id": "00bc268c",
   "metadata": {},
   "outputs": [],
   "source": [
    "im_uncal = disp('phase_cal_uncalibrated.image', 'Uncalibrated Image')\n",
    "show(im_uncal)"
   ]
  },
  {
   "cell_type": "markdown",
   "id": "91484266",
   "metadata": {},
   "source": [
    "Now let's see the effect that flagging had on the data. Copy the unflagged data from the working directory to our local directory:"
   ]
  },
  {
   "cell_type": "code",
   "execution_count": null,
   "id": "53f9a78b",
   "metadata": {},
   "outputs": [],
   "source": [
    "!tar -xvf ../working/sis14_twhya_calibrated.ms.tar\n",
    "!rm -rf sis14_twhya_calibrated.ms\")\n",
    "!cp -r ../working/sis14_twhya_calibrated.ms ."
   ]
  },
  {
   "cell_type": "markdown",
   "id": "00323249",
   "metadata": {},
   "source": [
    "or again, using wget:"
   ]
  },
  {
   "cell_type": "code",
   "execution_count": null,
   "id": "b11a43ab",
   "metadata": {},
   "outputs": [],
   "source": [
    "!wget -r -np -nH --cut-dirs=4 --reject \"index.html*\" https://bulk.cv.nrao.edu/almadata/public/working/sis14_twhya_calibrated.ms.tar\n",
    "!tar -xvf sis14_twhya_calibrated.ms.tar"
   ]
  },
  {
   "cell_type": "markdown",
   "id": "af82bafa",
   "metadata": {},
   "source": [
    "Or you can download the file via your browser at the following links: https://bulk.cv.nrao.edu/almadata/public/working/sis14_twhya_calibrated.ms.tar\n",
    "\n",
    "Now image the calibrated but unflagged data for the secondary calibrator using the same parameters as before."
   ]
  },
  {
   "cell_type": "code",
   "execution_count": null,
   "id": "39dd3d76",
   "metadata": {},
   "outputs": [],
   "source": [
    "!rm -rf phase_cal_unflagged.*"
   ]
  },
  {
   "cell_type": "code",
   "execution_count": null,
   "id": "2935bf50",
   "metadata": {},
   "outputs": [],
   "source": [
    "casatasks.tclean(vis='sis14_twhya_calibrated.ms',\n",
    "       imagename='phase_cal_unflagged',\n",
    "       field='3',\n",
    "       spw='',\n",
    "       specmode='mfs',\n",
    "       gridder='standard',\n",
    "       deconvolver='hogbom',\n",
    "       imsize=[128,128],\n",
    "       cell=['0.1arcsec'],\n",
    "       weighting='natural',\n",
    "       mask='box [ [ 60pix , 60pix] , [70pix, 70pix ] ]',\n",
    "       threshold='0mJy',\n",
    "       niter=5000)"
   ]
  },
  {
   "cell_type": "code",
   "execution_count": null,
   "id": "4ddbfac0",
   "metadata": {},
   "outputs": [],
   "source": [
    "im_unflagged = disp(\"phase_cal_unflagged.image\", 'Unflagged Image')\n",
    "show(im_unflagged)"
   ]
  },
  {
   "cell_type": "markdown",
   "id": "dd6d305a",
   "metadata": {},
   "source": [
    "In contrast to the uncalibrated data, the unflagged data are coherent, but they have clear artifacts in the residuals. Flagging has definitely improved the quality of the data, but in overall good quality data like we have here, we can see the target source."
   ]
  },
  {
   "cell_type": "code",
   "execution_count": null,
   "id": "edad32db",
   "metadata": {},
   "outputs": [],
   "source": [
    "show(column(row(im_uncal, im_unflagged), row(im_dirty, im_simple_clean)))"
   ]
  },
  {
   "cell_type": "markdown",
   "id": "274d507f",
   "metadata": {},
   "source": [
    "## Image the Science Target\n",
    "\n",
    "Of course, the whole point of calibration is to calibrate the science data. Here, the TW Hydra observations use field 5, which we know from the output of listobs, above. As the final step in the basic imaging tutorial, let's now image the continuum in TW Hydra. First, we will \"split out\" the science data into its own data set using the CASA task split. While not strictly necessary, this is a common step that makes managing the data easier. At the same time we will smooth (i.e. average) the data in frequency using width=8 to do the averaging. This reduces the data volume without losing much information, since we are really only interested in continuum imaging at this point. Although this data set was already designed to be manageable, this smoothing trick is good to keep in mind because ALMA can produce very large data sets."
   ]
  },
  {
   "cell_type": "code",
   "execution_count": null,
   "id": "6ba2df3f",
   "metadata": {},
   "outputs": [],
   "source": [
    "!rm -rf twhya_smoothed.ms"
   ]
  },
  {
   "cell_type": "code",
   "execution_count": null,
   "id": "6b2d14c9",
   "metadata": {},
   "outputs": [],
   "source": [
    "casatasks.split(vis='sis14_twhya_calibrated_flagged.ms', field='5', width='8', outputvis='twhya_smoothed.ms', datacolumn='data')"
   ]
  },
  {
   "cell_type": "code",
   "execution_count": null,
   "id": "187a8bc2",
   "metadata": {},
   "outputs": [],
   "source": [
    "casatasks.listobs('twhya_smoothed.ms')"
   ]
  },
  {
   "cell_type": "markdown",
   "id": "7cbc5fba",
   "metadata": {},
   "source": [
    "Now make a continuum image of the split-out data. Notice that TW Hydra has now been re-labeled as field 0 in the new data set because we split out only that field. Again we will use the multifrequency synthesis mode (\"mfs\") and we will use both a somewhat smaller pixel size and a somewhat bigger image size than above (because TW Hydra is extended and the beam will be somewhat smaller due to our use of \"briggs\" weighting). Let's set a static mask again and use a threshold roughly double the RMS noise value."
   ]
  },
  {
   "cell_type": "code",
   "execution_count": null,
   "id": "15e83d83",
   "metadata": {},
   "outputs": [],
   "source": [
    "!rm -rf twhya_cont.*"
   ]
  },
  {
   "cell_type": "code",
   "execution_count": null,
   "id": "d7d4f4df",
   "metadata": {},
   "outputs": [],
   "source": [
    "casatasks.visstat(vis='twhya_smoothed.ms/')"
   ]
  },
  {
   "cell_type": "code",
   "execution_count": null,
   "id": "ee3a2fd8",
   "metadata": {},
   "outputs": [],
   "source": [
    "casatasks.tclean(vis='twhya_smoothed.ms',\n",
    "       imagename='twhya_cont',\n",
    "       field='0',\n",
    "       spw='',\n",
    "       specmode='mfs',\n",
    "       gridder='standard',\n",
    "       deconvolver='hogbom',\n",
    "       imsize=[250,250],\n",
    "       cell=['0.08arcsec'],\n",
    "       weighting='briggs',\n",
    "       robust=0.5,\n",
    "       mask='box [ [ 110pix , 110pix] , [135pix, 135pix ] ]',\n",
    "       threshold='8mJy',\n",
    "       niter=5000)"
   ]
  },
  {
   "cell_type": "markdown",
   "id": "d2b5b6f4",
   "metadata": {},
   "source": [
    "Have a look at the image - TW Hydra is very bright. The residuals aren't perfect, but we will improve them in subsequent lessons."
   ]
  },
  {
   "cell_type": "code",
   "execution_count": null,
   "id": "1319fea0",
   "metadata": {},
   "outputs": [],
   "source": [
    "im_cont = disp(\"twhya_cont.image\", \"Continuum Image\")\n",
    "show(im_cont)"
   ]
  },
  {
   "cell_type": "markdown",
   "id": "89e7771c",
   "metadata": {},
   "source": [
    "But wait! you might be asking. Didn't you say that there are spectral lines in this spectral window? Yes, the spectral window that we have imaged here as continuum also contains a N2H+ emission line. In this case, the N2H+ emission is faint enough that neglecting to flag the line channels before imaging makes no difference to the final continuum image. For this and the other continuum first look tutorials, we have thus ignored the line to focus on the basic steps of imaging and self-calibration. In general, however, you should flag channels containing emission lines in your own data prior to imaging the continuum. To see how to flag line emission prior to imaging the continuum in a spectral window, please see the more advanced tutorial at IRAS16293_Band9_-_Imaging."
   ]
  },
  {
   "cell_type": "markdown",
   "id": "13f20836",
   "metadata": {},
   "source": [
    "# Interactive Clean\n",
    "\n",
    "Let's try all of the above, but now interactively! Interactive Clean has web and native app interfaces as well, but by relying on plotting and UI packages that harness the portability of web deployment, Interactive Clean can run in Jupyter Notebooks like this!"
   ]
  },
  {
   "cell_type": "markdown",
   "id": "feb0c70c",
   "metadata": {},
   "source": [
    "## Initialize Interactive Clean\n",
    "\n",
    "First, an instance of Interactive Clean needs to be created. As you can see, many of the input parameters are similar to those of 'tclean'. That's because many of them are passed onto 'tclean' directly during iterative cleaning."
   ]
  },
  {
   "cell_type": "code",
   "execution_count": null,
   "id": "a7761f75",
   "metadata": {},
   "outputs": [],
   "source": [
    "# Output image file name\n",
    "ic_img = 'ic'\n",
    "# Remove old outputs\n",
    "os.system('rm -rf {ic_img}.* *.html *.log'.format(ic_img=ic_img))\n",
    "# Grab data\n",
    "!wget \"https://casa.nrao.edu/download/devel/casavis/data/refim_point_withline-ms.tar.gz\""
   ]
  },
  {
   "cell_type": "code",
   "execution_count": null,
   "id": "45a37c87",
   "metadata": {},
   "outputs": [],
   "source": [
    "!tar -xvf refim_point_withline-ms.tar.gz"
   ]
  },
  {
   "cell_type": "markdown",
   "id": "c8ab1cda",
   "metadata": {},
   "source": [
    "Draw a clean mask around the visible emission using the mask tools and then run tclean until the emission from the TW Hydra disk is less than or comparable to the residuals around it. In this interactive mode of cleaning, you decide when tclean should stop, and at that point you hit the red 'Stop' button. If instead you did want to clean automatically down to a threshold, you can specify a threshold that is a small multiple of the rms noise either in the call to tclean above or by typing it in to the viewer window."
   ]
  },
  {
   "cell_type": "code",
   "execution_count": null,
   "id": "f767d93f",
   "metadata": {},
   "outputs": [],
   "source": [
    "ic = InteractiveClean( vis='refim_point_withline.ms/', imagename=ic_img,\n",
    "                       imsize=512,\n",
    "                       cell='12.0arcsec',\n",
    "                       specmode='cube',\n",
    "                       interpolation='nearest',\n",
    "                       nchan=5,\n",
    "                       start='1.0GHz',\n",
    "                       width='0.2GHz',\n",
    "                       pblimit=-1e-05,\n",
    "                       deconvolver='hogbom',\n",
    "                       threshold='0.001Jy',\n",
    "                       niter=50,\n",
    "                       cycleniter=10,\n",
    "                       cyclefactor=3,\n",
    "                       scales=[0,3,10] )"
   ]
  },
  {
   "cell_type": "markdown",
   "id": "f4c1d604",
   "metadata": {},
   "source": [
    "## Start Interactive Clean\n",
    "\n",
    "To start Interactive Clean, the object created in the last cell is called. To establish the necessary websocket connections when running Interactive Clean, it'll prompt you with an ssh command that handles the port forwarding between your local computer and the remote server. If you're running IC locally, ignore this step and immediately hit `Enter`. Once you've properly established port forwarding (if necessary), hit the 'Enter' or 'Return' key when the input box to the right of the message is in focus (this should automatically be the case).\n",
    "\n",
    "This will present you with the Interactive Clean GUI in the output of the cell. If the GUI is cutoff, disable cell output scrolling (*Shift+'O'* or Cell -> Current Outputs -> Toggle Scrolling) to expand the output window.\n",
    "\n",
    "The Interactive Clean GUI is explained [here](https://casagui.readthedocs.io/en/latest/applications/interactive_clean.html#implementation). The user interface is virtually the same in a Jupyter Notebook as it is for a native webpage. The only quirk that Jupyter Notebooks introduce is that the keyboard shortcuts can be intercepted before being read by the Interactive Clean process. Before using a keyboard shortcut, make sure that the interactive clean cell output is `in focus`."
   ]
  },
  {
   "cell_type": "markdown",
   "id": "1b023e98",
   "metadata": {},
   "source": [
    "### IC GUI Basics\n",
    "\n",
    "After running the below cell, you can see that there are a number of GUI elements. Most notably, on the right is the image of the current data cube channel. It's a [Bokeh](https://bokeh.org/) plot, so you can move the plot up/down/left/right or zoom in and out. To subtract the region of interest from the image mask (which defaults to mask the whole image), select the lasso tool, and draw the mask directly on the image then hit `Ctrl + S`.\n",
    "\n",
    "\n",
    "\n",
    "\n",
    "---- \n",
    "After running the tclean task, you will be presented with the GUI as shown in Figure 2. In the TCLEAN viewer, make sure that your buttons are set to add a new oval mask region. You may need to click on the icon showing the \"R\" in an oval. Remember that the secondary calibrator has been selected because it is a point source, so at this point you should see a point source in the middle of the field. Draw an oval mask around the emission region (just the central dot). Double click inside the oval and watch it turn white (See Figure 2). When setting the clean mask, you should aim to capture the real emission and not much else. \n",
    "\n",
    "In the \"Next Action\" section of the GUI, you will notice several control buttons. Hit the green circle button to begin the cleaning process. This will run a major cycle of cleaning and then return. After the first round of cleaning, the plot displays the residual emission after the major cycle. Compare the brightness of the residuals with that of the source. When you are satisfied (or when tclean has met the residual threshold, 0 mJy by default - meaning that it stops at the first negative), click the red \"X\" and tclean will terminate. In this example, two rounds of cleaning work well. For more complex targets you may need many rounds of cleaning, and it is possible to update and add new tclean regions after each major cycle, based on the look of the residuals.\n",
    "\n",
    "Have a quick look at the files that tclean has created."
   ]
  },
  {
   "cell_type": "code",
   "execution_count": null,
   "id": "626bf8e9",
   "metadata": {},
   "outputs": [],
   "source": [
    "ic()"
   ]
  },
  {
   "cell_type": "markdown",
   "id": "4af7f4aa",
   "metadata": {},
   "source": [
    "### Be sure to hit 'STOP' before running the next cell.\n",
    "This restores the final image for subsequent viewing."
   ]
  },
  {
   "cell_type": "code",
   "execution_count": null,
   "id": "2fbde236",
   "metadata": {},
   "outputs": [],
   "source": [
    "ic.result()"
   ]
  },
  {
   "cell_type": "code",
   "execution_count": null,
   "id": "8ec97ec7",
   "metadata": {},
   "outputs": [],
   "source": [
    "im_interactive = disp(ic_img+'.image', 'Interactive Clean Image')\n",
    "show(im_interactive)"
   ]
  },
  {
   "cell_type": "markdown",
   "id": "4836ce49",
   "metadata": {},
   "source": [
    "The history for the IC session can be viewed by running the following command."
   ]
  },
  {
   "cell_type": "code",
   "execution_count": null,
   "id": "0e79669c",
   "metadata": {},
   "outputs": [],
   "source": [
    "ic.history()"
   ]
  },
  {
   "cell_type": "markdown",
   "id": "731388a8",
   "metadata": {},
   "source": [
    "## Primary Beam Correction\n",
    "\n",
    "An important subtlety of tclean (and clean) is that by default the image produced by tclean is not corrected for the primary beam (the field of view) of the individual dishes in the array. The primary beam response is typically a Gaussian with value 1 at the center of the field. To form an astronomically correct image of the sky, the output of tclean needs to be divided by this primary beam (or, in the case of mosaics, the combination of primary beam patterns used to make the mosaic). For tclean, there are two ways to do this.\n",
    "\n",
    "First, you can set the parameter pbcor = True when running tclean. This will produce an additional image with the extension .image.pbcor, which is the cleaned image corrected for the primary beam.\n",
    "\n",
    "Second, CASA stores the primary beam information needed to make this correction in the file with the .pb extension. The CASA task impbcor can be used to combine the .pb image with the output image from TCLEAN to produce a primary-beam corrected image.\n",
    "\n",
    "First remove the old primary beam corrected image if it exists"
   ]
  },
  {
   "cell_type": "code",
   "execution_count": null,
   "id": "841f0fa6",
   "metadata": {},
   "outputs": [],
   "source": [
    "!rm -rf twhya_cont_auto.*"
   ]
  },
  {
   "cell_type": "code",
   "execution_count": null,
   "id": "342d7c16",
   "metadata": {},
   "outputs": [],
   "source": [
    "casatasks.tclean(vis='twhya_smoothed.ms',\n",
    "       imagename='twhya_cont_auto',\n",
    "       field='0',\n",
    "       spw='',\n",
    "       specmode='mfs',\n",
    "       gridder='standard',\n",
    "       deconvolver='hogbom',\n",
    "       imsize=[250,250],\n",
    "       cell=['0.08arcsec'],\n",
    "       mask='box [ [ 100pix , 100pix] , [150pix, 150pix ] ]',\n",
    "       weighting='briggs',\n",
    "       robust=0.5,\n",
    "       threshold='15mJy',\n",
    "       niter=10000)"
   ]
  },
  {
   "cell_type": "markdown",
   "id": "ef0d04b4",
   "metadata": {},
   "source": [
    "Let's see what the image looks like before primary beam correction:"
   ]
  },
  {
   "cell_type": "code",
   "execution_count": null,
   "id": "7285abe2",
   "metadata": {},
   "outputs": [],
   "source": [
    "im_cont_auto = disp('twhya_cont_auto.image', \"Continuity Auto Image\")\n",
    "show(im_cont_auto)"
   ]
  },
  {
   "cell_type": "code",
   "execution_count": null,
   "id": "cf866b03",
   "metadata": {},
   "outputs": [],
   "source": [
    "!rm -rf twhya_cont_auto.pbcor.image"
   ]
  },
  {
   "cell_type": "markdown",
   "id": "f28dec2c",
   "metadata": {},
   "source": [
    "Now correct the image:"
   ]
  },
  {
   "cell_type": "code",
   "execution_count": null,
   "id": "875bed04",
   "metadata": {},
   "outputs": [],
   "source": [
    "casatasks.impbcor(imagename='twhya_cont_auto.image',\n",
    "        pbimage='twhya_cont_auto.pb',\n",
    "        outfile='twhya_cont_auto.pbcor.image',\n",
    "        mode=\"multiply\", cutoff=-1)"
   ]
  },
  {
   "cell_type": "markdown",
   "id": "38062721",
   "metadata": {},
   "source": [
    "And then compare the primary beam, uncorrected image, and corrected image:"
   ]
  },
  {
   "cell_type": "code",
   "execution_count": null,
   "id": "96bc0a95",
   "metadata": {},
   "outputs": [],
   "source": [
    "im_pbcor = disp('twhya_cont_auto.pbcor.image/', \"Beam Corrected Image\")\n",
    "im_pb = disp('twhya_cont_auto.pb/', \"Primary Beam\")\n",
    "\n",
    "show(row(im_pb, im_pbcor, im_cont_auto))"
   ]
  },
  {
   "cell_type": "markdown",
   "id": "5aa8cf82",
   "metadata": {},
   "source": [
    "It's often very convenient to work in images before primary beam correction because the noise is the same across the field (e.g., this is a clean data set to search for signal) but it's very important to remember to apply this correction before calculating fluxes or intensities for science."
   ]
  }
 ],
 "metadata": {
  "kernelspec": {
   "display_name": "Python 3 (ipykernel)",
   "language": "python",
   "name": "python3"
  },
  "language_info": {
   "codemirror_mode": {
    "name": "ipython",
    "version": 3
   },
   "file_extension": ".py",
   "mimetype": "text/x-python",
   "name": "python",
   "nbconvert_exporter": "python",
   "pygments_lexer": "ipython3",
   "version": "3.8.13"
  }
 },
 "nbformat": 4,
 "nbformat_minor": 5
}
