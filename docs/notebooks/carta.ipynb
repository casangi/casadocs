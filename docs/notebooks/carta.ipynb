{
  "nbformat": 4,
  "nbformat_minor": 0,
  "metadata": {
    "colab": {
      "name": "carta.ipynb",
      "provenance": [],
      "collapsed_sections": [
        "oFCLrZ7mkunY"
      ],
      "toc_visible": true
    }
  },
  "cells": [
    {
      "cell_type": "markdown",
      "metadata": {
        "id": "EYl8BQ_ykuoB"
      },
      "source": [
        "# CARTA \n",
        "\n",
        "CARTA is the *Cube Analysis and Rendering Tool for Astronomy*, a new image visualization and analysis tool designed for the [ALMA](https://www.almaobservatory.org/en/home/), the [VLA](https://science.nrao.edu/facilities/vla), and the [SKA pathfinders](https://www.skatelescope.org/). As image sizes continue to increase with modern telescopes, viewing an image with a local image viewer or with a remote image viewer via the ssh protocol becomes less efficient. The mission of CARTA is to provide usability and scalability for the future by utilizing modern web technologies and computing parallelization.\n",
        "\n",
        "**Download and Installation** (see https://cartavis.github.io/)\n",
        "\n",
        "CARTA is a separate application and not directly integrated with CASA.  Refer to the official [CARTA website](https://cartavis.github.io/) for download and installation instructions as well as a proper set of documentation.\n",
        "\n",
        "<div class=\"alert alert-info\">\n",
        "**Note:** CARTA does not yet offer an exact replacement for every feature in the old CASA Viewer. Many things are complete, and CARTA offers a good deal of enhanced functionality over the Viewer, but a small subset of things may still be missing. The old CASA Viewer documentation sections are included here as well for reference in situations where CARTA is not yet sufficient.\n",
        "</div>\n",
        "\n",
        "\n",
        "*Some advantages over the old CASA Viewer:*\n",
        "\n",
        "-   Much better performance, able to handle very large image cubes\n",
        "-   Modern web browser based interface allowing local and remote display options.\n",
        "-   Can display Stokes wedges.\n",
        "-   Proper display of image headers\n",
        "-   Flexibility to modify and save the layout\n",
        "-   Supports new HDF5 image format (in addition to CASA Image, MIRIAD, and FITS)\n",
        "\n",
        "\n",
        "Subsequent releases of CARTA will continue to enhance CARTA's performance. For a full overview of the current and upcoming features, see the official [CARTA website](https://cartavis.github.io/).\n",
        "\n",
        "\n",
        "![cartadisplaylight](https://github.com/casangi/casadocs/blob/master/docs/notebooks/media/carta_display_light.png?raw=1)\n",
        "\n",
        "> CARTA is developed by the Academia Sinica Institute of Astronomy and Astrophysics ([ASIAA](https://www.asiaa.sinica.edu.tw/)), the Inter-University Institute for Data Intensive Astronomy ([IDIA](https://www.idia.ac.za/)), the National Radio Astronomy Observatory ([NRAO](https://science.nrao.edu/)), and the Department of Physics, [University of Alberta.](https://www.ualberta.ca/physics/index.html)\n",
        "\n",
        "\n",
        "\n"
      ]
    },
    {
      "cell_type": "markdown",
      "metadata": {
        "id": "HKPE9bRF7JrN"
      },
      "source": [
        "## Running CARTA at NRAO\n",
        "\n",
        "The [CARTA Website](https://cartavis.github.io/) provides download links for CARTA on a variety of platforms and usage types.  CARTA is intended for more than just CASA usage and supports installation within large data warehouses and archives.  The specific usage mode relevant to most CASA users is running CARTA alongside a CASA instance to view the products produced by CASA.  The **Desktop version** of CARTA is intended for this purpose.\n",
        "\n",
        "If you are running CASA on your own laptop or workstation that you are directly using, then simply downloading and executing the *Desktop version* of CARTA for your OS is sufficient.\n",
        "\n",
        "If you are connecting to a workstation, cluster node, or any other machine via **ssh** or **VNC**, you will need to run the *Desktop version* of CARTA in *remote* mode.  This starts the CARTA backend and prints to the terminal a link that can be copied in to a web browser for connecting to the CARTA front end remotely.\n",
        "\n",
        "The following example illustrates how to run CARTA within NRAO from home:\n",
        "\n",
        "1. Connect home computer to the NRAO VPN and open a terminal\n",
        "2. (Optional) Reserve a cluster node in the [usual manner](https://info.nrao.edu/computing/guide/cluster-processing/access-and-running-jobs) \n",
        "3. `$ ssh <username>@your_cluster_node` or `$ ssh <username>@your_workstation` from your home computer\n",
        "4. `$ carta --remote`\n",
        "5. Copy the link printed to the screen to your home computer web browser\n",
        "\n",
        "<div class=\"alert alert-info\">\n",
        "**Note:** Your home computer must be on the NRAO VPN or it wont see the cluster node / workstation name.\n",
        "</div>\n",
        "\n",
        "If you want to run CARTA on a machine outside of the VPN, you must set up an ssh tunnel to get through the firewall. This can be done with the following steps (in terminal on home computer):\n",
        "\n",
        "1. `$ ssh <username>@ssh.aoc.nrao.edu`\n",
        "2. `$ ssh <username>@your_cluster_node` or `$ ssh <username>@your_workstation`\n",
        "3. `$ carta --remote --port=2000 --fport=3000`\n",
        "4. In another terminal on home computer:\n",
        "    - `ssh -f -N <username>@gygax.aoc.nrao.edu -L 2000:<cluster node>.aoc.nrao.edu:2000`\n",
        "    - `ssh -f -N <username>@gygax.aoc.nrao.edu -L 3000:<cluster node>.aoc.nrao.edu:3000`\n",
        "5. In the browser of the home computer, go to: `http://localhost:3000/?socketUrl=ws://localhost:2000`\n",
        "\n"
      ]
    }
  ]
}