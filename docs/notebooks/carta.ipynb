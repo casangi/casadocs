{
  "nbformat": 4,
  "nbformat_minor": 0,
  "metadata": {
    "colab": {
      "name": "carta.ipynb",
      "provenance": []
    },
    "language_info": {
      "name": "python"
    },
    "kernelspec": {
      "name": "python3",
      "display_name": "Python 3"
    }
  },
  "cells": [
    {
      "cell_type": "markdown",
      "metadata": {
        "id": "EYl8BQ_ykuoB"
      },
      "source": [
        "# CARTA\n",
        "\n",
        "CARTA is the *Cube Analysis and Rendering Tool for Astronomy*, a new image visualization and analysis tool designed for the [ALMA](https://www.almaobservatory.org/en/home/), the [VLA](https://science.nrao.edu/facilities/vla), and the [SKA pathfinders](https://www.skatelescope.org/). As image sizes continue to increase with modern telescopes, viewing an image with a local image viewer or with a remote image viewer via the ssh protocol becomes less efficient. The mission of CARTA is to provide usability and scalability for the future by utilizing modern web technologies and computing parallelization.\n",
        "\n",
        "**Download and Installation** (see https://cartavis.github.io/)\n",
        "\n",
        "CARTA is a separate application and not directly integrated with CASA.  Refer to the official [CARTA website](https://cartavis.org) for download and installation instructions as well as a proper set of documentation.\n",
        "\n",
        "*Some advantages over the CASA Viewer (tasks imview and msview):*\n",
        "\n",
        "-   Much better performance, able to handle very large image cubes\n",
        "-   Modern web browser based interface allowing local and remote display options.\n",
        "-   Can display Stokes wedges.\n",
        "-   Proper display of image headers\n",
        "-   Flexibility to modify and save the layout\n",
        "-   Supports new HDF5 image format (in addition to CASA Image, MIRIAD, and FITS)\n",
        "-   Rotation support for regions\n",
        "-   RMS display for spectra\n",
        "-   Better image rendering widget\n",
        "-   Better animation control\n",
        "-   Gzip image display\n",
        "\n",
        "\n",
        "Subsequent releases of CARTA will continue to enhance CARTA's performance. For a full overview of the current and upcoming features, see the official [CARTA website](https://cartavis.org).\n",
        "\n",
        "\n",
        "![cartadisplaylight](https://github.com/casangi/casadocs/blob/master/docs/notebooks/media/carta_display_light.png?raw=1)\n",
        "\n",
        "> CARTA is developed by the Academia Sinica Institute of Astronomy and Astrophysics ([ASIAA](https://www.asiaa.sinica.edu.tw/)), the Inter-University Institute for Data Intensive Astronomy ([IDIA](https://www.idia.ac.za/)), the National Radio Astronomy Observatory ([NRAO](https://science.nrao.edu/)), and the Department of Physics, [University of Alberta.](https://www.ualberta.ca/physics/index.html)\n",
        "\n",
        "\n",
        "\n"
      ]
    },
    {
      "cell_type": "markdown",
      "metadata": {
        "id": "DgtCaDrfyigo"
      },
      "source": [
        "## Remaining Capability Gaps\n",
        "\n",
        "<div class=\"alert alert-info\">\n",
        "**Note:** CARTA does not offer an exact replacement for every feature in the old CASA Viewer (tasks imview and msview), but most things are complete, and CARTA offers a good deal of enhanced functionality over the **imview** task.\n",
        "</div>\n",
        "\n",
        "*Some remaining features that are either under development for CARTA v.5, or planned for a future CARTA version:*\n",
        "\n",
        "-   Complete set of fitting tools\n",
        "-   Channel-map view\n",
        "-   RGB image overlay\n",
        "-   Python scripting\n",
        "-   Full support workspaces and workspace sharing\n",
        "-   PV plots along poly-lines\n",
        "-   Profile and histogram fitting\n",
        "-   Scalable output (SVG or PDF)\n",
        "-   Full support CRTF\n",
        "\n",
        "**Cube rotation**\n",
        "\n",
        "CARTA support the viewing of rotated cubes, but does not perform cube rotation within the software. This means that users will need to use the CASA task **imtrans** to create a rotated cube for visualization in CARTA\n",
        "\n",
        "**Interactive Clean**\n",
        "\n",
        "The CASA Viewer serves as both a stand-alone analysis platform for image artifacts, as well as an interactive front-end to control CASA execution (via interactive clean).\n",
        "\n",
        "CARTA is focused on providing image analysis to a wide variety of groups and organizations, some of which are not affiliated with CASA or only have access to the output images. Integrating CASA and CARTA together through interactive clean control would not be efficient.\n",
        "\n",
        "Instead, the CASA team is developing a separate interactive control interface for interactive cleaning within CASA. A first version of this interactive clean widget will appear in a fortcoming CASA release.\n",
        "\n",
        "**MS View**\n",
        "\n",
        "The CASA Viewer is also able to open MeasurementSet format files for raster display and flagging of visibility data. CARTA will focus solely on image format files (including FITS and HDF5). The CASA team is working to migrate MS view and PlotMS to a new unified MeasurementSet plotting and analysis utility.  More details will be provided as development progresses.\n",
        "\n",
        "\n",
        "\n",
        "---\n",
        "\n",
        "\n"
      ]
    },
    {
      "cell_type": "markdown",
      "metadata": {
        "id": "fEangkyVt4c_"
      },
      "source": [
        "## Using CARTA with CASA\n",
        "\n",
        "The [CARTA Website](https://cartavis.org) provides download links for CARTA on a variety of platforms and usage types.  CARTA is intended for more than just CASA usage and supports installation within large data warehouses and archives.  \n",
        "\n",
        "**Personal laptops or workstations**\n",
        "\n",
        "Many users expect to run CARTA alongside a CASA instance to view the products produced by CASA.  The *Stand-alone application version* of CARTA is intended for this purpose.\n",
        "\n",
        "If you are running CASA on your own laptop or workstation that you are directly using (so the machine where the data reside is the same that will render the visualization), then simply downloading and executing the *Stand-alone application* version of CARTA for your OS is sufficient.\n",
        "\n",
        "**Clusters**\n",
        "\n",
        "If you are running CASA or viewing data products on a cluster, you should have a *site deployment* of CARTA configured by your system administrator. This is a single CARTA instance that is always running at a fixed URL and allows users to connect with their institution login credentials.  \n",
        "\n",
        "Note that the stand-alone application version of CARTA may work on a cluster through ssh/VNC with the ```--no_browser``` option discussed in the next section, but the *site deployment* version is the intended distribution for this type of usage.\n",
        "\n",
        "\n",
        "\n",
        "---\n",
        "\n"
      ]
    },
    {
      "cell_type": "markdown",
      "metadata": {
        "id": "HKPE9bRF7JrN"
      },
      "source": [
        "## Running CARTA at NRAO\n",
        "\n",
        "Instructions for running CARTA within the NRAO network or by users with an NRAO account can be found [here](https://info.nrao.edu/computing/guide/cluster-processing/software).\n",
        "\n"
      ]
    }
  ]
}