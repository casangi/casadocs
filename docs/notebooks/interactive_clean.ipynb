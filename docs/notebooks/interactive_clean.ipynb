{
  "cells": [
    {
      "cell_type": "markdown",
      "metadata": {
        "id": "h14Ma5ydkunX"
      },
      "source": [
        "# Interactive Clean\n",
        "\n",
        "The new iclean task uses the cubevis package (formerly casagui) to display the iclean graphical interface in a web browser. The cubevis package and its dependencies (e.g. Bokeh, astropy), together with a new task 'iclean', is available in CASA versions >= 6.7.2.  This page describes the features of the interactive clean graphical user interface (GUI). For a description of the interactive clean (iclean) task interface please refer to the [iclean API](../api/cubevis.html#iclean).\n",
        "\n"
      ]
    },
    {
      "cell_type": "markdown",
      "metadata": {
        "id": "e5qNECFPySz4"
      },
      "source": [
        "## iclean GUI\n",
        "\n",
        "The iclean GUI is designed to support interactive image viewing, mask drawing and iteration control.  To add or modify the mask, select a drawing tool, draw a region, and then add or subtract the region from the image mask (using the toolbar buttons or keyboard shortcuts). \n",
        "\n"
      ]
    },
    {
      "cell_type": "markdown",
      "metadata": {
        "id": "QZoga81GyjWP"
      },
      "source": [
        "### GUI Main Page\n",
        "\n",
        "Key features of the GUI are summarized below:\n",
        "\n",
        "* Raster image : shows a visualization of the residual image and mask for the currently selected image, channel and stokes. \n",
        "* Content area : a large section of the GUI where different content is loaded depending on the selected tab\n",
        "* Tab selection : these tabs change the contents of the GUI area above. Currently the options are: Iteration, Spectrum, Colormap, Statistics and Automask\n",
        "* Help button : shows keyboard shortcuts\n",
        "* Log button : shows the list of tclean and deconvolve commands that iclean has run\n",
        "* Stokes selection : select which Stokes plane to display\n",
        "* Coordinates selection :  select between world and pixel coordinates\n",
        "* Mask display : controls the color of the mask and if the area is a contour or filled\n",
        "* Cursor location : displays the pixel or world coordinates at the cursor location and the corresponding value of the displayed image and mask. The keyboard shortcut 'f' can be used to freeze the locator at the current cursor position.\n",
        "* Image toolbar : these tools control how the mouse is used to interact with the image raster. The toolbar includes selection of different region drawing tools and buttons to add or subtract from the mask. \n",
        "* Status message : prints the major cycle exit criteria \n",
        "* Run / stop buttons : click to run a single major cycle (single arrow) or multiple cycles (two arrows). When running multiple cycles, click stop to stop after the current major cycle ends.\n",
        "* Channel controls : select the displayed channel by dragging the slider, typing in the channel index or clicking on the arrow buttons. The channel controls are only visible when running on cube image types.\n",
        "* Field selection : use these tabs to select between the primary image and outlier fields\n"
      ]
    },
    {
      "cell_type": "markdown",
      "metadata": {},
      "source": [
        "### GUI Tabbed Content\n",
        "\n",
        "Examples of the tabbed content and a description of their key features is provided below:\n",
        "\n",
        "* Colormap tab : this window provides adjustments for the display of the raster image. A histogram is shown for the active channel, Stokes plane and field. There are dropdown menus for the color map and scaling function. Min and Max clipping levels can be set using the text fields or by dragging the red vertical lines. The toolbar near the histogram provides tools to pan, zoom and reset the histogram display.\n",
        "* Iteration tab :  the top section of this window allows for adjustment of the iteration controls. The bottom section shows the convergence plot, which tracks changes in the peak residual, model flux and stopping threshold for the active channel, Stokes plane and field.\n",
        "* Spectrum tab : this window shows a plot of image intensity versus channel number at the location of the mouse cursor. The location can be frozen with 'f' and resets when the mouse exits and re-enters the raster area. This tab is only available when iclean is running on cube image types.\n",
        "* Automask tab : this window provides adjustments for the automasking parameters. This tab is only available if usemask='auto-multithresh' was set when first running the iclean task.\n",
        "* Statistics tab : this window provides image statistics for the active channel, Stokes plane and field.  The dropdown menu controls whether the statistics are only calculated within the mask or calculated over the entire image."
      ]
    }
  ],
  "metadata": {
    "colab": {
      "name": "image_visualization.ipynb",
      "provenance": [],
      "toc_visible": true
    },
    "language_info": {
      "name": "python"
    }
  },
  "nbformat": 4,
  "nbformat_minor": 0
}
