{
 "cells": [
  {
   "cell_type": "markdown",
   "metadata": {
    "id": "IA74VDDSef_D"
   },
   "source": [
    "\n",
    "\n",
    "\n",
    "# Numerical accuracy of uvcontsub2021\n",
    "\n",
    "This notebook is to simulate MeasurementSets with known continuum shapes (as polynomials of different order). It has functions to produce MSs including  point sources, spectral lines, noise, and polynomial continuum functions. These MSs can be used to illustrate the numerical accuracy of the task uvcontsub2021 under different simulated conditions. \n",
    "\n",
    "\n"
   ]
  },
  {
   "cell_type": "markdown",
   "metadata": {
    "id": "Df3K_XIYf3g2"
   },
   "source": [
    "# Preparations. Installs and imports.\n"
   ]
  },
  {
   "cell_type": "markdown",
   "metadata": {
    "id": "5gFAxq2kiQz0"
   },
   "source": [
    "## Install required packages"
   ]
  },
  {
   "cell_type": "code",
   "execution_count": 15,
   "metadata": {
    "colab": {
     "base_uri": "https://localhost:8080/"
    },
    "executionInfo": {
     "elapsed": 7687,
     "status": "ok",
     "timestamp": 1638548545990,
     "user": {
      "displayName": "Federico Montesino Pouzols",
      "photoUrl": "https://lh3.googleusercontent.com/a/default-user=s64",
      "userId": "09176244854140312960"
     },
     "user_tz": -60
    },
    "id": "4EMXgMBBfCl5",
    "outputId": "33b7d010-bf76-42f6-bf24-6b6bcde372a6"
   },
   "outputs": [
    {
     "name": "stdout",
     "output_type": "stream",
     "text": [
      "Running in colab, Python version 3.7.12 (default, Sep 10 2021, 00:21:48) \n",
      "[GCC 7.5.0]\n",
      "installing pre-requisite packages...\n",
      "installing casatasks...\n",
      "installing casadata...\n"
     ]
    }
   ],
   "source": [
    "if 'google.colab' in str(get_ipython()):\n",
    "  import sys\n",
    "  print(f'Running in colab, Python version {sys.version}')\n",
    "  import os\n",
    "  print(\"installing pre-requisite packages...\")\n",
    "  os.system(\"apt-get install libgfortran3\")\n",
    "  # Use wheels from CAS-13631 or CAS-13686 => nope (cp36)\n",
    "  # !pip --verbose install https://open-bamboo.nrao.edu/browse/CASA-C6B502-1/artifact/shared/Tool-wheel/casatools-6.4.3.8a13631.dev1-cp36-cp36m-manylinux2010_x86_64.whl\n",
    "  # https://open-bamboo.nrao.edu/browse/CASA-C6B502-1/artifact/shared/Task-wheel/casatasks-6.4.3.8a13631.dev1-py3-none-any.whl\n",
    "  print(\"installing casatasks...\")\n",
    "  os.system(\"pip install --extra-index-url --index-url=https://go.nrao.edu/pypi casatasks\")\n",
    "\n",
    "  print(\"installing casadata...\")\n",
    "  os.system(\"pip install --extra-index-url --index-url=https://go.nrao.edu/pypi casadata\")\n"
   ]
  },
  {
   "cell_type": "code",
   "execution_count": 16,
   "metadata": {
    "colab": {
     "base_uri": "https://localhost:8080/"
    },
    "executionInfo": {
     "elapsed": 448,
     "status": "ok",
     "timestamp": 1638548546424,
     "user": {
      "displayName": "Federico Montesino Pouzols",
      "photoUrl": "https://lh3.googleusercontent.com/a/default-user=s64",
      "userId": "09176244854140312960"
     },
     "user_tz": -60
    },
    "id": "migDf-ByCDrp",
    "outputId": "25bc9419-a16b-4818-dfe3-f8000e2d33c7"
   },
   "outputs": [
    {
     "name": "stdout",
     "output_type": "stream",
     "text": [
      "total 80\n",
      "-rw-r--r-- 1 root staff     4 Dec  3 15:35 INSTALLER\n",
      "-rw-r--r-- 1 root staff  1070 Dec  3 15:35 METADATA\n",
      "-rw-r--r-- 1 root staff 64865 Dec  3 15:35 RECORD\n",
      "-rw-r--r-- 1 root staff    10 Dec  3 15:35 top_level.txt\n",
      "-rw-r--r-- 1 root staff   150 Dec  3 15:35 WHEEL\n",
      "Wheel-Version: 1.0\n",
      "Generator: bdist_wheel (0.35.1)\n",
      "Root-Is-Purelib: false\n",
      "Tag: cp37-cp37m-manylinux_2_12_x86_64\n",
      "Tag: cp37-cp37m-manylinux2010_x86_64\n",
      "\n"
     ]
    }
   ],
   "source": [
    "!ls -l /usr/local/lib/python3.7/dist-packages/casatools-6.4.0.16.dist-info\n",
    "!cat /usr/local/lib/python3.7/dist-packages/casatools-6.4.0.16.dist-info/WHEEL\n"
   ]
  },
  {
   "cell_type": "markdown",
   "metadata": {
    "id": "B47xbRJIiUvS"
   },
   "source": [
    "## Import required CASA tasks and tools, and other packages"
   ]
  },
  {
   "cell_type": "code",
   "execution_count": 17,
   "metadata": {
    "executionInfo": {
     "elapsed": 20,
     "status": "ok",
     "timestamp": 1638548546425,
     "user": {
      "displayName": "Federico Montesino Pouzols",
      "photoUrl": "https://lh3.googleusercontent.com/a/default-user=s64",
      "userId": "09176244854140312960"
     },
     "user_tz": -60
    },
    "id": "Aj8AJGLrgsAG"
   },
   "outputs": [],
   "source": [
    "from casatools import componentlist, ctsys, measures, simulator, table\n",
    "from casatasks import flagdata, listobs\n",
    "from casatasks.private import simutil\n",
    "import numpy as np\n",
    "import glob\n",
    "import os, shutil\n",
    "\n",
    "cl = componentlist()\n",
    "sm = simulator()"
   ]
  },
  {
   "cell_type": "code",
   "execution_count": 18,
   "metadata": {
    "colab": {
     "base_uri": "https://localhost:8080/",
     "height": 35
    },
    "executionInfo": {
     "elapsed": 20,
     "status": "ok",
     "timestamp": 1638548546426,
     "user": {
      "displayName": "Federico Montesino Pouzols",
      "photoUrl": "https://lh3.googleusercontent.com/a/default-user=s64",
      "userId": "09176244854140312960"
     },
     "user_tz": -60
    },
    "id": "NkaiTdpch6l7",
    "outputId": "e949b4d5-8a96-40b9-97af-34beb3e4a114"
   },
   "outputs": [
    {
     "data": {
      "application/vnd.google.colaboratory.intrinsic+json": {
       "type": "string"
      },
      "text/plain": [
       "'/usr/local/lib/python3.7/dist-packages/casadata/__data__/alma/simmos'"
      ]
     },
     "execution_count": 18,
     "metadata": {},
     "output_type": "execute_result"
    }
   ],
   "source": [
    "# Some checks - TODO - remove\n",
    "from casatools import ctsys\n",
    "ctsys.getpath()\n",
    "ctsys.resolve('alma/simmos')"
   ]
  },
  {
   "cell_type": "markdown",
   "metadata": {
    "id": "aexYE59Ei73z"
   },
   "source": [
    "# Definition of simulation building blocks\n",
    "Uses functions from https://github.com/urvashirau/Simulation-in-CASA/blob/master/Basic_Simulation_Demo/Simulation_Script_Demo.ipynb, adapted to this set of simulations for uvcontsub."
   ]
  },
  {
   "cell_type": "markdown",
   "metadata": {
    "id": "zPyD7q_xIHxG"
   },
   "source": [
    "## Make MS structure"
   ]
  },
  {
   "cell_type": "code",
   "execution_count": 19,
   "metadata": {
    "executionInfo": {
     "elapsed": 21,
     "status": "ok",
     "timestamp": 1638548546428,
     "user": {
      "displayName": "Federico Montesino Pouzols",
      "photoUrl": "https://lh3.googleusercontent.com/a/default-user=s64",
      "userId": "09176244854140312960"
     },
     "user_tz": -60
    },
    "id": "nMfsk4WRiiHj"
   },
   "outputs": [],
   "source": [
    "def make_ms_frame(msname, ant_config, spw_params=None):\n",
    "    \"\"\" \n",
    "    Construct an empty MeasurementSet that has the desired observation setup. \n",
    "\n",
    "    ant_config: from casadata (alma/simmos) (for example  alma/simmos/aca.cycle8.cfg)\n",
    "    \"\"\" \n",
    "    ## Open the simulator\n",
    "    sm.open(ms=msname);\n",
    "\n",
    "    ## Read/create an antenna configuration. \n",
    "    ## Canned antenna config text files are located here: <casadata>/alma/simmos/*cfg\n",
    "    antennalist = os.path.join(ctsys.resolve(\"alma/simmos\"), ant_config)\n",
    "    verbose = False\n",
    "    if verbose:\n",
    "      print(f'Using antenna list file: {antennalist}')\n",
    "    \n",
    "    ## Fictitious telescopes can be simulated by specifying x, y, z, d, an, telname, antpos.\n",
    "    ##     x,y,z are locations in meters in ITRF (Earth centered) coordinates. \n",
    "    ##     d, an are lists of antenna diameter and name.\n",
    "    ##     telname and obspos are the name and coordinates of the observatory. \n",
    "    mysu = simutil.simutil()\n",
    "    (x,y,z,d,an,an2,telname, obspos) = mysu.readantenna(antennalist)\n",
    "\n",
    "    ## Set the antenna configuration\n",
    "    metool = measures()\n",
    "    sm.setconfig(telescopename=telname,\n",
    "                     x=x,\n",
    "                     y=y,\n",
    "                     z=z,\n",
    "                     dishdiameter=d,\n",
    "                     mount=['alt-az'], \n",
    "                     antname=an,\n",
    "                     coordsystem='local',\n",
    "                     referencelocation=metool.observatory(telname));\n",
    "\n",
    "    ## Set the polarization mode (this goes to the FEED subtable)\n",
    "    sm.setfeed(mode='perfect X Y', pol=['']);    # X Y / R L\n",
    "\n",
    "    ## Set the spectral window and polarization (one data-description-id). \n",
    "    ## Call multiple times with different names for multiple SPWs or pol setups.\n",
    "    sm.setspwindow(spwname=spw_params['name'],\n",
    "                   freq=spw_params['freq'],\n",
    "                   deltafreq='0.1GHz',\n",
    "                   freqresolution='0.2GHz',\n",
    "                   nchannels=spw_params['nchan'],\n",
    "                   stokes='XX YY');\n",
    "\n",
    "    ## Setup source/field information (i.e. where the observation phase center is)\n",
    "    ## Call multiple times for different pointings or source locations.\n",
    "    source_name = 'simulated_source'\n",
    "    sm.setfield(sourcename=source_name,\n",
    "                sourcedirection=metool.direction(rf='J2000',\n",
    "                                                 v0='19h59m28.5s',v1='+40d44m01.5s'));\n",
    "\n",
    "    ## Set shadow/elevation limits (if you care). These set flags.\n",
    "    sm.setlimits(shadowlimit=0.01, elevationlimit='1deg');\n",
    "\n",
    "    ## Leave autocorrelations out of the MS.\n",
    "    sm.setauto(autocorrwt=0.0);  \n",
    "\n",
    "    ## Set the integration time, and the convention to use for timerange specification\n",
    "    ## Note : It is convenient to pick the hourangle mode as all times specified in sm.observe()\n",
    "    ##        will be relative to when the source transits.\n",
    "    sm.settimes(integrationtime='2s',\n",
    "                usehourangle=True,\n",
    "                referencetime=metool.epoch('UTC','2021/10/14/00:01:02'));\n",
    "\n",
    "    ## Construct MS metadata and UVW values for one scan and ddid \n",
    "    ## Call multiple times for multiple scans.\n",
    "    ## Call this with different sourcenames (fields) and spw/pol settings as defined above.\n",
    "    ## Timesteps will be defined in intervals of 'integrationtime', between starttime and stoptime.\n",
    "    sm.observe(sourcename=source_name,\n",
    "               spwname=spw_params['name'],\n",
    "               starttime='0', \n",
    "               stoptime='+8s');\n",
    "\n",
    "    ## Close the simulator\n",
    "    sm.close()\n",
    "    \n",
    "    ## Unflag everything (unless you care about elevation/shadow flags)\n",
    "    flagdata(vis=msname, mode='unflag', flagbackup=False)"
   ]
  },
  {
   "cell_type": "markdown",
   "metadata": {
    "id": "CCG3b_GyQ5R7"
   },
   "source": [
    "## Plotting of visibilities and uv coverage"
   ]
  },
  {
   "cell_type": "code",
   "execution_count": 20,
   "metadata": {
    "executionInfo": {
     "elapsed": 20,
     "status": "ok",
     "timestamp": 1638548546428,
     "user": {
      "displayName": "Federico Montesino Pouzols",
      "photoUrl": "https://lh3.googleusercontent.com/a/default-user=s64",
      "userId": "09176244854140312960"
     },
     "user_tz": -60
    },
    "id": "17La0uyOdSGX"
   },
   "outputs": [],
   "source": [
    "def plot_ms_data(msname='sim_data.ms', myplot='uv'):\n",
    "    \"\"\"\n",
    "    Options : myplot='uv'\n",
    "              myplot='data_spectrum'\n",
    "    \"\"\"\n",
    "    from casatools import table\n",
    "    import pylab as pl\n",
    "    import numpy as np\n",
    "\n",
    "    tb = table()\n",
    "    from matplotlib.collections import LineCollection\n",
    "    tb.open(msname)\n",
    "\n",
    "    # UV coverage plot\n",
    "    if myplot=='uv':\n",
    "        pl.figure(figsize=(4,4))\n",
    "        pl.clf()\n",
    "        uvw = tb.getcol('UVW')\n",
    "        pl.plot( uvw[0], uvw[1], '.')\n",
    "        pl.plot( -uvw[0], -uvw[1], '.')\n",
    "        pl.title('UV Coverage')\n",
    "    \n",
    "    # Spectrum of chosen column. Make a linecollection out of each row in the MS.\n",
    "    if myplot=='data_spectrum' or myplot=='corr_spectrum' or myplot=='resdata_spectrum'  or myplot=='rescorr_spectrum' or myplot=='model_spectrum':\n",
    "        dats=None\n",
    "        if myplot=='data_spectrum':\n",
    "            dats = tb.getcol('DATA')\n",
    "        if myplot=='corr_spectrum':\n",
    "            dats = tb.getcol('CORRECTED_DATA')\n",
    "        if myplot=='resdata_spectrum':\n",
    "            dats = tb.getcol('DATA') - tb.getcol('MODEL_DATA') \n",
    "        if myplot=='rescorr_spectrum':\n",
    "            dats = tb.getcol('CORRECTED_DATA') - tb.getcol('MODEL_DATA') \n",
    "        if myplot=='model_spectrum':\n",
    "            dats = tb.getcol('MODEL_DATA')\n",
    "            \n",
    "        xs = np.zeros((dats.shape[2],dats.shape[1]),'int')\n",
    "        for chan in range(0,dats.shape[1]):\n",
    "            xs[:,chan] = chan\n",
    "    \n",
    "        npl = dats.shape[0]\n",
    "        fig, ax = pl.subplots(1,npl,figsize=(10,4))\n",
    "        \n",
    "        for pol in range(0,dats.shape[0]):\n",
    "            x = xs\n",
    "            y = np.abs(dats[pol,:,:]).T\n",
    "            data = np.stack(( x,y ), axis=2)\n",
    "            ax[pol].add_collection(LineCollection(data))\n",
    "            ax[pol].set_title(myplot + ' \\n pol '+str(pol))\n",
    "            ax[pol].set_xlim(x.min(), x.max())\n",
    "            ax[pol].set_ylim(y.min(), y.max())\n",
    "        pl.show()"
   ]
  },
  {
   "cell_type": "markdown",
   "metadata": {
    "id": "x-p8It4VIOp0"
   },
   "source": [
    "## Update visibilities\n",
    "Manipulate visibilities, adding components (as in the components tool), noise, spectral lines, polynomials, etc."
   ]
  },
  {
   "cell_type": "code",
   "execution_count": 21,
   "metadata": {
    "executionInfo": {
     "elapsed": 19,
     "status": "ok",
     "timestamp": 1638548546428,
     "user": {
      "displayName": "Federico Montesino Pouzols",
      "photoUrl": "https://lh3.googleusercontent.com/a/default-user=s64",
      "userId": "09176244854140312960"
     },
     "user_tz": -60
    },
    "id": "03b9RDLHLaMg"
   },
   "outputs": [],
   "source": [
    "def add_ms_gaussian_noise(ms_name, noise_level_sigma='0.1Jy'):\n",
    "   \"\"\"Adds Gaussian random noise using simulator / corrupt\"\"\"\n",
    "   try:\n",
    "      sm.openfromms(ms_name)\n",
    "      sm.setseed(4321)\n",
    "      sm.setnoise(mode='simplenoise', simplenoise=noise_level_sigma)\n",
    "      sm.corrupt()\n",
    "   finally:\n",
    "      sm.close()"
   ]
  },
  {
   "cell_type": "code",
   "execution_count": 22,
   "metadata": {
    "executionInfo": {
     "elapsed": 19,
     "status": "ok",
     "timestamp": 1638548546429,
     "user": {
      "displayName": "Federico Montesino Pouzols",
      "photoUrl": "https://lh3.googleusercontent.com/a/default-user=s64",
      "userId": "09176244854140312960"
     },
     "user_tz": -60
    },
    "id": "__KFp_JJ03OV"
   },
   "outputs": [],
   "source": [
    "def make_point_source_comp_list(cl_name, flux):\n",
    "  try:\n",
    "    cl.addcomponent(dir='J2000 19h59m28.5s +40d44m01.5s', \n",
    "                    flux=5.0,\n",
    "                    fluxunit='Jy', \n",
    "                    freq='1.415GHz',   # Try around 150Ghz?\n",
    "                    shape='point',\n",
    "                    # shape='gaussian',\n",
    "                    # majoraxis=\"5.0arcmin\", \n",
    "                    # minoraxis='2.0arcmin',\n",
    "                    # polarization='linear', / 'Stokes'\n",
    "                    spectrumtype='spectral index',  # / 'constant'\n",
    "                    index=-3.0,\n",
    "                    label='sim_point_source')\n",
    "    cl.rename(filename=cl_name)\n",
    "  finally:\n",
    "    cl.close()"
   ]
  },
  {
   "cell_type": "code",
   "execution_count": 23,
   "metadata": {
    "executionInfo": {
     "elapsed": 19,
     "status": "ok",
     "timestamp": 1638548546429,
     "user": {
      "displayName": "Federico Montesino Pouzols",
      "photoUrl": "https://lh3.googleusercontent.com/a/default-user=s64",
      "userId": "09176244854140312960"
     },
     "user_tz": -60
    },
    "id": "-jHQyuHY05jz"
   },
   "outputs": [],
   "source": [
    "def sim_from_comp_list(ms_name, cl_name):\n",
    "  \"\"\"\n",
    "  Updates the MS visibilities using simulator.predict to add\n",
    "  components from the components list\n",
    "  \n",
    "  Args:\n",
    "      ms_name: MS to modify\n",
    "      cl_name: name of components list file to simulate\n",
    "  \"\"\"\n",
    "  try:\n",
    "     sm.openfromms(ms_name)\n",
    "     sm.predict(complist=cl_name, incremental=False)\n",
    "  finally:\n",
    "     sm.close()"
   ]
  },
  {
   "cell_type": "code",
   "execution_count": 24,
   "metadata": {
    "executionInfo": {
     "elapsed": 20,
     "status": "ok",
     "timestamp": 1638548546430,
     "user": {
      "displayName": "Federico Montesino Pouzols",
      "photoUrl": "https://lh3.googleusercontent.com/a/default-user=s64",
      "userId": "09176244854140312960"
     },
     "user_tz": -60
    },
    "id": "l1ocsptzO0Mx"
   },
   "outputs": [],
   "source": [
    "def add_point_source_component(ms_name):\n",
    "   cl_name = 'sim_point_source.cl'\n",
    "   make_point_source_comp_list(cl_name=cl_name, flux=5.0)\n",
    "   sim_from_comp_list(ms_name, cl_name)\n",
    "   shutil.rmtree(cl_name)\n"
   ]
  },
  {
   "cell_type": "code",
   "execution_count": 25,
   "metadata": {
    "executionInfo": {
     "elapsed": 19,
     "status": "ok",
     "timestamp": 1638548546430,
     "user": {
      "displayName": "Federico Montesino Pouzols",
      "photoUrl": "https://lh3.googleusercontent.com/a/default-user=s64",
      "userId": "09176244854140312960"
     },
     "user_tz": -60
    },
    "id": "_zlKaBMjrucO"
   },
   "outputs": [],
   "source": [
    "def add_spectral_line(ms_name, chan_range=[60,86]):\n",
    "  \"\"\"Adds a spectral line as a Gaussian function in the range \n",
    "  of channels given\n",
    "  \n",
    "  Args:\n",
    "      ms_name: MS to modify\n",
    "      chan_range: list with indices of the first and last channel\n",
    "  \"\"\"\n",
    "  try:\n",
    "    tbtool = table()\n",
    "    tbtool.open(ms_name, nomodify=False)\n",
    "    data = tbtool.getcol('DATA')\n",
    "\n",
    "    def gauss(x, mu, sigma):\n",
    "      return np.exp(-np.power(x - mu, 2.) / (2 * np.power(sigma, 2.)))\n",
    "    x = np.linspace(-3, 3, chan_range[1]-chan_range[0])\n",
    "    bell_line = gauss(x, 0, 0.58)\n",
    "\n",
    "    ## Add same gaussian to real and imag part\n",
    "    # data has indices pol:chan:time\n",
    "    data[:,chan_range[0]:chan_range[1],:] +=\\\n",
    "      3 * (1+1j) * bell_line.reshape((1, len(bell_line),1))\n",
    "\n",
    "    tbtool.putcol('DATA', data)\n",
    "  finally:\n",
    "    tbtool.done()"
   ]
  },
  {
   "cell_type": "code",
   "execution_count": 26,
   "metadata": {
    "executionInfo": {
     "elapsed": 18,
     "status": "ok",
     "timestamp": 1638548546430,
     "user": {
      "displayName": "Federico Montesino Pouzols",
      "photoUrl": "https://lh3.googleusercontent.com/a/default-user=s64",
      "userId": "09176244854140312960"
     },
     "user_tz": -60
    },
    "id": "7zeS73pRVdjl"
   },
   "outputs": [],
   "source": [
    "def add_polynomial_cont(ms_name, pol_coeff, nchan):\n",
    "  \"\"\"\n",
    "  Update MS visibilities adding a polynomial evaluated for all channels.\n",
    "  \n",
    "  Args:\n",
    "      ms_name: MS to modify\n",
    "      pol_coeff: polynomial coefficients, evaluated [0.5, 0.25] => 0.5x + 0.25\n",
    "      nchan: number of channels in the SPW (x axis to eval polynomial)\n",
    "  \"\"\"\n",
    "  try:\n",
    "    tbtool = table()\n",
    "    tbtool.open(ms_name, nomodify=False)\n",
    "    data = tbtool.getcol('DATA')\n",
    "\n",
    "    x = np.linspace(0, 1, nchan)\n",
    "    polynomial = np.polyval(pol_coeff, x)\n",
    "    # Add same polynomial to real and imag part\n",
    "    data += 5 * (1+1j) * polynomial.reshape((1, len(polynomial),1))\n",
    "\n",
    "    tbtool.putcol('DATA', data)\n",
    "  finally:\n",
    "    tbtool.done()"
   ]
  },
  {
   "cell_type": "markdown",
   "metadata": {
    "id": "uv7isCSzmjI9"
   },
   "source": [
    "# Produce simulated datasets"
   ]
  },
  {
   "cell_type": "code",
   "execution_count": 27,
   "metadata": {
    "executionInfo": {
     "elapsed": 18,
     "status": "ok",
     "timestamp": 1638548546431,
     "user": {
      "displayName": "Federico Montesino Pouzols",
      "photoUrl": "https://lh3.googleusercontent.com/a/default-user=s64",
      "userId": "09176244854140312960"
     },
     "user_tz": -60
    },
    "id": "ZjJUjicTmii3"
   },
   "outputs": [],
   "source": [
    "def make_test_ms_alma(ms_name, noise_sigma='0.1Jy', pol_coeffs=[0.5], \n",
    "                      verbose=True):\n",
    "  \"\"\"\n",
    "  Adds a point source, a spectral line, noise, and a continuum as a polynomial\n",
    "\n",
    "  Args:\n",
    "      noise_sigma: sigma for the Gaussian noise, set to None for no noise\n",
    "      pol_coeffs: coefficients of the cont polynomial, ordered from higher to \n",
    "                  lower order\n",
    "      verbose: print and plot what is being done\n",
    "  \"\"\"\n",
    "  ant_config = 'alma.cycle8.8.cfg'\n",
    "  spw_params = {'name': \"Simulated_Band\",\n",
    "                'freq': '150GHz',\n",
    "                'nchan': 128}\n",
    "\n",
    "  make_ms_frame(ms_name, ant_config=ant_config, spw_params=spw_params)\n",
    "   \n",
    "  add_point_source_component(ms_name)\n",
    "  if verbose:\n",
    "    print('Data plots. Only point source:')\n",
    "    plot_ms_data(ms_name, 'data_spectrum')\n",
    "\n",
    "  add_spectral_line(ms_name, chan_range=[60,86])\n",
    "  if verbose:\n",
    "    print('Data plots, + spectral line, width ~20% band:')\n",
    "    plot_ms_data(ms_name, 'data_spectrum')\n",
    "\n",
    "  # polynomial order 0,1,2,3 around 0.5Jy\n",
    "  add_polynomial_cont(ms_name, pol_coeffs, spw_params['nchan'])    \n",
    "  if verbose:\n",
    "    print('Data plots + polynomial cont:')\n",
    "    plot_ms_data(ms_name, 'data_spectrum')\n",
    "\n",
    "  if noise_sigma:\n",
    "    add_ms_gaussian_noise(ms_name, noise_sigma)\n",
    "    if verbose:\n",
    "      print('Data plots + Gaussian noise:')\n",
    "      plot_ms_data(ms_name, 'data_spectrum')"
   ]
  },
  {
   "cell_type": "markdown",
   "metadata": {
    "id": "ubHeh12bzISj"
   },
   "source": [
    "## Simple MS step by step\n",
    "\n",
    "Using order 0 continuum.\n",
    "\n",
    "The structure of this MS is the one used at the moment in the task test (test_task_req_uvcontsub2021). nchan=128. The spectral line is added to channels 60-85.\n",
    "The fitspw for this would be '0:0\\~59;86\\~127'"
   ]
  },
  {
   "cell_type": "code",
   "execution_count": 28,
   "metadata": {
    "colab": {
     "base_uri": "https://localhost:8080/",
     "height": 1000
    },
    "executionInfo": {
     "elapsed": 6681,
     "status": "ok",
     "timestamp": 1638548553094,
     "user": {
      "displayName": "Federico Montesino Pouzols",
      "photoUrl": "https://lh3.googleusercontent.com/a/default-user=s64",
      "userId": "09176244854140312960"
     },
     "user_tz": -60
    },
    "id": "3oyAu-C-pI8l",
    "outputId": "2f2b9d22-2676-4051-befa-1323ed07e81d"
   },
   "outputs": [
    {
     "name": "stdout",
     "output_type": "stream",
     "text": [
      "Data plots. Only point source:\n"
     ]
    },
    {
     "data": {
      "image/png": "[encoded data removed]",
      "text/plain": [
       "<Figure size 720x288 with 2 Axes>"
      ]
     },
     "metadata": {
      "needs_background": "light"
     },
     "output_type": "display_data"
    },
    {
     "name": "stdout",
     "output_type": "stream",
     "text": [
      "Data plots, + spectral line, width ~20% band:\n"
     ]
    },
    {
     "data": {
      "image/png": "[encoded data removed]",
      "text/plain": [
       "<Figure size 720x288 with 2 Axes>"
      ]
     },
     "metadata": {
      "needs_background": "light"
     },
     "output_type": "display_data"
    },
    {
     "name": "stdout",
     "output_type": "stream",
     "text": [
      "Data plots + polynomial cont:\n"
     ]
    },
    {
     "data": {
      "image/png": "[encoded data removed]",
      "text/plain": [
       "<Figure size 720x288 with 2 Axes>"
      ]
     },
     "metadata": {
      "needs_background": "light"
     },
     "output_type": "display_data"
    },
    {
     "name": "stdout",
     "output_type": "stream",
     "text": [
      "Data plots + Gaussian noise:\n"
     ]
    },
    {
     "data": {
      "image/png": "[encoded data removed]",
      "text/plain": [
       "<Figure size 720x288 with 2 Axes>"
      ]
     },
     "metadata": {
      "needs_background": "light"
     },
     "output_type": "display_data"
    }
   ],
   "source": [
    "os.system('rm -rf sim_*.ms')\n",
    "\n",
    "ms_name = 'sim_alma_noise_cont_poly_order_0.ms'\n",
    "make_test_ms_alma(ms_name, pol_coeffs=[0.5], verbose=True)\n"
   ]
  },
  {
   "cell_type": "markdown",
   "metadata": {
    "id": "gs1_lUbYEPcD"
   },
   "source": [
    "## Some more simple test MSs"
   ]
  },
  {
   "cell_type": "code",
   "execution_count": 29,
   "metadata": {
    "colab": {
     "base_uri": "https://localhost:8080/",
     "height": 313
    },
    "executionInfo": {
     "elapsed": 2980,
     "status": "ok",
     "timestamp": 1638548556069,
     "user": {
      "displayName": "Federico Montesino Pouzols",
      "photoUrl": "https://lh3.googleusercontent.com/a/default-user=s64",
      "userId": "09176244854140312960"
     },
     "user_tz": -60
    },
    "id": "zYL5Yo7RzOG6",
    "outputId": "09a02668-5485-4527-858a-f08eed35a777"
   },
   "outputs": [
    {
     "name": "stdout",
     "output_type": "stream",
     "text": [
      "Plotting no-noise MS, with continuum as polynomial order 1\n"
     ]
    },
    {
     "data": {
      "image/png": "[encoded data removed]",
      "text/plain": [
       "<Figure size 720x288 with 2 Axes>"
      ]
     },
     "metadata": {
      "needs_background": "light"
     },
     "output_type": "display_data"
    }
   ],
   "source": [
    "# Still make a trivial order 0 without noise, for the most basic verif test\n",
    "ms_name = 'sim_alma_nonoise_cont_poly_order_0.ms'\n",
    "make_test_ms_alma(ms_name, pol_coeffs=[0.5], noise_sigma=None, verbose=False)\n",
    "\n",
    "ms_name = 'sim_alma_nonoise_cont_poly_order_1.ms'\n",
    "make_test_ms_alma(ms_name, pol_coeffs=[0.1, 0.45], noise_sigma=None, verbose=False)\n",
    "print('Plotting no-noise MS, with continuum as polynomial order 1')\n",
    "plot_ms_data(ms_name, 'data_spectrum')"
   ]
  },
  {
   "cell_type": "code",
   "execution_count": 30,
   "metadata": {
    "colab": {
     "base_uri": "https://localhost:8080/",
     "height": 524
    },
    "executionInfo": {
     "elapsed": 384,
     "status": "ok",
     "timestamp": 1638548556441,
     "user": {
      "displayName": "Federico Montesino Pouzols",
      "photoUrl": "https://lh3.googleusercontent.com/a/default-user=s64",
      "userId": "09176244854140312960"
     },
     "user_tz": -60
    },
    "id": "g8x4evqodZPm",
    "outputId": "9aceba6f-e5d5-48b1-b04e-1fbe929679d1"
   },
   "outputs": [
    {
     "name": "stdout",
     "output_type": "stream",
     "text": [
      "total 52\n",
      "-rw-r--r--  1 root root   162 Dec  3 15:44 casa-20211203-154410.log\n",
      "-rw-r--r--  1 root root   162 Dec  3 16:15 casa-20211203-161529.log\n",
      "-rw-r--r--  1 root root   162 Dec  3 16:17 casa-20211203-161708.log\n",
      "-rw-r--r--  1 root root   545 Dec  3 16:20 casa-20211203-161812.log\n",
      "-rw-r--r--  1 root root 18907 Dec  3 16:22 casa-20211203-162050.log\n",
      "drwxr-xr-x  1 root root  4096 Nov 18 14:36 sample_data\n",
      "drwxr-xr-x 15 root root  4096 Dec  3 16:22 sim_alma_noise_cont_poly_order_0.ms\n",
      "drwxr-xr-x 15 root root  4096 Dec  3 16:22 sim_alma_nonoise_cont_poly_order_0.ms\n",
      "drwxr-xr-x 15 root root  4096 Dec  3 16:22 sim_alma_nonoise_cont_poly_order_1.ms\n",
      "35M\tsim_alma_noise_cont_poly_order_0.ms\n",
      "35M\tsim_alma_nonoise_cont_poly_order_0.ms\n",
      "35M\tsim_alma_nonoise_cont_poly_order_1.ms\n",
      "105M\ttotal\n"
     ]
    },
    {
     "data": {
      "image/png": "[encoded data removed]",
      "text/plain": [
       "<Figure size 288x288 with 1 Axes>"
      ]
     },
     "metadata": {
      "needs_background": "light"
     },
     "output_type": "display_data"
    }
   ],
   "source": [
    "!ls -l\n",
    "!du -hsc *.ms\n",
    "plot_ms_data(ms_name, 'uv')"
   ]
  },
  {
   "cell_type": "code",
   "execution_count": 31,
   "metadata": {
    "colab": {
     "base_uri": "https://localhost:8080/"
    },
    "executionInfo": {
     "elapsed": 284,
     "status": "ok",
     "timestamp": 1638548556713,
     "user": {
      "displayName": "Federico Montesino Pouzols",
      "photoUrl": "https://lh3.googleusercontent.com/a/default-user=s64",
      "userId": "09176244854140312960"
     },
     "user_tz": -60
    },
    "id": "Ptw3qQ-z7msd",
    "outputId": "9d3ee943-c8d4-4205-c2ba-488e33820726"
   },
   "outputs": [
    {
     "name": "stdout",
     "output_type": "stream",
     "text": [
      "casa-20211203-154410.log  sample_data\n",
      "casa-20211203-161529.log  sim_alma_noise_cont_poly_order_0.ms\n",
      "casa-20211203-161708.log  sim_alma_nonoise_cont_poly_order_0.ms\n",
      "casa-20211203-161812.log  sim_alma_nonoise_cont_poly_order_1.ms\n",
      "casa-20211203-162050.log\n",
      "{'BeginTime': 59500.80211451902,\n",
      " 'EndTime': 59500.802207111614,\n",
      " 'IntegrationTime': 8.0,\n",
      " 'field_0': {'code': '',\n",
      "             'direction': {'m0': {'unit': 'rad', 'value': -1.0494882958398402},\n",
      "                           'm1': {'unit': 'rad', 'value': 0.7109380541842404},\n",
      "                           'refer': 'J2000',\n",
      "                           'type': 'direction'},\n",
      "             'name': 'simulated_source'},\n",
      " 'nfields': 1,\n",
      " 'numrecords': 3612,\n",
      " 'scan_1': {'0': {'BeginTime': 59500.80211451902,\n",
      "                  'EndTime': 59500.802207111614,\n",
      "                  'FieldId': 0,\n",
      "                  'FieldName': 'simulated_source',\n",
      "                  'IntegrationTime': 2.0,\n",
      "                  'SpwIds': array([0]),\n",
      "                  'StateId': 0,\n",
      "                  'nRow': 3612,\n",
      "                  'scanId': 1}},\n",
      " 'timeref': 'UTC'}\n",
      "{'BeginTime': 59500.80211451902, 'EndTime': 59500.802207111614, 'IntegrationTime': 8.0, 'field_0': {'code': '', 'direction': {'m0': {'unit': 'rad', 'value': -1.0494882958398402}, 'm1': {'unit': 'rad', 'value': 0.7109380541842404}, 'refer': 'J2000', 'type': 'direction'}, 'name': 'simulated_source'}, 'nfields': 1, 'numrecords': 3612, 'scan_1': {'0': {'BeginTime': 59500.80211451902, 'EndTime': 59500.802207111614, 'FieldId': 0, 'FieldName': 'simulated_source', 'IntegrationTime': 2.0, 'SpwIds': array([0]), 'StateId': 0, 'nRow': 3612, 'scanId': 1}}, 'timeref': 'UTC'}\n"
     ]
    }
   ],
   "source": [
    "!ls\n",
    "from casatasks import listobs\n",
    "res = listobs(vis=ms_name)\n",
    "import pprint\n",
    "pprint.pprint(res)\n",
    "print(res)"
   ]
  },
  {
   "cell_type": "markdown",
   "metadata": {
    "id": "ZBJU4xIydSvH"
   },
   "source": [
    "## Higher order polynomials\n"
   ]
  },
  {
   "cell_type": "code",
   "execution_count": 32,
   "metadata": {
    "colab": {
     "base_uri": "https://localhost:8080/",
     "height": 906
    },
    "executionInfo": {
     "elapsed": 9904,
     "status": "ok",
     "timestamp": 1638548566615,
     "user": {
      "displayName": "Federico Montesino Pouzols",
      "photoUrl": "https://lh3.googleusercontent.com/a/default-user=s64",
      "userId": "09176244854140312960"
     },
     "user_tz": -60
    },
    "id": "6FnwsU1mlZvk",
    "outputId": "9dd37a76-c4c4-42c3-dcba-1fd71559ea5e"
   },
   "outputs": [
    {
     "name": "stdout",
     "output_type": "stream",
     "text": [
      "Plotting polynomial order 1:\n"
     ]
    },
    {
     "data": {
      "image/png": "[encoded data removed]",
      "text/plain": [
       "<Figure size 720x288 with 2 Axes>"
      ]
     },
     "metadata": {
      "needs_background": "light"
     },
     "output_type": "display_data"
    },
    {
     "name": "stdout",
     "output_type": "stream",
     "text": [
      "Plotting polynomial order 2:\n"
     ]
    },
    {
     "data": {
      "image/png": "[encoded data removed]",
      "text/plain": [
       "<Figure size 720x288 with 2 Axes>"
      ]
     },
     "metadata": {
      "needs_background": "light"
     },
     "output_type": "display_data"
    },
    {
     "name": "stdout",
     "output_type": "stream",
     "text": [
      "Plotting polynomial order 3:\n"
     ]
    },
    {
     "data": {
      "image/png": "[encoded data removed]",
      "text/plain": [
       "<Figure size 720x288 with 2 Axes>"
      ]
     },
     "metadata": {
      "needs_background": "light"
     },
     "output_type": "display_data"
    }
   ],
   "source": [
    "# Giving coefficients as [0.1, 0.45] == 0.1x + 0.45\n",
    "polynomials = {1: [0.1, 0.45],\n",
    "               2: [-1, 1, 0.375],\n",
    "               3: [1, -0.75, -0.25, 0.65]\n",
    "               # Order 3 could also be of the style (not sure what type we want): \n",
    "               # [-1.35, 0, 1.5, 0.2]\n",
    "}\n",
    "for order, poly in polynomials.items():\n",
    "  ms_name = f'sim_alma_noise_cont_poly_order_{order}.ms'\n",
    "  os.system('rm -rf sim_*.cl')\n",
    "  make_test_ms_alma(ms_name, pol_coeffs=poly, verbose=False)\n",
    "  print(f'Plotting polynomial order {order}:')\n",
    "  plot_ms_data(ms_name, 'data_spectrum')"
   ]
  },
  {
   "cell_type": "code",
   "execution_count": 33,
   "metadata": {
    "colab": {
     "base_uri": "https://localhost:8080/"
    },
    "executionInfo": {
     "elapsed": 21,
     "status": "ok",
     "timestamp": 1638548566616,
     "user": {
      "displayName": "Federico Montesino Pouzols",
      "photoUrl": "https://lh3.googleusercontent.com/a/default-user=s64",
      "userId": "09176244854140312960"
     },
     "user_tz": -60
    },
    "id": "5gJFJ6tIivPG",
    "outputId": "9237dbe4-ae74-4e60-bff8-b266c11852b1"
   },
   "outputs": [
    {
     "name": "stdout",
     "output_type": "stream",
     "text": [
      "35M\tsim_alma_noise_cont_poly_order_0.ms\n",
      "35M\tsim_alma_noise_cont_poly_order_1.ms\n",
      "35M\tsim_alma_noise_cont_poly_order_2.ms\n",
      "35M\tsim_alma_noise_cont_poly_order_3.ms\n",
      "35M\tsim_alma_nonoise_cont_poly_order_0.ms\n",
      "35M\tsim_alma_nonoise_cont_poly_order_1.ms\n",
      "210M\ttotal\n"
     ]
    }
   ],
   "source": [
    "!du -hsc *.ms"
   ]
  },
  {
   "cell_type": "markdown",
   "metadata": {
    "id": "VIVJuDY_8NLz"
   },
   "source": [
    "# Continuum subtraction with uvcontsub2021\n"
   ]
  },
  {
   "cell_type": "code",
   "execution_count": 34,
   "metadata": {
    "executionInfo": {
     "elapsed": 16,
     "status": "ok",
     "timestamp": 1638548566617,
     "user": {
      "displayName": "Federico Montesino Pouzols",
      "photoUrl": "https://lh3.googleusercontent.com/a/default-user=s64",
      "userId": "09176244854140312960"
     },
     "user_tz": -60
    },
    "id": "lAMCxb2bLTMw"
   },
   "outputs": [],
   "source": [
    "# Copy files to drive if needed to work with them outside of colab\n",
    "copy_files = False\n",
    "if copy_files:\n",
    "  from google.colab import drive\n",
    "  #drive.mount('/content/drive')\n",
    "  !cp -r sim_*.ms /content/drive/MyDrive/sim_ms"
   ]
  },
  {
   "cell_type": "code",
   "execution_count": 35,
   "metadata": {
    "colab": {
     "base_uri": "https://localhost:8080/"
    },
    "executionInfo": {
     "elapsed": 16,
     "status": "ok",
     "timestamp": 1638548566617,
     "user": {
      "displayName": "Federico Montesino Pouzols",
      "photoUrl": "https://lh3.googleusercontent.com/a/default-user=s64",
      "userId": "09176244854140312960"
     },
     "user_tz": -60
    },
    "id": "mtU0YsUk8RxE",
    "outputId": "7c3db71b-3b0c-42b3-f603-9f596968d6c2"
   },
   "outputs": [
    {
     "name": "stdout",
     "output_type": "stream",
     "text": [
      "Import error, most likely related to casatasks/tools not yet includingnew uvcontsub: cannot import name 'uvcontsub2021' from 'casatasks' (/usr/local/lib/python3.7/dist-packages/casatasks/__init__.py)\n"
     ]
    }
   ],
   "source": [
    "try:\n",
    "  from casatasks import uvcontsub2021\n",
    "  fitspw='0:0~59;86~127'\n",
    "  ms_uvcont = 'uvcont_noise_sub_0'\n",
    "  uvcontsub2021(vis='sim_alma_noise_cont_poly_order_0.ms', outputvis=ms_uvcont, \n",
    "                fitorder=0, fitspw=fitspw)\n",
    "  plot_ms_data(ms_uvcont, 'data_spectrum')\n",
    "\n",
    "  ms_uvcont = 'uvcont_nonoise_sub_1.ms'\n",
    "  res = uvcontsub2021(vis='sim_alma_nonoise_cont_poly_order_1.ms', outputvis=ms_uvcont, \n",
    "                      fitorder=1, fitspw=fitspw)\n",
    "  plot_ms_data(ms_uvcont, 'data_spectrum')\n",
    "\n",
    "  ms_uvcont = 'uvcont_noise_sub_1'\n",
    "  res = uvcontsub2021(vis='sim_alma_noise_cont_poly_order_1.ms', outputvis=ms_uvcont, \n",
    "                      fitorder=1, fitspw=fitspw)\n",
    "  plot_ms_data(ms_uvcont, 'data_spectrum')\n",
    "\n",
    "  ms_uvcont = 'uvcont_noise_sub_2'\n",
    "  res = uvcontsub2021(vis='sim_alma_noise_cont_poly_order_2', outputvis=ms_uvcont, \n",
    "                      fitorder=2, fitspw=fitspw)\n",
    "\n",
    "  ms_uvcont = 'uvcont_noise_sub_3'\n",
    "  res = uvcontsub2021(vis='sim_alma_noise_cont_poly_order_3', outputvis=ms_uvcont, \n",
    "                      fitorder=3, fitspw=fitspw)\n",
    "\n",
    "except ImportError as exc:\n",
    "  print('Import error, most likely related to casatasks/tools not yet including '\n",
    "        f'new uvcontsub: {exc}')"
   ]
  }
 ],
 "metadata": {
  "colab": {
   "authorship_tag": "ABX9TyPIjvTZkd7ZCYtrkObpMJ5i",
   "collapsed_sections": [
    "zPyD7q_xIHxG",
    "CCG3b_GyQ5R7"
   ],
   "name": "simulations_uvcontsub_ALMA_WIP.ipynb",
   "provenance": [],
   "toc_visible": true
  },
  "kernelspec": {
   "display_name": "Python 3",
   "language": "python",
   "name": "python3"
  },
  "language_info": {
   "codemirror_mode": {
    "name": "ipython",
    "version": 3
   },
   "file_extension": ".py",
   "mimetype": "text/x-python",
   "name": "python",
   "nbconvert_exporter": "python",
   "pygments_lexer": "ipython3",
   "version": "3.9.7"
  }
 },
 "nbformat": 4,
 "nbformat_minor": 1
}
