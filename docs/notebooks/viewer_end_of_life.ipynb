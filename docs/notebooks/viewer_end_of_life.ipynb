{
  "cells": [
    {
      "cell_type": "markdown",
      "metadata": {
        "id": "h14Ma5ydkunX"
      },
      "source": [
        "# Viewer End-of-Life\n",
        "\n",
        "The CASA Viewer, invoked by the tasks **imview**, **msview**, or **tclean** (*interactive=True*), has long been the workhorse visualization and analysis tool for images and image cubes made with CASA. However, currently the CASA Viewer is no longer supported, despite numerous [Known Issues](introduction.ipynb#Known-Issues). The reasons for that are:\n",
        "\n",
        "- The [CARTA](https://cartavis.org/) visualization software has matured to the extent that it replaces most of the functionality of the CASA Viewer, in a much more modern software that is scalable to large data sets;\n",
        "\n",
        "- The Viewer cold is old and fragile, and would require too many development resources that are needed elsewhere.\n",
        "\n",
        "While a legacy version of the Viewer continues to be packaged with the Linux RHEL version of CASA for the moment, the Viewer has ceased to work on Mac OS ARM machines. As of CASA 6.6.5, the Viewer has therefore been removed from all Mac packages.\n"
      ]
    },
    {
      "cell_type": "markdown",
      "metadata": {
        "id": "e5qNECFPySz4"
      },
      "source": [
        "## Viewer on Mac\n",
        "\n",
        "The CASA Viewer no longer launches on Mac OS 13 and 14 machines that run on ARM chips, returning the error:\n",
        "```\n",
        "Library not loaded: /System/Library/Frameworks/Carbon.framework/Versions/A/Frameworks/Print.framework/Versions/A/Print\n",
        "```\n",
        "\n",
        "Therefore, the CASA Viewer is no longer included on ARM builds for OS 13 and 14. For CASA versions 6.5.6 - 6.6.4,the Mac OS 12 Intel version (including the Viewer) is known to work on OS 13, but not 14. As of CASA 6.6.5, the Viewer has been removed alltogether for all Mac OS builds (OS 12+).\n",
        "\n",
        "For all image and image cube visualization, please use the [CARTA](https://cartavis.org/) visualization software. \n",
        "\n",
        "For interactive cleaning see the section below for details.\n"
      ]
    },
    {
      "cell_type": "markdown",
      "metadata": {
        "id": "0rsjdVFsyWaH"
      },
      "source": [
        "## CARTA\n",
        "\n",
        "CARTA is the *Cube Analysis and Rendering Tool for Astronomy*, new image visualization and analysis tool designed for the [ALMA](https://www.almaobservatory.org/en/home/), the [VLA](https://science.nrao.edu/facilities/vla), and the [SKA pathfinders](https://www.skatelescope.org/).\n",
        "\n",
        "CARTA is a separate, external application and not directly integrated with CASA. CARTA offers most of the functionality of the CASA Viewer, and has additional advantages and functionality. More details can be found on the dedicated [CARTA page](../notebooks/carta.ipynb) in CASA Docs.\n",
        "\n",
        "We refer to the official [CARTA website](https://cartavis.org) for download and installation instructions, as well as a proper set of documentation.\n",
        "\n"
      ]
    },
    {
      "cell_type": "markdown",
      "metadata": {
        "id": "QZoga81GyjWP"
      },
      "source": [
        "## Interactive cleaning\n",
        "\n",
        "The CASA Viewer provided interactive cleaning functionality for the tasks **tclean**, **deconvolve** and **sdintimaging**.  Therefore, these tasks will not work in interactive mode on Mac OS (except for the Mac OS 12 Intel version up to CASA 6.6.4). \n",
        "\n",
        "The CASA team has developed a new task to replace the functionality of interactive tclean, which we are calling [iclean](interactive_clean.ipynb). Note that the new iclean task does not yet provide interactive modes for **deconvolve** and **sdintimaging** and please be aware of the current [Known Issues](interactive_clean.ipynb#Known-Issues).\n",
        "\n",
        "Using the new iclean is one potential solution for MacOS users who wish to clean interactively. Depending on your specific architecture and OS version, other solutions may include: running interactive tclean from an older version of CASA, running the Linux build of CASA on a virtual machine or using a remote Linux machine. Users could also consider running tclean in a pseudo-interactive mode where the initial images are produced by tclean with *interactive=False* and *niter=0*, masks are drawn in CARTA and saved as region files, then tclean is provided these regions via the mask parameter and re-started with *niter* > 0.\n"
      ]
    }
  ],
  "metadata": {
    "colab": {
      "name": "image_visualization.ipynb",
      "provenance": [],
      "toc_visible": true
    },
    "language_info": {
      "name": "python"
    }
  },
  "nbformat": 4,
  "nbformat_minor": 0
}
