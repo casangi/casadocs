{
  "nbformat": 4,
  "nbformat_minor": 0,
  "metadata": {
    "colab": {
      "name": "image_visualization.ipynb",
      "provenance": [],
      "toc_visible": true
    }
  },
  "cells": [
    {
      "cell_type": "markdown",
      "metadata": {
        "id": "h14Ma5ydkunX"
      },
      "source": [
        "# Viewer End-of-Life\n",
        "\n",
        "The CASA Viewer, invoked by the tasks **imview**, **msview**, or **tclean** (*interactive=True*), has long been the workhorse visualization and analysis tool for images and image cubes made with CASA. However, currently the CASA Viewer is no longer supported, despite numerous Known Issues. The reasons for that are:\n",
        "\n",
        "- The CARTA visualization software has matured to the extent that it replaces most of the functionality of the CASA Viewer, in a much more modern software that is scalable to large data sets;\n",
        "\n",
        "- The Viewer cold is old and fragile, and would require too many development resources that are needed elsewhere.\n",
        "\n",
        "While a legacy version of the Viewer continues to be packaged with the Linux RHEL version of CASA for the moment, the Viewer has ceased to work on Mac OS ARM machines. As of CASA 6.6.5, the Viewer has therefore been removed from all Mac packages.\n"
      ]
    },
    {
      "cell_type": "markdown",
      "source": [
        "## Viewer on Mac\n",
        "\n",
        "The CASA Viewer no longer launches on Mac OS 13 and 14 machines that run on ARM chips, returning the error: *Library not loaded: /System/Library/Frameworks/Carbon.framework/Versions/A/Frameworks/Print.framework/Versions/A/Print*.\n",
        "\n",
        "Therefore, the CASA Viewer is no longer included on ARM builds for OS 13 and 14. For CASA versions 6.5.6 - 6.6.4,the Mac OS 12 Intel version (including the Viewer) is known to work on OS 13, but not 14. As of CASA 6.6.5, the Viewer has been removed alltogether for all Mac OS builds (OS 12+).\n",
        "\n",
        "For all image and image cube visualization, please use the CARTA visualization software: https://cartavis.org/. CARTA does not support interactive tclean, but an interactive tclean widget is under development, with a beta version offered in CASA 6.6.5. See below for details.\n"
      ],
      "metadata": {
        "id": "e5qNECFPySz4"
      }
    },
    {
      "cell_type": "markdown",
      "source": [
        "## CARTA\n",
        "\n",
        "CARTA is the *Cube Analysis and Rendering Tool for Astronomy*, new image visualization and analysis tool designed for the [ALMA](https://www.almaobservatory.org/en/home/), the [VLA](https://science.nrao.edu/facilities/vla), and the [SKA pathfinders](https://www.skatelescope.org/).\n",
        "\n",
        "CARTA is a separate, external application and not directly integrated with CASA. CARTA offers most of the functionality of the CASA Viewer, and has additional advantages and functionality. More details can be found on the dedicated [CARTA page](../notebooks/carta.ipynb) in CASA Docs.\n",
        "\n",
        "We refer to the official [CARTA website](https://cartavis.org) for download and installation instructions, as well as a proper set of documentation.\n",
        "\n"
      ],
      "metadata": {
        "id": "0rsjdVFsyWaH"
      }
    },
    {
      "cell_type": "markdown",
      "source": [
        "## Interactive tclean widget\n",
        "\n",
        "CARTA does not offer functionality for interactive tclean. Therefore, tclean will not work in interactive mode on Mac OS (except for the Mac OS 12 Intel version up to CASA 6.6.4).\n",
        "\n",
        "The CASA team has worked on developing a new widget for interactive tclean. This widget is an integrated part of the CASA software, but it is run as stand-alone application.\n",
        "\n",
        "(...give some summary of the widget, or refer to other page on CASA Docs...)\n",
        "\n",
        "CASA 6.6.5 is the first CASA version with a beta version of the interactive tclean widget. We welcome feedback from users at casa-feedback@nrao.edu."
      ],
      "metadata": {
        "id": "QZoga81GyjWP"
      }
    }
  ]
}