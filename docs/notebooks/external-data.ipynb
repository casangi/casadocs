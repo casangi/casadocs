{
  "nbformat": 4,
  "nbformat_minor": 0,
  "metadata": {
    "colab": {
      "name": "external-data.ipynb",
      "provenance": [],
      "collapsed_sections": [],
      "toc_visible": true
    },
    "kernelspec": {
      "display_name": "Python 3",
      "language": "python",
      "name": "python3"
    },
    "language_info": {
      "codemirror_mode": {
        "name": "ipython",
        "version": 3
      },
      "file_extension": ".py",
      "mimetype": "text/x-python",
      "name": "python",
      "nbconvert_exporter": "python",
      "pygments_lexer": "ipython3",
      "version": "3.8.3"
    }
  },
  "cells": [
    {
      "cell_type": "markdown",
      "metadata": {
        "id": "opyy0g0TPNzF"
      },
      "source": [
        "# External Data\n",
        "\n",
        "Each CASA distribution requires a runtime configuration and minimal repository of binary data for CASA to function properly. This is contained in the [**casaconfig repository**](https://github.com/casangi/casaconfig) and bundled in to a [**casaconfig package**](https://pypi.org/project/casaconfig/) for modular CASA. The repository includes Measures Tables that deal with the Earth Orientation Parameters (EOPs), ephemeris data, antenna configurations, beam models, and calibration corrections, along with a default configuration file that properly sets up and maintains the data repository contents. \n"
      ]
    },
    {
      "cell_type": "code",
      "metadata": {
        "id": "quxF3XUv8RGx"
      },
      "source": [
        "# this page contains live examples of casa usage from the following installation\n",
        "!pip install casaconfig==0.0.12  > /dev/null\n",
        "!pip install casatools==6.3.0.48 > /dev/null\n",
        "!pip install python-casacore==3.4.0 >/dev/null"
      ],
      "execution_count": 1,
      "outputs": []
    },
    {
      "cell_type": "markdown",
      "metadata": {
        "id": "ZNn9HVDZ5hzZ"
      },
      "source": [
        "## Locating the Data Directory\n",
        "\n",
        "The casaconfig package contains an internal ```__data__``` subdirectory to hold the repository tables.\n"
      ]
    },
    {
      "cell_type": "code",
      "metadata": {
        "colab": {
          "base_uri": "https://localhost:8080/"
        },
        "id": "qGSIqBtl77rC",
        "outputId": "f5bedf18-b4f9-430d-933a-67fa9ec25a63"
      },
      "source": [
        "# get the location of the data directory within the installation package\n",
        "from casaconfig import get_data_dir\n",
        "print(get_data_dir())"
      ],
      "execution_count": 2,
      "outputs": [
        {
          "output_type": "stream",
          "name": "stdout",
          "text": [
            "/usr/local/lib/python3.7/dist-packages/casaconfig/__data__/\n"
          ]
        }
      ]
    },
    {
      "cell_type": "code",
      "metadata": {
        "colab": {
          "base_uri": "https://localhost:8080/"
        },
        "id": "omjQe3yC92Bx",
        "outputId": "71569aa4-ed75-4134-a133-35ddb142da82"
      },
      "source": [
        "# see what's in it\n",
        "!ls /usr/local/lib/python3.7/dist-packages/casaconfig/__data__/"
      ],
      "execution_count": 3,
      "outputs": [
        {
          "output_type": "stream",
          "name": "stdout",
          "text": [
            "README.txt\n"
          ]
        }
      ]
    },
    {
      "cell_type": "markdown",
      "metadata": {
        "id": "pxjbmbO1-s8j"
      },
      "source": [
        "The initial installation of the casaconfig package leaves the ```__data__``` folder empty.  This is because the data tables are quite large and not suitable for Python package distribution. The ```__data__``` folder must be populated after installation (not necessary with monolithic casa tarball which already has the data populated)."
      ]
    },
    {
      "cell_type": "code",
      "metadata": {
        "colab": {
          "base_uri": "https://localhost:8080/"
        },
        "id": "_Qj5LjFK_Ow0",
        "outputId": "0466688a-da26-4e17-fead-c10204dc1d0a"
      },
      "source": [
        "# populate the installation __data__ folder\n",
        "from casaconfig import pull_data\n",
        "pull_data()\n",
        "\n",
        "!ls /usr/local/lib/python3.7/dist-packages/casaconfig/__data__/"
      ],
      "execution_count": 4,
      "outputs": [
        {
          "output_type": "stream",
          "name": "stdout",
          "text": [
            "Downloading data contents...\n",
            "alma\t  demo\t       ephemerides  gui   README.txt\n",
            "catalogs  dish_models  geodetic     nrao  telescope_layout\n"
          ]
        }
      ]
    },
    {
      "cell_type": "code",
      "metadata": {
        "colab": {
          "base_uri": "https://localhost:8080/"
        },
        "id": "hJDIRVNpExxE",
        "outputId": "11cd0156-aa96-48ff-9c8c-fedbff493784"
      },
      "source": [
        "# populate some custom location with the data folder contents\n",
        "pull_data('./casadata')\n",
        "\n",
        "!ls ./casadata"
      ],
      "execution_count": 5,
      "outputs": [
        {
          "output_type": "stream",
          "name": "stdout",
          "text": [
            "Downloading data contents...\n",
            "alma\t  demo\t       ephemerides  gui   telescope_layout\n",
            "catalogs  dish_models  geodetic     nrao\n"
          ]
        }
      ]
    },
    {
      "cell_type": "markdown",
      "metadata": {
        "id": "LC_zralMLSwO"
      },
      "source": [
        "<div class=\"alert alert-warning\">\n",
        "**WARNING**: If you are using python-casacore directly (outside of CASA), you will need to set your .casarc file to point to wherever you installed casaconfig and/or populated a data folder\n",
        "</div>"
      ]
    },
    {
      "cell_type": "code",
      "metadata": {
        "colab": {
          "base_uri": "https://localhost:8080/"
        },
        "id": "NrhL8RgGLidD",
        "outputId": "8de6d4cd-6a48-43cb-8917-679e23d29f72"
      },
      "source": [
        "# tell casacore where to find casaconfig\n",
        "from casaconfig import set_casacore_path\n",
        "data_path = get_data_dir()\n",
        "set_casacore_path(data_path)\n",
        "\n",
        "!more ~/.casarc"
      ],
      "execution_count": 6,
      "outputs": [
        {
          "output_type": "stream",
          "name": "stdout",
          "text": [
            "writing /root/.casarc...\n",
            "measures.directory: /usr/local/lib/python3.7/dist-packages/casaconfig/__data__\n"
          ]
        }
      ]
    },
    {
      "cell_type": "markdown",
      "metadata": {
        "id": "oNpBcSWx1f-a"
      },
      "source": [
        "## Updating the Data Directory\n",
        "\n",
        "Most of the data tables (such as beam models, antenna and Jy/K correction tables, and the antenna configuration files for the CASA simulator) are versioned by CASA release and do not need to change. However, the **Casacore Measures** tables (ie *geodetic* subdirectory) must be updated frequently after release.\n",
        "\n",
        "It is important to know what version/date of Measures data is currently populated. This can be done by examining the *readme.txt* file in the geodetic subdirectory."
      ]
    },
    {
      "cell_type": "code",
      "metadata": {
        "colab": {
          "base_uri": "https://localhost:8080/"
        },
        "id": "kPRpxlP29h_i",
        "outputId": "aac05c83-d42a-41e8-f3e4-d33f5efe281d"
      },
      "source": [
        "!cat /usr/local/lib/python3.7/dist-packages/casaconfig/__data__/geodetic/readme.txt"
      ],
      "execution_count": 7,
      "outputs": [
        {
          "output_type": "stream",
          "name": "stdout",
          "text": [
            "# measures data populated by casaconfig\n",
            "version : WSRT_Measures_20211102-160001.ztar\n",
            "date : 2021-11-02"
          ]
        }
      ]
    },
    {
      "cell_type": "markdown",
      "metadata": {
        "id": "SpJ676i89ieR"
      },
      "source": [
        "Alternatively, the IERSPredict table has a version field."
      ]
    },
    {
      "cell_type": "code",
      "metadata": {
        "colab": {
          "base_uri": "https://localhost:8080/"
        },
        "id": "PHskU7QYJY-6",
        "outputId": "0080cbb3-2dca-47e7-8d0c-1d7abcc49228"
      },
      "source": [
        "# view the current measures data date\n",
        "from casaconfig import table_open\n",
        "xds = table_open('/usr/local/lib/python3.7/dist-packages/casaconfig/__data__/geodetic/IERSpredict')\n",
        "\n",
        "print(xds.attrs['vs_date'])"
      ],
      "execution_count": 8,
      "outputs": [
        {
          "output_type": "stream",
          "name": "stdout",
          "text": [
            "2021/11/02/15:00\n"
          ]
        }
      ]
    },
    {
      "cell_type": "markdown",
      "metadata": {
        "id": "xSofTnU7_KdF"
      },
      "source": [
        "The ```measures_update()``` function is used download new measures data from the originating source. By default, this function will retrieve the latest data.  If you already have the latest data, then nothing will happen."
      ]
    },
    {
      "cell_type": "code",
      "metadata": {
        "colab": {
          "base_uri": "https://localhost:8080/"
        },
        "id": "UPi_xwWLNF1m",
        "outputId": "fa8c8cf0-fd61-456d-d193-443be9e688f7"
      },
      "source": [
        "from casaconfig import measures_update\n",
        "measures_update()\n",
        "!cat /usr/local/lib/python3.7/dist-packages/casaconfig/__data__/geodetic/readme.txt"
      ],
      "execution_count": 9,
      "outputs": [
        {
          "output_type": "stream",
          "name": "stdout",
          "text": [
            "current measures detected, using version WSRT_Measures_20211102-160001.ztar\n",
            "# measures data populated by casaconfig\n",
            "version : WSRT_Measures_20211102-160001.ztar\n",
            "date : 2021-11-02"
          ]
        }
      ]
    },
    {
      "cell_type": "markdown",
      "metadata": {
        "id": "ZfA2Yi7e-70d"
      },
      "source": [
        "Specific versions of past measures data can be retrieved as well. This may be important if trying to exactly replicate the conditions of a particular data reduction run in CASA.  Generally though the measures data is appended with time, so past and current versions should have the same values at the same points in time (see later section of casacore measures data contents)."
      ]
    },
    {
      "cell_type": "code",
      "metadata": {
        "colab": {
          "base_uri": "https://localhost:8080/"
        },
        "id": "3IW0yLb3JJ_F",
        "outputId": "e35e6669-615a-4191-be47-8dc14e5ec57a"
      },
      "source": [
        "# see if something newer is available\n",
        "from casaconfig import measures_available\n",
        "versions = measures_available()\n",
        "\n",
        "print(versions[-3:])"
      ],
      "execution_count": 10,
      "outputs": [
        {
          "output_type": "stream",
          "name": "stdout",
          "text": [
            "['WSRT_Measures_20211031-160001.ztar', 'WSRT_Measures_20211101-160001.ztar', 'WSRT_Measures_20211102-160001.ztar']\n"
          ]
        }
      ]
    },
    {
      "cell_type": "code",
      "metadata": {
        "colab": {
          "base_uri": "https://localhost:8080/"
        },
        "id": "l6DNGCAgANJO",
        "outputId": "df483206-1e67-4a86-ed94-3eb4fee48cb8"
      },
      "source": [
        "# retrieve a version from a while back\n",
        "measures_update(version=versions[-10], force=True)\n",
        "!cat /usr/local/lib/python3.7/dist-packages/casaconfig/__data__/geodetic/readme.txt"
      ],
      "execution_count": 11,
      "outputs": [
        {
          "output_type": "stream",
          "name": "stdout",
          "text": [
            "connecting to ftp.astron.nl ...\n",
            "downloading data from ASTRON server ...\n",
            "# measures data populated by casaconfig\n",
            "version : WSRT_Measures_20211024-160001.ztar\n",
            "date : 2021-11-02"
          ]
        }
      ]
    },
    {
      "cell_type": "markdown",
      "metadata": {
        "id": "5lZ1JhxThtbL"
      },
      "source": [
        "## Split Data Locations\n",
        "\n",
        "Often times with site installations of CASA, it is convenient to leave a bulk of the data contents in a single shared location that is write-protected.  At runtime, users can pull the latest Measures data (small) to their local CASA working directory.  This scheme gives users complete control over what version / update frequency of Measures data they prefer without the inefficiency of storing copies of the complete casaconfig data contents for every user.\n",
        "\n",
        "To make use of this, we need to split the location of the measures data (i.e. geodetic folder) from the rest of the casaconfig data contents.  Let's assume we've configured CASA to look for data in two locations: \n",
        "\n",
        "1. The default casaconfig package installation location\n",
        "2. A local folder in each users home directory (```./my_local_data```) "
      ]
    },
    {
      "cell_type": "code",
      "metadata": {
        "colab": {
          "base_uri": "https://localhost:8080/"
        },
        "id": "_asI--NtkYMS",
        "outputId": "fbac8e16-36e4-4470-9c42-8593c1d57ee1"
      },
      "source": [
        "# SYSTEM ADMIN - one-time setup of the package installation folder\n",
        "from casaconfig import pull_data\n",
        "pull_data()"
      ],
      "execution_count": 12,
      "outputs": [
        {
          "output_type": "stream",
          "name": "stdout",
          "text": [
            "Downloading data contents...\n"
          ]
        }
      ]
    },
    {
      "cell_type": "code",
      "metadata": {
        "colab": {
          "base_uri": "https://localhost:8080/"
        },
        "id": "zIjALvOZkti3",
        "outputId": "db65fd84-6f32-491f-8211-7ab34c450435"
      },
      "source": [
        "# USERS - every time you run CASA\n",
        "from casaconfig import measures_update\n",
        "measures_update('./my_local_data')"
      ],
      "execution_count": 13,
      "outputs": [
        {
          "output_type": "stream",
          "name": "stdout",
          "text": [
            "connecting to ftp.astron.nl ...\n",
            "downloading data from ASTRON server ...\n"
          ]
        }
      ]
    },
    {
      "cell_type": "markdown",
      "metadata": {
        "id": "IGVK8dvQDywx"
      },
      "source": [
        "Now we have the large static data stored with the package installation, and the small measures data stored in a user writeable location for regular updates."
      ]
    },
    {
      "cell_type": "code",
      "metadata": {
        "colab": {
          "base_uri": "https://localhost:8080/"
        },
        "id": "wM1dEWCalU23",
        "outputId": "939c8be3-dc70-4f8c-e96a-2b1d6ba5ce29"
      },
      "source": [
        "!du -h -d 0 /usr/local/lib/python3.7/dist-packages/casaconfig/__data__\n",
        "!du -h -d 0 ./my_local_data"
      ],
      "execution_count": 14,
      "outputs": [
        {
          "output_type": "stream",
          "name": "stdout",
          "text": [
            "543M\t/usr/local/lib/python3.7/dist-packages/casaconfig/__data__\n",
            "26M\t./my_local_data\n"
          ]
        }
      ]
    },
    {
      "cell_type": "markdown",
      "metadata": {
        "id": "vjAMRIbL4zZz"
      },
      "source": [
        "## Default Configuration"
      ]
    },
    {
      "cell_type": "markdown",
      "metadata": {
        "id": "iJLUJODR2iXb"
      },
      "source": [
        "A default configuration file is included in casaconfig that sets up split data locations (as described in the preceding section), and automatically updates the measures data each time CASA is run.  This file can be retrieved and saved to the users home directory. From there, users can modify as desired to change default values, print/log additional information, etc.\n"
      ]
    },
    {
      "cell_type": "code",
      "metadata": {
        "colab": {
          "base_uri": "https://localhost:8080/"
        },
        "id": "dRW8lj4tGVr6",
        "outputId": "0069b618-b1e7-4069-a82e-fbac85675fcf"
      },
      "source": [
        "from casaconfig import write_default_config\n",
        "\n",
        "write_default_config('~/.casa/config.py')\n",
        "\n",
        "!cat ~/.casa/config.py"
      ],
      "execution_count": 15,
      "outputs": [
        {
          "output_type": "stream",
          "name": "stdout",
          "text": [
            "import os\n",
            "import time\n",
            "import sys\n",
            "import pkg_resources\n",
            "from casaconfig import measures_update, pull_data\n",
            "\n",
            "\n",
            "########################################################################\n",
            "## Setup the runtime operation data directories\n",
            "########################################################################\n",
            "datapath = [pkg_resources.resource_filename('casaconfig', '__data__/')]\n",
            "rundata = os.path.expanduser(\"~/.casa/measures\")\n",
            "\n",
            "########################################################################\n",
            "## Define the logfile naming scheme\n",
            "########################################################################\n",
            "logfile='casalog_%s.log' % time.strftime(\"%Y-%m-%d\", time.localtime())\n",
            "\n",
            "########################################################################\n",
            "## Define what happens when CASA starts\n",
            "########################################################################\n",
            "## execute only when casatools is initialized\n",
            "if __name__.startswith('casatool'):\n",
            "    from casatools import logsink\n",
            "    logger = logsink(logfile)\n",
            "\n",
            "    ########################################################################\n",
            "    ## Default startup log information\n",
            "    ########################################################################\n",
            "    logger.post('########################################################################', 'INFO')\n",
            "    logger.post('Using default config.py from casaconfig', 'INFO')\n",
            "    logger.post('python version %s' % sys.version, 'INFO')\n",
            "    logger.post('########################################################################', 'INFO')\n",
            "\n",
            "    ########################################################################\n",
            "    ## Create a ~/.casa folder if not already present\n",
            "    ########################################################################\n",
            "    if not os.path.exists(os.path.expanduser(\"~/.casa\")):\n",
            "        os.system('mkdir %s' % os.path.expanduser(\"~/.casa\"))\n",
            "\n",
            "    ########################################################################\n",
            "    ## populate the operational __data__ folder if empty\n",
            "    ########################################################################\n",
            "    if len(os.listdir(datapath[0])) == 1:\n",
            "        pull_data(datapath[0], logger=logger)\n",
            "\n",
            "    ########################################################################\n",
            "    ## update the IERS measures data if not already done today\n",
            "    ########################################################################\n",
            "    measures_update(rundata, logger=logger)\n",
            "\n",
            "\n",
            "########################################################################\n",
            "## Rest of the default CASA configuration parameters\n",
            "########################################################################\n",
            "telemetry_enabled = True\n",
            "crashreporter_enabled = True\n",
            "nologfile = False\n",
            "log2term = True\n",
            "nologger = True\n",
            "nogui = False\n",
            "colors = \"LightBG\"\n",
            "agg = False\n",
            "pipeline = False\n",
            "iplog = True\n",
            "user_site = False\n",
            "telemetry_log_directory = os.path.expanduser(\"~/.casa/telemetry\")\n",
            "telemetry_log_limit = 1650\n",
            "telemetry_log_size_interval = 30\n",
            "telemetry_submit_interval = 20\n",
            "\n"
          ]
        }
      ]
    },
    {
      "cell_type": "markdown",
      "metadata": {
        "id": "4PuV_Bob_o4V"
      },
      "source": [
        "This config.py file is executed when casatools is initially imported. We can verify that the proper locations were found."
      ]
    },
    {
      "cell_type": "code",
      "metadata": {
        "colab": {
          "base_uri": "https://localhost:8080/"
        },
        "id": "BOQWbkUU_4JS",
        "outputId": "09d12e67-a4b4-443b-992e-70fd8c7a0208"
      },
      "source": [
        "from casatools import ctsys\n",
        "\n",
        "print(ctsys.getpath())"
      ],
      "execution_count": 16,
      "outputs": [
        {
          "output_type": "stream",
          "name": "stdout",
          "text": [
            "connecting to ftp.astron.nl ...\n",
            "downloading data from ASTRON server ...\n",
            "['/usr/local/lib/python3.7/dist-packages/casaconfig/__data__', '/root/.casa/measures']\n"
          ]
        }
      ]
    },
    {
      "cell_type": "markdown",
      "metadata": {
        "id": "xxv4utFAnU37"
      },
      "source": [
        "## Data Directory Contents"
      ]
    },
    {
      "cell_type": "markdown",
      "metadata": {
        "id": "sppg8uqtPNzP"
      },
      "source": [
        "### Casacore Measures\n",
        "\n",
        "The casacore Measures tables are needed to perform accurate conversions of reference frames.  Casacore infrastructure includes classes to handle physical quantities with a reference frame, so-called *Measures*. Each type of Measure has its own distinct class in casacore which is derived from the Measure base class. One of the main functionalilties provided by casacore w.r.t. Measures, is the conversion of Measures from one reference frame to another using the MeasConvert classes.\n",
        "\n",
        "Many of the spectral, spatial, and time reference frames are time-dependent and require the knowledge of the outcome of ongoing monitoring measurements of properties of the Earth and astronomical objects by certain service observatories. This data is tabulated in a number of tables (*Measures Tables*) which are stored in the casadata repository in the subdirectory ```geodetic```. A snapshot of this repository is included in each tarball distribution of CASA and in the casadata module for CASA6+.\n",
        "\n",
        "Measures tables are updated daily based on the refinement of the geodetic information from the relevant services like the International Earth Rotation and Reference Systems Service (IERS). Strictly speaking, the Measures tables are part of the casacore infrastructure which is developed by NRAO, ESO, NAOJ, CSIRO, and ASTRON. In order to keep the repository consistent between the partners, the Measures tables are initially created at a single institution (ASTRON) and then copied into the NRAO casadata repository from which all CASA users can retrieve them. As of March 2020, the update of the NRAO CASA copy of the Measures tables in ```geodetic``` and the planetary ephemerides in directory ```ephemerides``` takes place every day between 18 h UTC and 19 h UTC via two redundant servers at ESO (Garching).\n",
        "\n",
        "**CASA releases need to be updated with recent Measures tables** (see [above](#Updating-the-Data-Directory)).  For observatory use, the update period should not be longer than weekly in order to have the EOPs up-to-date for upcoming observations. The shortest reasonable update interval is daily. For offline data analysis use, the update period should not be longer than monthly. Weekly update is recommended. \n",
        "\n",
        "Legacy installations processing old data do not have to be updated because the relevant contents of the Measures Tables is not changing anymore for the more distant past.\n",
        "\n",
        "The following list describes the individual Tables in subdirectory ```geodetic```:\n",
        "\n",
        "* **IERSeop2000:**    The IERS EOP2000C04_05 Earth Orientation Parameters \n",
        "using the precession/nutation model \\\"IAU2000\\\" (files eopc04_IAU2000.xx)\n",
        "* **IERSeop97**:    The IERS EOPC04_05 Earth Orientation Parameters using the precession/nutation model \\\"IAU 1980\\\" (files eopc04.xx)\n",
        "* **IERSpredict:** IERS Earth Orientation Data predicted from NEOS (from file <ftp://ftp.iers.org/products/eop/rapid/daily/finals.daily>)\n",
        "* **IGRF:**    International Geomagnetic Reference Field Schmidt [semi-normalised spherical harmonic coefficients](https://www.ngdc.noaa.gov/IAGA/vmod/coeffs/). (Note that this still uses IGRF12. An update to IGRF13 is underway.)\n",
        "* IMF (not a Measures Table proper, access not integreated in Measures framework):    Historical interplanetary magnetic field data until MJD 52618 (December 2002).\n",
        "* KpApF107 (not a Measures Table proper, access not integreated in Measures framework): Historical geomagnetic and solar activity indices until MJD 54921 (April 2009)\n",
        "* **Observatories:** Table of the official locations of radio observatories. Maintained by the CASA consortium.\n",
        "* SCHED_locations (not a Measures Table proper, access not integreated in Measures framework):    VLBI station locations\n",
        "* **TAI_UTC:** TAI_UTC difference (i.e. leap second information) obtained from USNO\n",
        "\n",
        "\n",
        "Measures Tables in the directory ```ephemerides```:\n",
        "\n",
        "* **DE200**:    Historical JPL Planetary ephemeris DE200 used for Astronomical Almanach from 1984 to 2003 (from <ftp://ssd.jpl.nasa.gov/pub/eph/planets/ascii/de200>)\n",
        "* **DE405**:    JPL Planetary ephemeris DE405; includes nutations and librations; referred to the ICRS (from <ftp://ssd.jpl.nasa.gov/pub/eph/planets/ascii/de405>)\n",
        "\n"
      ]
    },
    {
      "cell_type": "markdown",
      "metadata": {
        "id": "p8I27Zj8o5M3"
      },
      "source": [
        "We can open and inspect the contents of measures geodetic data directory using the casaconfig ```table_open``` function.  This returns an [**xarray dataset**](http://xarray.pydata.org/en/stable/user-guide/terminology.html) object (abbreviated as xds)."
      ]
    },
    {
      "cell_type": "code",
      "metadata": {
        "colab": {
          "base_uri": "https://localhost:8080/"
        },
        "id": "HEFdmKZYpmpj",
        "outputId": "e5f6375e-a712-4648-debe-2768b6a11557"
      },
      "source": [
        "from casaconfig import table_open, get_data_dir\n",
        "xds = table_open(get_data_dir()+'/geodetic/IERSpredict')\n",
        "\n",
        "print(xds)"
      ],
      "execution_count": 17,
      "outputs": [
        {
          "output_type": "stream",
          "name": "stdout",
          "text": [
            "<xarray.Dataset>\n",
            "Dimensions:  (d0: 812)\n",
            "Dimensions without coordinates: d0\n",
            "Data variables: (12/13)\n",
            "    MJD      (d0) float64 5.88e+04 5.88e+04 5.88e+04 ... 5.961e+04 5.961e+04\n",
            "    X        (d0) float64 0.1556 0.1544 0.1532 ... 0.01948 0.01933 0.01881\n",
            "    DX       (d0) float64 1.9e-05 3e-05 3e-05 ... 0.0083 0.007911 0.007883\n",
            "    Y        (d0) float64 0.275 0.275 0.275 0.275 ... 0.3144 0.3157 0.3176\n",
            "    DY       (d0) float64 2.1e-05 2.4e-05 2.6e-05 ... 0.01049 0.0103 0.01044\n",
            "    DUT1     (d0) float64 -0.1629 -0.1634 -0.1639 ... -0.09822 -0.09752 -0.09703\n",
            "    ...       ...\n",
            "    LOD      (d0) float64 0.0005854 0.0004804 0.0003702 ... 0.0 0.0 0.0\n",
            "    DLOD     (d0) float64 2.7e-06 4.3e-06 3e-06 3.3e-06 ... 0.0 0.0 0.0 0.0\n",
            "    DPSI     (d0) float64 -112.4 -112.5 -112.5 -112.3 -112.1 ... 0.0 0.0 0.0 0.0\n",
            "    DDPSI    (d0) float64 0.174 0.086 0.086 0.086 0.081 ... 0.0 0.0 0.0 0.0 0.0\n",
            "    DEPS     (d0) float64 -7.223 -7.307 -7.465 -7.583 -7.617 ... 0.0 0.0 0.0 0.0\n",
            "    DDEPS    (d0) float64 0.183 0.26 0.26 0.26 0.272 ... 0.0 0.0 0.0 0.0 0.0\n",
            "Attributes: (12/20)\n",
            "    vs_create:    2020/02/10/03:00\n",
            "    vs_date:      2021/11/02/15:00\n",
            "    vs_version:   0623.0630\n",
            "    vs_type:      IERS Earth Orientation Data predicted from NEOS\n",
            "    tab_version:  0002.0000\n",
            "    mjd0:         58798.0\n",
            "    ...           ...\n",
            "    lod_unit:     s\n",
            "    dlod_unit:    s\n",
            "    dpsi_unit:    arcsec\n",
            "    ddpsi_unit:   arcsec\n",
            "    deps_unit:    arcsec\n",
            "    ddeps_unit:   arcsec\n"
          ]
        }
      ]
    },
    {
      "cell_type": "code",
      "metadata": {
        "colab": {
          "base_uri": "https://localhost:8080/",
          "height": 296
        },
        "id": "DTc-iJCYq4Tf",
        "outputId": "6bb531f3-9572-476f-815b-15b2cabff725"
      },
      "source": [
        "xds.plot.scatter('MJD','DX')"
      ],
      "execution_count": 18,
      "outputs": [
        {
          "output_type": "execute_result",
          "data": {
            "text/plain": [
              "<matplotlib.collections.PathCollection at 0x7f4bb949ac50>"
            ]
          },
          "metadata": {},
          "execution_count": 18
        },
        {
          "output_type": "display_data",
          "data": {
            "image/png": "[encoded data removed]",
            "text/plain": [
              "<Figure size 432x288 with 1 Axes>"
            ]
          },
          "metadata": {
            "needs_background": "light"
          }
        }
      ]
    },
    {
      "cell_type": "code",
      "metadata": {
        "colab": {
          "base_uri": "https://localhost:8080/",
          "height": 296
        },
        "id": "rD4P5RUPqsJy",
        "outputId": "bf7de995-4159-4aa9-9675-f48f7144da39"
      },
      "source": [
        "xds.plot.scatter('MJD','DUT1')"
      ],
      "execution_count": 19,
      "outputs": [
        {
          "output_type": "execute_result",
          "data": {
            "text/plain": [
              "<matplotlib.collections.PathCollection at 0x7f4bb94d32d0>"
            ]
          },
          "metadata": {},
          "execution_count": 19
        },
        {
          "output_type": "display_data",
          "data": {
            "image/png": "[encoded data removed]",
            "text/plain": [
              "<Figure size 432x288 with 1 Axes>"
            ]
          },
          "metadata": {
            "needs_background": "light"
          }
        }
      ]
    },
    {
      "cell_type": "markdown",
      "metadata": {
        "id": "cHn7dpOqrKPR"
      },
      "source": [
        "Observe how the ```IERSpredict``` table updates over time"
      ]
    },
    {
      "cell_type": "code",
      "metadata": {
        "colab": {
          "base_uri": "https://localhost:8080/",
          "height": 364
        },
        "id": "2nCB03aLrTCU",
        "outputId": "53f7ae07-f137-4c80-a862-81a8ffadfd8e"
      },
      "source": [
        "from casaconfig import measures_update, measures_available\n",
        "versions = measures_available()\n",
        "measures_update('./older_measures', version=versions[0], force=True)\n",
        "measures_update('./newer_measures', version=versions[-1], force=True)\n",
        "old_xds = table_open('./older_measures/geodetic/IERSpredict')\n",
        "new_xds = table_open('./newer_measures/geodetic/IERSpredict')\n",
        "new_xds.DX[200:].plot()\n",
        "old_xds.DX[200:].plot()"
      ],
      "execution_count": 21,
      "outputs": [
        {
          "output_type": "stream",
          "name": "stdout",
          "text": [
            "connecting to ftp.astron.nl ...\n",
            "downloading data from ASTRON server ...\n",
            "connecting to ftp.astron.nl ...\n",
            "downloading data from ASTRON server ...\n"
          ]
        },
        {
          "output_type": "execute_result",
          "data": {
            "text/plain": [
              "[<matplotlib.lines.Line2D at 0x7f4bb8f33910>]"
            ]
          },
          "metadata": {},
          "execution_count": 21
        },
        {
          "output_type": "display_data",
          "data": {
            "image/png": "[encoded data removed]",
            "text/plain": [
              "<Figure size 432x288 with 1 Axes>"
            ]
          },
          "metadata": {
            "needs_background": "light"
          }
        }
      ]
    },
    {
      "cell_type": "markdown",
      "metadata": {
        "id": "-b51ThM4PNzT"
      },
      "source": [
        "### Ephemeris Data \n",
        "\n",
        "The ephemeris tables hold a selection of the solar system objects from JPL-Horizons database.  The data tables are generated from the JPL Horizons system\\'s on-line solar system data and ephemeris computation service ([https://ssd.jpl.nasa.gov/?horizons )](https://ssd.jpl.nasa.gov/?horizons \"JPL Horizons\"). These are primarily used to determine flux models for the solar system objects used in the **setjy** task.  These tables are stored as CASA tables in the casadata repository under ```ephemerides/JPL-Horizons```. The current ephemeris tables cover ephemerides until December 31, 2030 for those objects officially supported in **setjy**. \n",
        "\n",
        "Available objects, which include major planets, satellites, and asteroids, are: Mercury, **Venus**, **Mars**, **Jupiter**, Saturn, **Uranus**, **Neptune**, Pluto, **Io**, **Europa**, **Ganymede**, **Callisto**, **Titan**, **Ceres**, **Vesta**, **Pallas**, **Juno**, **Lutetia**, Sun and Moon (the objects in **bold** are those supported in \\'Butler-JPL-Horizons 2012\\' standard in **setjy**.). \n",
        "\n",
        "The format of the table name of these tables is *objectname*\\_*startMJD*\\_*endMJD*\\_J2000.tab These tables required by **setjy** task are included in the data directory in the CASA distribution. The available tables can be listed by the following commands:\n",
        "\n",
        "\n",
        "```\n",
        "#In CASA6\n",
        "\n",
        "CASA <1>: import glob\n",
        "\n",
        "CASA <2>: jpldatapath=os.getenv('CASAPATH').split(' ')[0]+'/data/ephemerides/JPL-Horizons/*J2000.tab'\n",
        "\n",
        "CASA <3>: glob.glob(jpldatapath)\n",
        "```\n",
        "\n",
        "The following data are retrieved from the JPL-Horizons system (the nubmer in the parentheses indicates the column number listed in the JPL-Horizons system). One should refer https://ssd.jpl.nasa.gov/?horizons_doc for the detailed descreption of each of these quantities.\n",
        "\n",
        "Quantities | column no. | Unit/format | Descrition | column label\n",
        "--- | --- | --- | --- | ---\n",
        "Date | n.a. | YYYY-MM-DD | HH:MM | Date\\_\\_(UT)\\_\\_HR:MN\n",
        "Astrometric RA & DEC | 1 | degrees | Astrometric RA and Dec with respect to the observer\\'s location (GEOCETRIC) | R.A.\\_(ICRF)\\_DEC\n",
        "Observer sub-long& sub-lat | 14 | degrees | Apparent planetodetic (\\\"geodetic\\\") longitude and latitude of the center of the target seen by the OBSERVER at print-time  | ob-lon, ob-lat\n",
        "Solar sub-long & sub-lat | 15 | degrees | Apparent planetodetic (\\\"geodetic\\\") longitude and latitude of the Sun seen by the OBSERVER at print-time | Sl-lon, Sl-lat\n",
        "North Pole Pos. ang. & dist. | 17 | degrees and arcseconds | Target\\'s North Pole position angle and angular distance from the \\\"sub-observer\\\" point | NP.ang, NP.ds\n",
        "Helio range & range rate | 19 | AU, km/s | Heliocentric range (r) and range-rate | (rdot) | r, rdot\n",
        "Observer range & range rate | 20 | AU, km/s | Range (delta) and range-rate (deldot) of the target center with respect to the observer | delta, dedot\n",
        "S-T-O angle | 24 | degrees | Sun-Target-Observer angle | S-T-O\n",
        "\n",
        "The script ```request.py``` (located  in casatasks.private for CASA6) can be used to retrieve the ephemeris data from the JPL-Horizons system via e-mail (See also [Manipulate Ephemeris Objects page](ephemeris_data.ipynb#Manipulate-Ephemeris-Objects \"Manipulate Ephemeris Objects\")). Further, the saved email text file is converted to a CASA table format using JPLephem_reader2.\n",
        "\n",
        "\n",
        "```\n",
        "#In CASA6\n",
        "\n",
        "CASA <5>: from casatasks.private import JPLephem_reader2 as jplreader\n",
        "\n",
        "CASA <6>: outdict = jplreader.readJPLephem('titan-jpl-horizons-ephem.eml')\n",
        "opened the file=titan-jpl-horizons-ephem.eml\n",
        "\n",
        "CASA <7>: jplreader.ephem_dict_to_table(outdict,'Titan_test_ephem.tab')\n",
        "Got nrows = 3653 from MJD\n",
        "```\n",
        "\n",
        "The converted table contains following columns.\n",
        "\n",
        "Column name | unit/format | description\n",
        "--- | --- | ---\n",
        "MJD | day | modified Julian date\n",
        "RA | degree | atrometric right acension in ICRF/J2000 frame\n",
        "DEC | degree | astrometric declination in ICRF/J2000 frame\n",
        "Rho | AU | Geocentric distance\n",
        "RadVal | AU/d | Geocentric distance rate\n",
        "NP_ang | degree | North pole position angle\n",
        "NP_dist | degree | North pole angular distance\n",
        "DiskLong | degree | Sub-observer longitude\n",
        "DiskLat | degree | Sub-observer latitude\n",
        "Sl_lon | degree | Sub-Solar longitude\n",
        "Sl_lat | degree | Sub-Solar latitude\n",
        "r | AU | heliocentric distance\n",
        "rdot | km/s | heliocentric distance rate\n",
        "phang | degree | phase angle\n",
        "\n",
        "\n"
      ]
    },
    {
      "cell_type": "markdown",
      "metadata": {
        "id": "dbT5e3_9PNzV"
      },
      "source": [
        "### Array Configuration\n",
        "\n",
        "Array configuration files for various telescopes are distributed with each CASA release. These configuration files can be used to define the telescope for simulator tools and tasks. Currently, configuration files for the following telescopes are available in CASA:\n",
        "\n",
        "-   ALMA / 12m Array\n",
        "-   ALMA / 7m ACA\n",
        "-   VLA\n",
        "-   VLBA\n",
        "-   Next-Generation VLA (reference design)\n",
        "-   ATCA\n",
        "-   MeerKat\n",
        "-   PdBI (pre-NOEMA)\n",
        "-   WSRT\n",
        "-   SMA\n",
        "-   Carma\n",
        "\n",
        "The full list of antenna configurations can be found in the [CASA Guides on Simulations](https://casaguides.nrao.edu/index.php?title=Antenna_Configurations_Models_in_CASA_Cycle6).\n",
        "\n",
        "One can also locate the directory with the configurations in the CASA distribution and then list the configuration files, using the following commands in CASA:\n",
        "\n",
        "```\n",
        "CASA <1>: print os.getenv('CASAPATH').split(' ')[0] + '/data/alma/simmos/'\n",
        "/home/casa/packages/RHEL7/release/casa-release-5.4.0-68/data/alma/simmos/\n",
        "\n",
        "CASA <2>: ls /home/casa/packages/RHEL6/release/casa-release-5.4.0-68/data/alma/simmos/\n",
        "```\n",
        "\n",
        "If a configuration file is not distributed with CASA but retrieved elsewhere, then the configuration file can be called by explicitly writing the full path to the location of the configuration file in the antennalist paramter of the simulator tasks.\n",
        "\n",
        "<div class=\"alert alert-info\">\n",
        "**NOTE**: the most recent ALMA configuration files may not always be available in the most recent CASA version. ALMA configuration files for all cycles are available for download [here](https://almascience.nrao.edu/tools/casa-simulator). For the Next-Generation VLA reference design, the latest information can be found [here](https://ngvla.nrao.edu/page/tools).\n",
        "</div>\n"
      ]
    },
    {
      "cell_type": "markdown",
      "metadata": {
        "id": "qqTv36T7S6cE"
      },
      "source": [
        "## Examples\n",
        "\n",
        "(**TBD** - put this in configuration section?)\n",
        "\n",
        "1. Site installation of monolithic CASA with separate shared casadata directory outside of installation location\n",
        "\n",
        "2. Individual installations of modular CASA pointing to shared casadata directory outside of installation location(s)\n"
      ]
    }
  ]
}