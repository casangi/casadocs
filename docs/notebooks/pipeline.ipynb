{
  "nbformat": 4,
  "nbformat_minor": 0,
  "metadata": {
    "colab": {
      "name": "pipeline.ipynb",
      "provenance": []
    }
  },
  "cells": [
    {
      "cell_type": "markdown",
      "metadata": {
        "id": "xPWd_p96arvV"
      },
      "source": [
        "# Pipeline \n",
        "\n",
        "The ALMA and VLA CASA pipelines are documented externally. Please see the follow the links below: \n",
        "\n",
        " \n",
        "[ALMA Science Pipeline ](https://almascience.nrao.edu/processing/science-pipeline)\n",
        "\n",
        "[VLA CASA Calibration Pipeline ](https://science.nrao.edu/facilities/vla/data-processing/pipeline)\n",
        "\n",
        "\n",
        "An external pipeline for CASA processing of data from the upgraded GMRT is supported by the National Centre for Radio Astrophysics, Tata Institute of Fundamental Research (NCRA-TIFR) in India, and can be found at the following link:\n",
        "\n",
        "[uMGRT CASA Interferometric Data Analysis Pipeline](http://www.ncra.tifr.res.in/~ruta/IDAP/index.html)\n"
      ]
    }
  ]
}