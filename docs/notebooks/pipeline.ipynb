{
  "nbformat": 4,
  "nbformat_minor": 0,
  "metadata": {
    "colab": {
      "name": "pipeline.ipynb",
      "provenance": []
    }
  },
  "cells": [
    {
      "cell_type": "markdown",
      "metadata": {
        "id": "xPWd_p96arvV"
      },
      "source": [
        "# Pipeline\n",
        "\n",
        "The ALMA and VLA CASA pipelines are documented externally. Please see the follow the links below:\n",
        "\n",
        "\n",
        "- [ALMA Science Pipeline ](https://almascience.nrao.edu/processing/science-pipeline)\n",
        "\n",
        "- [VLA CASA Calibration Pipeline ](https://science.nrao.edu/facilities/vla/data-processing/pipeline)\n",
        "\n",
        "\n",
        "## External pipelines\n",
        "\n",
        "External pipelines that rely on CASA include:\n",
        "\n",
        "- [uMGRT CASA Interferometric Data Analysis Pipeline](http://www.ncra.tifr.res.in/~ruta/IDAP/index.html)\n",
        "\n",
        "This is an external pipeline for CASA processing of data from the upgraded GMRT, which is supported by the National Centre for Radio Astrophysics, Tata Institute of Fundamental Research (NCRA-TIFR) in India.\n",
        "\n",
        "- [Automated Radio Telescope Imaging Pipeline (ARTIP)](https://mals.iucaa.in/)\n",
        "\n",
        "This MeerKAT pipeline is implemented by the Inter-University Centre for Astronomy and Astrophysics (IUCAA) in Pune, India. The ARTIP pipeline is used in the MeerKAT Absorption Line Survey (MALS), as described in [Gupta et al. (2021)](https://ui.adsabs.harvard.edu/abs/2021ApJ...907...11G/abstract).\n",
        "\n",
        "\n"
      ]
    }
  ]
}