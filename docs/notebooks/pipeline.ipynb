{
  "nbformat": 4,
  "nbformat_minor": 0,
  "metadata": {
    "colab": {
      "name": "pipeline.ipynb",
      "provenance": []
    }
  },
  "cells": [
    {
      "cell_type": "markdown",
      "metadata": {
        "id": "xPWd_p96arvV"
      },
      "source": [
        "# Pipeline \n",
        "\n",
        "Links to the ALMA and VLA pipeline Documentation Pages\n",
        "\n",
        "The ALMA and VLA CASA pipelines are documented externally. Please see the follow the links below: \n",
        "\n",
        " \n",
        "\n",
        "[ALMA Science Pipeline ](https://almascience.nrao.edu/processing/science-pipeline)\n",
        "\n",
        "[VLA CASA Calibration Pipeline ](https://science.nrao.edu/facilities/vla/data-processing/pipeline)"
      ]
    }
  ]
}