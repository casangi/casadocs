{
  "cells": [
    {
      "cell_type": "markdown",
      "metadata": {
        "id": "view-in-github",
        "colab_type": "text"
      },
      "source": [
        "<a href=\"https://colab.research.google.com/github/casangi/casadocs/blob/master/community/install_modular_casa_mac_arm.ipynb\" target=\"_parent\"><img src=\"https://colab.research.google.com/assets/colab-badge.svg\" alt=\"Open In Colab\"/></a>"
      ]
    },
    {
      "cell_type": "markdown",
      "id": "452b4e64-a579-4e5d-89fc-f4b453518642",
      "metadata": {
        "id": "452b4e64-a579-4e5d-89fc-f4b453518642"
      },
      "source": [
        "# Installing Modular CASA on Mac (M1/M2/M3) using Miniconda and Python 3.8\n",
        "\n",
        "<div class=\"alert alert-warning\">\n",
        "**DEPRECATION WARNING:** This Community Example has been deprecated as of CASA 6.6.5, where native ARM wheels were introduced. [Installation instructions for native Mac ARM builds](https://casadocs.readthedocs.io/en/stable/notebooks/introduction.html#id1) can be found in the most recent version of CASA Docs.\n",
        "</div>\n",
        "\n",
        "Original author: Travis Thieme (ASIAA)\n",
        "\n",
        "This is a small guide on how to install the Modular version of CASA (6.5.1.23 at time of writing). This was succesfully done on a Macbook Pro with the M3 Max chip and macOS 14.3."
      ]
    },
    {
      "cell_type": "markdown",
      "id": "7a110be2-79c1-4355-a5d9-0570adc35faf",
      "metadata": {
        "id": "7a110be2-79c1-4355-a5d9-0570adc35faf"
      },
      "source": [
        "### 1. Change and check the terminal architecture\n",
        "\n",
        "Since CASA has no native ARM version for the new Mac M1/M2/M3 processors, the modular installation of CASA is required to run on the x86_64 Intel architecture. Thus, you MUST use a Rosetta Terminal to access the x86_64 architecture on M1/M2/M3 Macs. Go to the location terminal app in the Finder app on your mac, right click and select \"Get Info\", then select the box labeled \"Open using Rosetta\". Close the terminal and reopen. You can then check the terminal architecture by running\n",
        "\n",
        "    username@MacBook-Pro % uname -m\n",
        "\n",
        "which should then return\n",
        "\n",
        "    x86_64\n",
        "\n",
        "if Rosetta is correctly running.\n",
        "    \n",
        "If it returns\n",
        "\n",
        "    arm64\n",
        "    \n",
        "then you are not running x86_64 architecture via Rosetta."
      ]
    },
    {
      "cell_type": "markdown",
      "id": "f43740fb-b098-45f9-a91b-a5116be9d6af",
      "metadata": {
        "id": "f43740fb-b098-45f9-a91b-a5116be9d6af"
      },
      "source": [
        "### 2. Get miniconda3 for MacOSX-x86_64\n",
        "\n",
        "<div class=\"alert alert-note\">\n",
        "**Note:** the Anaconda Distribution and the conda-compatible packages in the default channel are no longer free to use for organizations with more than 200 people (non-profits are not exempt from this rule). An alternative is to use miniforge and the conda-forge channel: https://github.com/conda-forge/miniforge\n",
        "</div>\n",
        "\n",
        "Download from https://repo.anaconda.com/miniconda/Miniconda3-latest-MacOSX-x86_64.sh and install to your desired location via\n",
        "\n",
        "    username@MacBook-Pro % sh ./Miniconda3-latest-MacOSX-x86_64.sh\n",
        "\n",
        "Just follow the installation instructions and specify the desired location where you want miniconda to go."
      ]
    },
    {
      "cell_type": "markdown",
      "id": "e443c834-01a0-4af7-8ca5-de6e4cda40fe",
      "metadata": {
        "id": "e443c834-01a0-4af7-8ca5-de6e4cda40fe"
      },
      "source": [
        "### 3. Create a new conda environment for Python 3.8\n",
        "\n",
        "    username@MacBook-Pro % conda create -n py38 python=3.8 anaconda\n",
        "    \n",
        "    Channels:\n",
        "     - defaults\n",
        "    Platform: osx-64\n",
        "    Collecting package metadata (repodata.json): done\n",
        "    Solving environment: done\n",
        "\n",
        "    ## Package Plan ##\n",
        "\n",
        "      environment location: /Users/username/path/to/miniconda3/envs/py38\n",
        "\n",
        "      added / updated specs:\n",
        "        - anaconda\n",
        "        - python=3.8\n",
        "        \n",
        "    ...(continued)...\n",
        "    \n",
        "**Note: it should specify Platform: osx-64, and not Platform: arm-64 or something like that.**"
      ]
    },
    {
      "cell_type": "markdown",
      "id": "6b5ec2a4-3612-4611-a5ff-b0149c483d44",
      "metadata": {
        "id": "6b5ec2a4-3612-4611-a5ff-b0149c483d44"
      },
      "source": [
        "### 4. Activate your conda environment\n",
        "\n",
        "    username@MacBook-Pro % conda activate py38"
      ]
    },
    {
      "cell_type": "markdown",
      "id": "d65c50e0-049f-4be1-a81f-3d93d3bf6203",
      "metadata": {
        "id": "d65c50e0-049f-4be1-a81f-3d93d3bf6203"
      },
      "source": [
        "### 5. Upgrade pip and wheel\n",
        "\n",
        "    username@MacBook-Pro % pip install --upgrade pip wheel"
      ]
    },
    {
      "cell_type": "markdown",
      "id": "e9d15d5b-6a5c-425b-b48e-28004c3fd3b8",
      "metadata": {
        "id": "e9d15d5b-6a5c-425b-b48e-28004c3fd3b8"
      },
      "source": [
        "### 6. Install casatools, casatasks and casadata (for minimum installation)\n",
        "\n",
        "    (py38) username@MacBook-Pro % arch -x86_64 python3 -m pip install casatools==6.5.1.23\n",
        "    (py38) username@MacBook-Pro % arch -x86_64 python3 -m pip install casatasks==6.5.1.23\n",
        "    (py38) username@MacBook-Pro % arch -x86_64 python3 -m pip install casadata==2024.1.15\n",
        "    \n",
        "You should now see the conda environment name before your username.\n",
        "\n",
        "**Note: casadata is required, I could not import casatasks without it.**"
      ]
    },
    {
      "cell_type": "markdown",
      "id": "09bdf30b-fd24-4d93-b25d-1bb55413b5d0",
      "metadata": {
        "tags": [],
        "id": "09bdf30b-fd24-4d93-b25d-1bb55413b5d0"
      },
      "source": [
        "### 7. Test the installation by importing into ipython\n",
        "\n",
        "    (py38) username@MacBook-Pro % ipython\n",
        "    \n",
        "    Python 3.8.18 (default, Sep 11 2023, 08:17:33)\n",
        "    Type 'copyright', 'credits' or 'license' for more information\n",
        "    IPython 8.12.2 -- An enhanced Interactive Python. Type '?' for help.\n",
        "\n",
        "    In [1]: from casatasks import immoments\n",
        "\n",
        "    In [2]:"
      ]
    },
    {
      "cell_type": "code",
      "execution_count": null,
      "id": "1bb4e08c-8b03-43a3-b2a8-83e7b472dac2",
      "metadata": {
        "id": "1bb4e08c-8b03-43a3-b2a8-83e7b472dac2"
      },
      "outputs": [],
      "source": []
    }
  ],
  "metadata": {
    "kernelspec": {
      "display_name": "Python 3 (ipykernel)",
      "language": "python",
      "name": "python3"
    },
    "language_info": {
      "codemirror_mode": {
        "name": "ipython",
        "version": 3
      },
      "file_extension": ".py",
      "mimetype": "text/x-python",
      "name": "python",
      "nbconvert_exporter": "python",
      "pygments_lexer": "ipython3",
      "version": "3.8.18"
    },
    "colab": {
      "provenance": [],
      "include_colab_link": true
    }
  },
  "nbformat": 4,
  "nbformat_minor": 5
}